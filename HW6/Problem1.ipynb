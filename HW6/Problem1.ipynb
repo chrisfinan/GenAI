{
  "cells": [
    {
      "cell_type": "markdown",
      "metadata": {
        "id": "view-in-github",
        "colab_type": "text"
      },
      "source": [
        "<a href=\"https://colab.research.google.com/github/chrisfinan/GenAI/blob/main/HW6/Problem1.ipynb\" target=\"_parent\"><img src=\"https://colab.research.google.com/assets/colab-badge.svg\" alt=\"Open In Colab\"/></a>"
      ]
    },
    {
      "cell_type": "markdown",
      "source": [
        "Chris Finan\n",
        "\n",
        "> 12/6/24\n",
        "\n",
        "> HW 6"
      ],
      "metadata": {
        "id": "jv49-98Z6Sp6"
      },
      "id": "jv49-98Z6Sp6"
    },
    {
      "cell_type": "markdown",
      "id": "b076bd1a-b236-4fbc-953d-8295b25122ae",
      "metadata": {
        "id": "b076bd1a-b236-4fbc-953d-8295b25122ae"
      },
      "source": [
        "# 🎶 Description"
      ]
    },
    {
      "cell_type": "markdown",
      "id": "9235cbd1-f136-411c-88d9-f69f270c0b96",
      "metadata": {
        "id": "9235cbd1-f136-411c-88d9-f69f270c0b96"
      },
      "source": [
        "* In this project, I will develop a music generation model using Transformers, specifically designed to generate new musical compositions in the style of Bach’s Cello Suites.\n",
        "\n",
        "* The main objective here is to explore the application of Transformer models to music generation and understand the steps necessary for preparing, training, and evaluating such a model."
      ]
    },
    {
      "cell_type": "markdown",
      "source": [
        "## 0. Transformer Utils, Import Statements, Mount Drive, and Parameters"
      ],
      "metadata": {
        "id": "aB42V_jF8h2x"
      },
      "id": "aB42V_jF8h2x"
    },
    {
      "cell_type": "code",
      "source": [
        "#@title transformer_utils.py\n",
        "\n",
        "import os\n",
        "import pickle as pkl\n",
        "import music21\n",
        "import keras\n",
        "import tensorflow as tf\n",
        "\n",
        "from fractions import Fraction\n",
        "\n",
        "\n",
        "def parse_midi_files(file_list, parser, seq_len, parsed_data_path=None):\n",
        "    notes_list = []\n",
        "    duration_list = []\n",
        "    notes = []\n",
        "    durations = []\n",
        "\n",
        "    for i, file in enumerate(file_list):\n",
        "        print(i + 1, \"Parsing %s\" % file)\n",
        "        score = parser.parse(file).chordify()\n",
        "\n",
        "        notes.append(\"START\")\n",
        "        durations.append(\"0.0\")\n",
        "\n",
        "        for element in score.flat:\n",
        "            note_name = None\n",
        "            duration_name = None\n",
        "\n",
        "            if isinstance(element, music21.key.Key):\n",
        "                note_name = str(element.tonic.name) + \":\" + str(element.mode)\n",
        "                duration_name = \"0.0\"\n",
        "\n",
        "            elif isinstance(element, music21.meter.TimeSignature):\n",
        "                note_name = str(element.ratioString) + \"TS\"\n",
        "                duration_name = \"0.0\"\n",
        "\n",
        "            elif isinstance(element, music21.chord.Chord):\n",
        "                note_name = element.pitches[-1].nameWithOctave\n",
        "                duration_name = str(element.duration.quarterLength)\n",
        "\n",
        "            elif isinstance(element, music21.note.Rest):\n",
        "                note_name = str(element.name)\n",
        "                duration_name = str(element.duration.quarterLength)\n",
        "\n",
        "            elif isinstance(element, music21.note.Note):\n",
        "                note_name = str(element.nameWithOctave)\n",
        "                duration_name = str(element.duration.quarterLength)\n",
        "\n",
        "            if note_name and duration_name:\n",
        "                notes.append(note_name)\n",
        "                durations.append(duration_name)\n",
        "        print(f\"{len(notes)} notes parsed\")\n",
        "\n",
        "    notes_list = []\n",
        "    duration_list = []\n",
        "\n",
        "    print(f\"Building sequences of length {seq_len}\")\n",
        "    for i in range(len(notes) - seq_len):\n",
        "        notes_list.append(\" \".join(notes[i : (i + seq_len)]))\n",
        "        duration_list.append(\" \".join(durations[i : (i + seq_len)]))\n",
        "\n",
        "    if parsed_data_path:\n",
        "        with open(os.path.join(parsed_data_path, \"notes\"), \"wb\") as f:\n",
        "            pkl.dump(notes_list, f)\n",
        "        with open(os.path.join(parsed_data_path, \"durations\"), \"wb\") as f:\n",
        "            pkl.dump(duration_list, f)\n",
        "\n",
        "    return notes_list, duration_list\n",
        "\n",
        "\n",
        "def load_parsed_files(parsed_data_path):\n",
        "    with open(os.path.join(parsed_data_path, \"notes\"), \"rb\") as f:\n",
        "        notes = pkl.load(f)\n",
        "    with open(os.path.join(parsed_data_path, \"durations\"), \"rb\") as f:\n",
        "        durations = pkl.load(f)\n",
        "    return notes, durations\n",
        "\n",
        "\n",
        "def get_midi_note(sample_note, sample_duration):\n",
        "    new_note = None\n",
        "\n",
        "    if \"TS\" in sample_note:\n",
        "        new_note = music21.meter.TimeSignature(sample_note.split(\"TS\")[0])\n",
        "\n",
        "    elif \"major\" in sample_note or \"minor\" in sample_note:\n",
        "        tonic, mode = sample_note.split(\":\")\n",
        "        new_note = music21.key.Key(tonic, mode)\n",
        "\n",
        "    elif sample_note == \"rest\":\n",
        "        new_note = music21.note.Rest()\n",
        "        new_note.duration = music21.duration.Duration(\n",
        "            float(Fraction(sample_duration))\n",
        "        )\n",
        "        new_note.storedInstrument = music21.instrument.Violoncello()\n",
        "\n",
        "    elif \".\" in sample_note:\n",
        "        notes_in_chord = sample_note.split(\".\")\n",
        "        chord_notes = []\n",
        "        for current_note in notes_in_chord:\n",
        "            n = music21.note.Note(current_note)\n",
        "            n.duration = music21.duration.Duration(\n",
        "                float(Fraction(sample_duration))\n",
        "            )\n",
        "            n.storedInstrument = music21.instrument.Violoncello()\n",
        "            chord_notes.append(n)\n",
        "        new_note = music21.chord.Chord(chord_notes)\n",
        "\n",
        "    elif sample_note == \"rest\":\n",
        "        new_note = music21.note.Rest()\n",
        "        new_note.duration = music21.duration.Duration(\n",
        "            float(Fraction(sample_duration))\n",
        "        )\n",
        "        new_note.storedInstrument = music21.instrument.Violoncello()\n",
        "\n",
        "    elif sample_note != \"START\":\n",
        "        new_note = music21.note.Note(sample_note)\n",
        "        new_note.duration = music21.duration.Duration(\n",
        "            float(Fraction(sample_duration))\n",
        "        )\n",
        "        new_note.storedInstrument = music21.instrument.Violoncello()\n",
        "\n",
        "    return new_note\n",
        "\n",
        "\n",
        "class SinePositionEncoding(keras.layers.Layer):\n",
        "    \"\"\"Sinusoidal positional encoding layer.\n",
        "    This layer calculates the position encoding as a mix of sine and cosine\n",
        "    functions with geometrically increasing wavelengths. Defined and formulized\n",
        "    in [Attention is All You Need](https://arxiv.org/abs/1706.03762).\n",
        "    Takes as input an embedded token tensor. The input must have shape\n",
        "    [batch_size, sequence_length, feature_size]. This layer will return a\n",
        "    positional encoding the same size as the embedded token tensor, which\n",
        "    can be added directly to the embedded token tensor.\n",
        "    Args:\n",
        "        max_wavelength: The maximum angular wavelength of the sine/cosine\n",
        "            curves, as described in Attention is All You Need. Defaults to\n",
        "            10000.\n",
        "    Examples:\n",
        "    ```python\n",
        "    # create a simple embedding layer with sinusoidal positional encoding\n",
        "    seq_len = 100\n",
        "    vocab_size = 1000\n",
        "    embedding_dim = 32\n",
        "    inputs = keras.Input((seq_len,), dtype=tf.float32)\n",
        "    embedding = keras.layers.Embedding(\n",
        "        input_dim=vocab_size, output_dim=embedding_dim\n",
        "    )(inputs)\n",
        "    positional_encoding = keras_nlp.layers.SinePositionEncoding()(embedding)\n",
        "    outputs = embedding + positional_encoding\n",
        "    ```\n",
        "    References:\n",
        "     - [Vaswani et al., 2017](https://arxiv.org/abs/1706.03762)\n",
        "    \"\"\"\n",
        "\n",
        "    def __init__(\n",
        "        self,\n",
        "        max_wavelength=10000,\n",
        "        **kwargs,\n",
        "    ):\n",
        "        super().__init__(**kwargs)\n",
        "        self.max_wavelength = max_wavelength\n",
        "\n",
        "    def call(self, inputs):\n",
        "        # TODO(jbischof): replace `hidden_size` with`hidden_dim` for consistency\n",
        "        # with other layers.\n",
        "        input_shape = tf.shape(inputs)\n",
        "        # length of sequence is the second last dimension of the inputs\n",
        "        seq_length = input_shape[-2]\n",
        "        hidden_size = input_shape[-1]\n",
        "        position = tf.cast(tf.range(seq_length), self.compute_dtype)\n",
        "        min_freq = tf.cast(1 / self.max_wavelength, dtype=self.compute_dtype)\n",
        "        timescales = tf.pow(\n",
        "            min_freq,\n",
        "            tf.cast(2 * (tf.range(hidden_size) // 2), self.compute_dtype)\n",
        "            / tf.cast(hidden_size, self.compute_dtype),\n",
        "        )\n",
        "        angles = tf.expand_dims(position, 1) * tf.expand_dims(timescales, 0)\n",
        "        # even indices are sine, odd are cosine\n",
        "        cos_mask = tf.cast(tf.range(hidden_size) % 2, self.compute_dtype)\n",
        "        sin_mask = 1 - cos_mask\n",
        "        # embedding shape is [seq_length, hidden_size]\n",
        "        positional_encodings = (\n",
        "            tf.sin(angles) * sin_mask + tf.cos(angles) * cos_mask\n",
        "        )\n",
        "\n",
        "        return tf.broadcast_to(positional_encodings, input_shape)\n",
        "\n",
        "    def get_config(self):\n",
        "        config = super().get_config()\n",
        "        config.update(\n",
        "            {\n",
        "                \"max_wavelength\": self.max_wavelength,\n",
        "            }\n",
        "        )\n",
        "        return config"
      ],
      "metadata": {
        "cellView": "form",
        "id": "jjdAzoGyaQIx"
      },
      "id": "jjdAzoGyaQIx",
      "execution_count": 1,
      "outputs": []
    },
    {
      "cell_type": "code",
      "source": [
        "!apt-get install musescore\n",
        "!apt-get install music21\n",
        "!apt-get install fluidsynth"
      ],
      "metadata": {
        "colab": {
          "base_uri": "https://localhost:8080/"
        },
        "id": "7p-DJUaH5bji",
        "outputId": "d44580a1-0a49-4343-ee3f-3b80f861b6cd"
      },
      "id": "7p-DJUaH5bji",
      "execution_count": 2,
      "outputs": [
        {
          "output_type": "stream",
          "name": "stdout",
          "text": [
            "Reading package lists... Done\n",
            "Building dependency tree... Done\n",
            "Reading state information... Done\n",
            "The following additional packages will be installed:\n",
            "  desktop-file-utils fonts-freefont-ttf libevdev2 libgudev-1.0-0 libinput-bin libinput10 libmd4c0\n",
            "  libmtdev1 libportaudio2 libportmidi0 libqt5core5a libqt5dbus5 libqt5gui5 libqt5help5\n",
            "  libqt5network5 libqt5printsupport5 libqt5qml5 libqt5qmlmodels5 libqt5qmlworkerscript5\n",
            "  libqt5quick5 libqt5sql5 libqt5sql5-sqlite libqt5svg5 libqt5widgets5 libqt5xml5 libqt5xmlpatterns5\n",
            "  libwacom-bin libwacom-common libwacom9 libxcb-icccm4 libxcb-image0 libxcb-keysyms1\n",
            "  libxcb-render-util0 libxcb-util1 libxcb-xinerama0 libxcb-xinput0 libxcb-xkb1 libxkbcommon-x11-0\n",
            "  musescore-common musescore-general-soundfont-small qml-module-qt-labs-folderlistmodel\n",
            "  qml-module-qt-labs-settings qml-module-qtgraphicaleffects qml-module-qtqml\n",
            "  qml-module-qtqml-models2 qml-module-qtquick-controls qml-module-qtquick-dialogs\n",
            "  qml-module-qtquick-layouts qml-module-qtquick-privatewidgets qml-module-qtquick-window2\n",
            "  qml-module-qtquick2 qt5-gtk-platformtheme qttranslations5-l10n\n",
            "Suggested packages:\n",
            "  qt5-image-formats-plugins qtwayland5 qt5-qmltooling-plugins pulseaudio-utils\n",
            "The following NEW packages will be installed:\n",
            "  desktop-file-utils fonts-freefont-ttf libevdev2 libgudev-1.0-0 libinput-bin libinput10 libmd4c0\n",
            "  libmtdev1 libportaudio2 libportmidi0 libqt5core5a libqt5dbus5 libqt5gui5 libqt5help5\n",
            "  libqt5network5 libqt5printsupport5 libqt5qml5 libqt5qmlmodels5 libqt5qmlworkerscript5\n",
            "  libqt5quick5 libqt5sql5 libqt5sql5-sqlite libqt5svg5 libqt5widgets5 libqt5xml5 libqt5xmlpatterns5\n",
            "  libwacom-bin libwacom-common libwacom9 libxcb-icccm4 libxcb-image0 libxcb-keysyms1\n",
            "  libxcb-render-util0 libxcb-util1 libxcb-xinerama0 libxcb-xinput0 libxcb-xkb1 libxkbcommon-x11-0\n",
            "  musescore musescore-common musescore-general-soundfont-small qml-module-qt-labs-folderlistmodel\n",
            "  qml-module-qt-labs-settings qml-module-qtgraphicaleffects qml-module-qtqml\n",
            "  qml-module-qtqml-models2 qml-module-qtquick-controls qml-module-qtquick-dialogs\n",
            "  qml-module-qtquick-layouts qml-module-qtquick-privatewidgets qml-module-qtquick-window2\n",
            "  qml-module-qtquick2 qt5-gtk-platformtheme qttranslations5-l10n\n",
            "0 upgraded, 54 newly installed, 0 to remove and 49 not upgraded.\n",
            "Need to get 63.2 MB of archives.\n",
            "After this operation, 162 MB of additional disk space will be used.\n",
            "Get:1 http://archive.ubuntu.com/ubuntu jammy-updates/universe amd64 libqt5core5a amd64 5.15.3+dfsg-2ubuntu0.2 [2,006 kB]\n",
            "Get:2 http://archive.ubuntu.com/ubuntu jammy/main amd64 libevdev2 amd64 1.12.1+dfsg-1 [39.5 kB]\n",
            "Get:3 http://archive.ubuntu.com/ubuntu jammy/main amd64 libmtdev1 amd64 1.1.6-1build4 [14.5 kB]\n",
            "Get:4 http://archive.ubuntu.com/ubuntu jammy/main amd64 libgudev-1.0-0 amd64 1:237-2build1 [16.3 kB]\n",
            "Get:5 http://archive.ubuntu.com/ubuntu jammy/main amd64 libwacom-common all 2.2.0-1 [54.3 kB]\n",
            "Get:6 http://archive.ubuntu.com/ubuntu jammy/main amd64 libwacom9 amd64 2.2.0-1 [22.0 kB]\n",
            "Get:7 http://archive.ubuntu.com/ubuntu jammy-updates/main amd64 libinput-bin amd64 1.20.0-1ubuntu0.3 [19.9 kB]\n",
            "Get:8 http://archive.ubuntu.com/ubuntu jammy-updates/main amd64 libinput10 amd64 1.20.0-1ubuntu0.3 [131 kB]\n",
            "Get:9 http://archive.ubuntu.com/ubuntu jammy/universe amd64 libmd4c0 amd64 0.4.8-1 [42.0 kB]\n",
            "Get:10 http://archive.ubuntu.com/ubuntu jammy-updates/universe amd64 libqt5dbus5 amd64 5.15.3+dfsg-2ubuntu0.2 [222 kB]\n",
            "Get:11 http://archive.ubuntu.com/ubuntu jammy-updates/universe amd64 libqt5network5 amd64 5.15.3+dfsg-2ubuntu0.2 [731 kB]\n",
            "Get:12 http://archive.ubuntu.com/ubuntu jammy/main amd64 libxcb-icccm4 amd64 0.4.1-1.1build2 [11.5 kB]\n",
            "Get:13 http://archive.ubuntu.com/ubuntu jammy/main amd64 libxcb-util1 amd64 0.4.0-1build2 [11.4 kB]\n",
            "Get:14 http://archive.ubuntu.com/ubuntu jammy/main amd64 libxcb-image0 amd64 0.4.0-2 [11.5 kB]\n",
            "Get:15 http://archive.ubuntu.com/ubuntu jammy/main amd64 libxcb-keysyms1 amd64 0.4.0-1build3 [8,746 B]\n",
            "Get:16 http://archive.ubuntu.com/ubuntu jammy/main amd64 libxcb-render-util0 amd64 0.3.9-1build3 [10.3 kB]\n",
            "Get:17 http://archive.ubuntu.com/ubuntu jammy/main amd64 libxcb-xinerama0 amd64 1.14-3ubuntu3 [5,414 B]\n",
            "Get:18 http://archive.ubuntu.com/ubuntu jammy/main amd64 libxcb-xinput0 amd64 1.14-3ubuntu3 [34.3 kB]\n",
            "Get:19 http://archive.ubuntu.com/ubuntu jammy/main amd64 libxcb-xkb1 amd64 1.14-3ubuntu3 [32.8 kB]\n",
            "Get:20 http://archive.ubuntu.com/ubuntu jammy/main amd64 libxkbcommon-x11-0 amd64 1.4.0-1 [14.4 kB]\n",
            "Get:21 http://archive.ubuntu.com/ubuntu jammy-updates/universe amd64 libqt5gui5 amd64 5.15.3+dfsg-2ubuntu0.2 [3,722 kB]\n",
            "Get:22 http://archive.ubuntu.com/ubuntu jammy-updates/universe amd64 libqt5widgets5 amd64 5.15.3+dfsg-2ubuntu0.2 [2,561 kB]\n",
            "Get:23 http://archive.ubuntu.com/ubuntu jammy/universe amd64 libqt5svg5 amd64 5.15.3-1 [149 kB]\n",
            "Get:24 http://archive.ubuntu.com/ubuntu jammy/universe amd64 libqt5qml5 amd64 5.15.3+dfsg-1 [1,472 kB]\n",
            "Get:25 http://archive.ubuntu.com/ubuntu jammy/universe amd64 libqt5qmlmodels5 amd64 5.15.3+dfsg-1 [205 kB]\n",
            "Get:26 http://archive.ubuntu.com/ubuntu jammy/universe amd64 libqt5quick5 amd64 5.15.3+dfsg-1 [1,748 kB]\n",
            "Get:27 http://archive.ubuntu.com/ubuntu jammy/universe amd64 qml-module-qtquick-window2 amd64 5.15.3+dfsg-1 [26.3 kB]\n",
            "Get:28 http://archive.ubuntu.com/ubuntu jammy/universe amd64 libqt5qmlworkerscript5 amd64 5.15.3+dfsg-1 [34.4 kB]\n",
            "Get:29 http://archive.ubuntu.com/ubuntu jammy/universe amd64 qml-module-qtquick2 amd64 5.15.3+dfsg-1 [33.7 kB]\n",
            "Get:30 http://archive.ubuntu.com/ubuntu jammy/universe amd64 qml-module-qtgraphicaleffects amd64 5.15.3-1 [74.3 kB]\n",
            "Get:31 http://archive.ubuntu.com/ubuntu jammy/universe amd64 qml-module-qtqml amd64 5.15.3+dfsg-1 [17.2 kB]\n",
            "Get:32 http://archive.ubuntu.com/ubuntu jammy/universe amd64 qml-module-qtqml-models2 amd64 5.15.3+dfsg-1 [18.0 kB]\n",
            "Get:33 http://archive.ubuntu.com/ubuntu jammy/universe amd64 qml-module-qtquick-layouts amd64 5.15.3+dfsg-1 [56.0 kB]\n",
            "Get:34 http://archive.ubuntu.com/ubuntu jammy/universe amd64 qml-module-qtquick-controls amd64 5.15.3-1 [577 kB]\n",
            "Get:35 http://archive.ubuntu.com/ubuntu jammy/main amd64 desktop-file-utils amd64 0.26-1ubuntu3 [55.9 kB]\n",
            "Get:36 http://archive.ubuntu.com/ubuntu jammy/main amd64 fonts-freefont-ttf all 20120503-10build1 [2,388 kB]\n",
            "Get:37 http://archive.ubuntu.com/ubuntu jammy/universe amd64 libportaudio2 amd64 19.6.0-1.1 [65.3 kB]\n",
            "Get:38 http://archive.ubuntu.com/ubuntu jammy/universe amd64 libportmidi0 amd64 1:217-6 [17.8 kB]\n",
            "Get:39 http://archive.ubuntu.com/ubuntu jammy-updates/universe amd64 libqt5sql5 amd64 5.15.3+dfsg-2ubuntu0.2 [123 kB]\n",
            "Get:40 http://archive.ubuntu.com/ubuntu jammy/universe amd64 libqt5help5 amd64 5.15.3-1 [162 kB]\n",
            "Get:41 http://archive.ubuntu.com/ubuntu jammy-updates/universe amd64 libqt5printsupport5 amd64 5.15.3+dfsg-2ubuntu0.2 [214 kB]\n",
            "Get:42 http://archive.ubuntu.com/ubuntu jammy-updates/universe amd64 libqt5sql5-sqlite amd64 5.15.3+dfsg-2ubuntu0.2 [53.0 kB]\n",
            "Get:43 http://archive.ubuntu.com/ubuntu jammy-updates/universe amd64 libqt5xml5 amd64 5.15.3+dfsg-2ubuntu0.2 [124 kB]\n",
            "Get:44 http://archive.ubuntu.com/ubuntu jammy/universe amd64 libqt5xmlpatterns5 amd64 5.15.3-1 [901 kB]\n",
            "Get:45 http://archive.ubuntu.com/ubuntu jammy/main amd64 libwacom-bin amd64 2.2.0-1 [13.6 kB]\n",
            "Get:46 http://archive.ubuntu.com/ubuntu jammy/universe amd64 qml-module-qt-labs-folderlistmodel amd64 5.15.3+dfsg-1 [36.1 kB]\n",
            "Get:47 http://archive.ubuntu.com/ubuntu jammy/universe amd64 qml-module-qt-labs-settings amd64 5.15.3+dfsg-1 [26.5 kB]\n",
            "Get:48 http://archive.ubuntu.com/ubuntu jammy/universe amd64 qml-module-qtquick-privatewidgets amd64 5.15.3-1 [49.8 kB]\n",
            "Get:49 http://archive.ubuntu.com/ubuntu jammy/universe amd64 qml-module-qtquick-dialogs amd64 5.15.3-1 [132 kB]\n",
            "Get:50 http://archive.ubuntu.com/ubuntu jammy/universe amd64 musescore-general-soundfont-small all 0.2.1-1 [34.1 MB]\n",
            "Get:51 http://archive.ubuntu.com/ubuntu jammy/universe amd64 musescore-common all 2.3.2+dfsg4-15 [3,332 kB]\n",
            "Get:52 http://archive.ubuntu.com/ubuntu jammy/universe amd64 musescore amd64 2.3.2+dfsg4-15 [5,195 kB]\n",
            "Get:53 http://archive.ubuntu.com/ubuntu jammy-updates/universe amd64 qt5-gtk-platformtheme amd64 5.15.3+dfsg-2ubuntu0.2 [130 kB]\n",
            "Get:54 http://archive.ubuntu.com/ubuntu jammy/universe amd64 qttranslations5-l10n all 5.15.3-1 [1,983 kB]\n",
            "Fetched 63.2 MB in 3s (24.5 MB/s)\n",
            "Extracting templates from packages: 100%\n",
            "Selecting previously unselected package libqt5core5a:amd64.\n",
            "(Reading database ... 123632 files and directories currently installed.)\n",
            "Preparing to unpack .../00-libqt5core5a_5.15.3+dfsg-2ubuntu0.2_amd64.deb ...\n",
            "Unpacking libqt5core5a:amd64 (5.15.3+dfsg-2ubuntu0.2) ...\n",
            "Selecting previously unselected package libevdev2:amd64.\n",
            "Preparing to unpack .../01-libevdev2_1.12.1+dfsg-1_amd64.deb ...\n",
            "Unpacking libevdev2:amd64 (1.12.1+dfsg-1) ...\n",
            "Selecting previously unselected package libmtdev1:amd64.\n",
            "Preparing to unpack .../02-libmtdev1_1.1.6-1build4_amd64.deb ...\n",
            "Unpacking libmtdev1:amd64 (1.1.6-1build4) ...\n",
            "Selecting previously unselected package libgudev-1.0-0:amd64.\n",
            "Preparing to unpack .../03-libgudev-1.0-0_1%3a237-2build1_amd64.deb ...\n",
            "Unpacking libgudev-1.0-0:amd64 (1:237-2build1) ...\n",
            "Selecting previously unselected package libwacom-common.\n",
            "Preparing to unpack .../04-libwacom-common_2.2.0-1_all.deb ...\n",
            "Unpacking libwacom-common (2.2.0-1) ...\n",
            "Selecting previously unselected package libwacom9:amd64.\n",
            "Preparing to unpack .../05-libwacom9_2.2.0-1_amd64.deb ...\n",
            "Unpacking libwacom9:amd64 (2.2.0-1) ...\n",
            "Selecting previously unselected package libinput-bin.\n",
            "Preparing to unpack .../06-libinput-bin_1.20.0-1ubuntu0.3_amd64.deb ...\n",
            "Unpacking libinput-bin (1.20.0-1ubuntu0.3) ...\n",
            "Selecting previously unselected package libinput10:amd64.\n",
            "Preparing to unpack .../07-libinput10_1.20.0-1ubuntu0.3_amd64.deb ...\n",
            "Unpacking libinput10:amd64 (1.20.0-1ubuntu0.3) ...\n",
            "Selecting previously unselected package libmd4c0:amd64.\n",
            "Preparing to unpack .../08-libmd4c0_0.4.8-1_amd64.deb ...\n",
            "Unpacking libmd4c0:amd64 (0.4.8-1) ...\n",
            "Selecting previously unselected package libqt5dbus5:amd64.\n",
            "Preparing to unpack .../09-libqt5dbus5_5.15.3+dfsg-2ubuntu0.2_amd64.deb ...\n",
            "Unpacking libqt5dbus5:amd64 (5.15.3+dfsg-2ubuntu0.2) ...\n",
            "Selecting previously unselected package libqt5network5:amd64.\n",
            "Preparing to unpack .../10-libqt5network5_5.15.3+dfsg-2ubuntu0.2_amd64.deb ...\n",
            "Unpacking libqt5network5:amd64 (5.15.3+dfsg-2ubuntu0.2) ...\n",
            "Selecting previously unselected package libxcb-icccm4:amd64.\n",
            "Preparing to unpack .../11-libxcb-icccm4_0.4.1-1.1build2_amd64.deb ...\n",
            "Unpacking libxcb-icccm4:amd64 (0.4.1-1.1build2) ...\n",
            "Selecting previously unselected package libxcb-util1:amd64.\n",
            "Preparing to unpack .../12-libxcb-util1_0.4.0-1build2_amd64.deb ...\n",
            "Unpacking libxcb-util1:amd64 (0.4.0-1build2) ...\n",
            "Selecting previously unselected package libxcb-image0:amd64.\n",
            "Preparing to unpack .../13-libxcb-image0_0.4.0-2_amd64.deb ...\n",
            "Unpacking libxcb-image0:amd64 (0.4.0-2) ...\n",
            "Selecting previously unselected package libxcb-keysyms1:amd64.\n",
            "Preparing to unpack .../14-libxcb-keysyms1_0.4.0-1build3_amd64.deb ...\n",
            "Unpacking libxcb-keysyms1:amd64 (0.4.0-1build3) ...\n",
            "Selecting previously unselected package libxcb-render-util0:amd64.\n",
            "Preparing to unpack .../15-libxcb-render-util0_0.3.9-1build3_amd64.deb ...\n",
            "Unpacking libxcb-render-util0:amd64 (0.3.9-1build3) ...\n",
            "Selecting previously unselected package libxcb-xinerama0:amd64.\n",
            "Preparing to unpack .../16-libxcb-xinerama0_1.14-3ubuntu3_amd64.deb ...\n",
            "Unpacking libxcb-xinerama0:amd64 (1.14-3ubuntu3) ...\n",
            "Selecting previously unselected package libxcb-xinput0:amd64.\n",
            "Preparing to unpack .../17-libxcb-xinput0_1.14-3ubuntu3_amd64.deb ...\n",
            "Unpacking libxcb-xinput0:amd64 (1.14-3ubuntu3) ...\n",
            "Selecting previously unselected package libxcb-xkb1:amd64.\n",
            "Preparing to unpack .../18-libxcb-xkb1_1.14-3ubuntu3_amd64.deb ...\n",
            "Unpacking libxcb-xkb1:amd64 (1.14-3ubuntu3) ...\n",
            "Selecting previously unselected package libxkbcommon-x11-0:amd64.\n",
            "Preparing to unpack .../19-libxkbcommon-x11-0_1.4.0-1_amd64.deb ...\n",
            "Unpacking libxkbcommon-x11-0:amd64 (1.4.0-1) ...\n",
            "Selecting previously unselected package libqt5gui5:amd64.\n",
            "Preparing to unpack .../20-libqt5gui5_5.15.3+dfsg-2ubuntu0.2_amd64.deb ...\n",
            "Unpacking libqt5gui5:amd64 (5.15.3+dfsg-2ubuntu0.2) ...\n",
            "Selecting previously unselected package libqt5widgets5:amd64.\n",
            "Preparing to unpack .../21-libqt5widgets5_5.15.3+dfsg-2ubuntu0.2_amd64.deb ...\n",
            "Unpacking libqt5widgets5:amd64 (5.15.3+dfsg-2ubuntu0.2) ...\n",
            "Selecting previously unselected package libqt5svg5:amd64.\n",
            "Preparing to unpack .../22-libqt5svg5_5.15.3-1_amd64.deb ...\n",
            "Unpacking libqt5svg5:amd64 (5.15.3-1) ...\n",
            "Selecting previously unselected package libqt5qml5:amd64.\n",
            "Preparing to unpack .../23-libqt5qml5_5.15.3+dfsg-1_amd64.deb ...\n",
            "Unpacking libqt5qml5:amd64 (5.15.3+dfsg-1) ...\n",
            "Selecting previously unselected package libqt5qmlmodels5:amd64.\n",
            "Preparing to unpack .../24-libqt5qmlmodels5_5.15.3+dfsg-1_amd64.deb ...\n",
            "Unpacking libqt5qmlmodels5:amd64 (5.15.3+dfsg-1) ...\n",
            "Selecting previously unselected package libqt5quick5:amd64.\n",
            "Preparing to unpack .../25-libqt5quick5_5.15.3+dfsg-1_amd64.deb ...\n",
            "Unpacking libqt5quick5:amd64 (5.15.3+dfsg-1) ...\n",
            "Selecting previously unselected package qml-module-qtquick-window2:amd64.\n",
            "Preparing to unpack .../26-qml-module-qtquick-window2_5.15.3+dfsg-1_amd64.deb ...\n",
            "Unpacking qml-module-qtquick-window2:amd64 (5.15.3+dfsg-1) ...\n",
            "Selecting previously unselected package libqt5qmlworkerscript5:amd64.\n",
            "Preparing to unpack .../27-libqt5qmlworkerscript5_5.15.3+dfsg-1_amd64.deb ...\n",
            "Unpacking libqt5qmlworkerscript5:amd64 (5.15.3+dfsg-1) ...\n",
            "Selecting previously unselected package qml-module-qtquick2:amd64.\n",
            "Preparing to unpack .../28-qml-module-qtquick2_5.15.3+dfsg-1_amd64.deb ...\n",
            "Unpacking qml-module-qtquick2:amd64 (5.15.3+dfsg-1) ...\n",
            "Selecting previously unselected package qml-module-qtgraphicaleffects:amd64.\n",
            "Preparing to unpack .../29-qml-module-qtgraphicaleffects_5.15.3-1_amd64.deb ...\n",
            "Unpacking qml-module-qtgraphicaleffects:amd64 (5.15.3-1) ...\n",
            "Selecting previously unselected package qml-module-qtqml:amd64.\n",
            "Preparing to unpack .../30-qml-module-qtqml_5.15.3+dfsg-1_amd64.deb ...\n",
            "Unpacking qml-module-qtqml:amd64 (5.15.3+dfsg-1) ...\n",
            "Selecting previously unselected package qml-module-qtqml-models2:amd64.\n",
            "Preparing to unpack .../31-qml-module-qtqml-models2_5.15.3+dfsg-1_amd64.deb ...\n",
            "Unpacking qml-module-qtqml-models2:amd64 (5.15.3+dfsg-1) ...\n",
            "Selecting previously unselected package qml-module-qtquick-layouts:amd64.\n",
            "Preparing to unpack .../32-qml-module-qtquick-layouts_5.15.3+dfsg-1_amd64.deb ...\n",
            "Unpacking qml-module-qtquick-layouts:amd64 (5.15.3+dfsg-1) ...\n",
            "Selecting previously unselected package qml-module-qtquick-controls:amd64.\n",
            "Preparing to unpack .../33-qml-module-qtquick-controls_5.15.3-1_amd64.deb ...\n",
            "Unpacking qml-module-qtquick-controls:amd64 (5.15.3-1) ...\n",
            "Selecting previously unselected package desktop-file-utils.\n",
            "Preparing to unpack .../34-desktop-file-utils_0.26-1ubuntu3_amd64.deb ...\n",
            "Unpacking desktop-file-utils (0.26-1ubuntu3) ...\n",
            "Selecting previously unselected package fonts-freefont-ttf.\n",
            "Preparing to unpack .../35-fonts-freefont-ttf_20120503-10build1_all.deb ...\n",
            "Unpacking fonts-freefont-ttf (20120503-10build1) ...\n",
            "Selecting previously unselected package libportaudio2:amd64.\n",
            "Preparing to unpack .../36-libportaudio2_19.6.0-1.1_amd64.deb ...\n",
            "Unpacking libportaudio2:amd64 (19.6.0-1.1) ...\n",
            "Selecting previously unselected package libportmidi0:amd64.\n",
            "Preparing to unpack .../37-libportmidi0_1%3a217-6_amd64.deb ...\n",
            "Unpacking libportmidi0:amd64 (1:217-6) ...\n",
            "Selecting previously unselected package libqt5sql5:amd64.\n",
            "Preparing to unpack .../38-libqt5sql5_5.15.3+dfsg-2ubuntu0.2_amd64.deb ...\n",
            "Unpacking libqt5sql5:amd64 (5.15.3+dfsg-2ubuntu0.2) ...\n",
            "Selecting previously unselected package libqt5help5:amd64.\n",
            "Preparing to unpack .../39-libqt5help5_5.15.3-1_amd64.deb ...\n",
            "Unpacking libqt5help5:amd64 (5.15.3-1) ...\n",
            "Selecting previously unselected package libqt5printsupport5:amd64.\n",
            "Preparing to unpack .../40-libqt5printsupport5_5.15.3+dfsg-2ubuntu0.2_amd64.deb ...\n",
            "Unpacking libqt5printsupport5:amd64 (5.15.3+dfsg-2ubuntu0.2) ...\n",
            "Selecting previously unselected package libqt5sql5-sqlite:amd64.\n",
            "Preparing to unpack .../41-libqt5sql5-sqlite_5.15.3+dfsg-2ubuntu0.2_amd64.deb ...\n",
            "Unpacking libqt5sql5-sqlite:amd64 (5.15.3+dfsg-2ubuntu0.2) ...\n",
            "Selecting previously unselected package libqt5xml5:amd64.\n",
            "Preparing to unpack .../42-libqt5xml5_5.15.3+dfsg-2ubuntu0.2_amd64.deb ...\n",
            "Unpacking libqt5xml5:amd64 (5.15.3+dfsg-2ubuntu0.2) ...\n",
            "Selecting previously unselected package libqt5xmlpatterns5:amd64.\n",
            "Preparing to unpack .../43-libqt5xmlpatterns5_5.15.3-1_amd64.deb ...\n",
            "Unpacking libqt5xmlpatterns5:amd64 (5.15.3-1) ...\n",
            "Selecting previously unselected package libwacom-bin.\n",
            "Preparing to unpack .../44-libwacom-bin_2.2.0-1_amd64.deb ...\n",
            "Unpacking libwacom-bin (2.2.0-1) ...\n",
            "Selecting previously unselected package qml-module-qt-labs-folderlistmodel:amd64.\n",
            "Preparing to unpack .../45-qml-module-qt-labs-folderlistmodel_5.15.3+dfsg-1_amd64.deb ...\n",
            "Unpacking qml-module-qt-labs-folderlistmodel:amd64 (5.15.3+dfsg-1) ...\n",
            "Selecting previously unselected package qml-module-qt-labs-settings:amd64.\n",
            "Preparing to unpack .../46-qml-module-qt-labs-settings_5.15.3+dfsg-1_amd64.deb ...\n",
            "Unpacking qml-module-qt-labs-settings:amd64 (5.15.3+dfsg-1) ...\n",
            "Selecting previously unselected package qml-module-qtquick-privatewidgets:amd64.\n",
            "Preparing to unpack .../47-qml-module-qtquick-privatewidgets_5.15.3-1_amd64.deb ...\n",
            "Unpacking qml-module-qtquick-privatewidgets:amd64 (5.15.3-1) ...\n",
            "Selecting previously unselected package qml-module-qtquick-dialogs:amd64.\n",
            "Preparing to unpack .../48-qml-module-qtquick-dialogs_5.15.3-1_amd64.deb ...\n",
            "Unpacking qml-module-qtquick-dialogs:amd64 (5.15.3-1) ...\n",
            "Selecting previously unselected package musescore-general-soundfont-small.\n",
            "Preparing to unpack .../49-musescore-general-soundfont-small_0.2.1-1_all.deb ...\n",
            "Unpacking musescore-general-soundfont-small (0.2.1-1) ...\n",
            "Selecting previously unselected package musescore-common.\n",
            "Preparing to unpack .../50-musescore-common_2.3.2+dfsg4-15_all.deb ...\n",
            "Unpacking musescore-common (2.3.2+dfsg4-15) ...\n",
            "Selecting previously unselected package musescore.\n",
            "Preparing to unpack .../51-musescore_2.3.2+dfsg4-15_amd64.deb ...\n",
            "Unpacking musescore (2.3.2+dfsg4-15) ...\n",
            "Selecting previously unselected package qt5-gtk-platformtheme:amd64.\n",
            "Preparing to unpack .../52-qt5-gtk-platformtheme_5.15.3+dfsg-2ubuntu0.2_amd64.deb ...\n",
            "Unpacking qt5-gtk-platformtheme:amd64 (5.15.3+dfsg-2ubuntu0.2) ...\n",
            "Selecting previously unselected package qttranslations5-l10n.\n",
            "Preparing to unpack .../53-qttranslations5-l10n_5.15.3-1_all.deb ...\n",
            "Unpacking qttranslations5-l10n (5.15.3-1) ...\n",
            "Setting up libportaudio2:amd64 (19.6.0-1.1) ...\n",
            "Setting up desktop-file-utils (0.26-1ubuntu3) ...\n",
            "Setting up libxcb-xinput0:amd64 (1.14-3ubuntu3) ...\n",
            "Setting up libxcb-keysyms1:amd64 (0.4.0-1build3) ...\n",
            "Setting up fonts-freefont-ttf (20120503-10build1) ...\n",
            "Setting up libxcb-render-util0:amd64 (0.3.9-1build3) ...\n",
            "Setting up libxcb-icccm4:amd64 (0.4.1-1.1build2) ...\n",
            "Setting up musescore-general-soundfont-small (0.2.1-1) ...\n",
            "update-alternatives: using /usr/share/sounds/sf3/MuseScore_General_Lite.sf3 to provide /usr/share/sounds/sf3/default-GM.sf3 (default-GM.sf3) in auto mode\n",
            "update-alternatives: using /usr/share/sounds/sf3/MuseScore_General_Lite.sf3 to provide /usr/share/sounds/sf3/MuseScore_General.sf3 (MuseScore_General.sf3) in auto mode\n",
            "Setting up libxcb-util1:amd64 (0.4.0-1build2) ...\n",
            "Setting up libxcb-xkb1:amd64 (1.14-3ubuntu3) ...\n",
            "Setting up libxcb-image0:amd64 (0.4.0-2) ...\n",
            "Setting up musescore-common (2.3.2+dfsg4-15) ...\n",
            "Setting up libxcb-xinerama0:amd64 (1.14-3ubuntu3) ...\n",
            "Setting up qttranslations5-l10n (5.15.3-1) ...\n",
            "Setting up libportmidi0:amd64 (1:217-6) ...\n",
            "Setting up libxkbcommon-x11-0:amd64 (1.4.0-1) ...\n",
            "Setting up libqt5core5a:amd64 (5.15.3+dfsg-2ubuntu0.2) ...\n",
            "Setting up libmtdev1:amd64 (1.1.6-1build4) ...\n",
            "Setting up libqt5dbus5:amd64 (5.15.3+dfsg-2ubuntu0.2) ...\n",
            "Setting up libmd4c0:amd64 (0.4.8-1) ...\n",
            "Setting up libevdev2:amd64 (1.12.1+dfsg-1) ...\n",
            "Setting up libgudev-1.0-0:amd64 (1:237-2build1) ...\n",
            "Setting up libwacom-common (2.2.0-1) ...\n",
            "Setting up libwacom9:amd64 (2.2.0-1) ...\n",
            "Setting up libqt5network5:amd64 (5.15.3+dfsg-2ubuntu0.2) ...\n",
            "Setting up libinput-bin (1.20.0-1ubuntu0.3) ...\n",
            "Setting up libqt5sql5:amd64 (5.15.3+dfsg-2ubuntu0.2) ...\n",
            "Setting up libqt5xml5:amd64 (5.15.3+dfsg-2ubuntu0.2) ...\n",
            "Setting up libqt5qml5:amd64 (5.15.3+dfsg-1) ...\n",
            "Setting up libwacom-bin (2.2.0-1) ...\n",
            "Setting up libinput10:amd64 (1.20.0-1ubuntu0.3) ...\n",
            "Setting up libqt5qmlmodels5:amd64 (5.15.3+dfsg-1) ...\n",
            "Setting up libqt5sql5-sqlite:amd64 (5.15.3+dfsg-2ubuntu0.2) ...\n",
            "Setting up qml-module-qtqml:amd64 (5.15.3+dfsg-1) ...\n",
            "Setting up libqt5xmlpatterns5:amd64 (5.15.3-1) ...\n",
            "Setting up libqt5gui5:amd64 (5.15.3+dfsg-2ubuntu0.2) ...\n",
            "Setting up libqt5widgets5:amd64 (5.15.3+dfsg-2ubuntu0.2) ...\n",
            "Setting up libqt5help5:amd64 (5.15.3-1) ...\n",
            "Setting up qt5-gtk-platformtheme:amd64 (5.15.3+dfsg-2ubuntu0.2) ...\n",
            "Setting up qml-module-qt-labs-folderlistmodel:amd64 (5.15.3+dfsg-1) ...\n",
            "Setting up libqt5qmlworkerscript5:amd64 (5.15.3+dfsg-1) ...\n",
            "Setting up qml-module-qt-labs-settings:amd64 (5.15.3+dfsg-1) ...\n",
            "Setting up libqt5printsupport5:amd64 (5.15.3+dfsg-2ubuntu0.2) ...\n",
            "Setting up qml-module-qtqml-models2:amd64 (5.15.3+dfsg-1) ...\n",
            "Setting up libqt5quick5:amd64 (5.15.3+dfsg-1) ...\n",
            "Setting up libqt5svg5:amd64 (5.15.3-1) ...\n",
            "Setting up qml-module-qtquick-window2:amd64 (5.15.3+dfsg-1) ...\n",
            "Setting up qml-module-qtquick-layouts:amd64 (5.15.3+dfsg-1) ...\n",
            "Setting up qml-module-qtquick2:amd64 (5.15.3+dfsg-1) ...\n",
            "Setting up qml-module-qtquick-privatewidgets:amd64 (5.15.3-1) ...\n",
            "Setting up qml-module-qtgraphicaleffects:amd64 (5.15.3-1) ...\n",
            "Setting up qml-module-qtquick-dialogs:amd64 (5.15.3-1) ...\n",
            "Setting up qml-module-qtquick-controls:amd64 (5.15.3-1) ...\n",
            "Setting up musescore (2.3.2+dfsg4-15) ...\n",
            "Processing triggers for hicolor-icon-theme (0.17-2) ...\n",
            "Processing triggers for libc-bin (2.35-0ubuntu3.4) ...\n",
            "/sbin/ldconfig.real: /usr/local/lib/libtcm.so.1 is not a symbolic link\n",
            "\n",
            "/sbin/ldconfig.real: /usr/local/lib/libtbbmalloc_proxy.so.2 is not a symbolic link\n",
            "\n",
            "/sbin/ldconfig.real: /usr/local/lib/libhwloc.so.15 is not a symbolic link\n",
            "\n",
            "/sbin/ldconfig.real: /usr/local/lib/libur_loader.so.0 is not a symbolic link\n",
            "\n",
            "/sbin/ldconfig.real: /usr/local/lib/libtbbmalloc.so.2 is not a symbolic link\n",
            "\n",
            "/sbin/ldconfig.real: /usr/local/lib/libtcm_debug.so.1 is not a symbolic link\n",
            "\n",
            "/sbin/ldconfig.real: /usr/local/lib/libur_adapter_level_zero.so.0 is not a symbolic link\n",
            "\n",
            "/sbin/ldconfig.real: /usr/local/lib/libur_adapter_opencl.so.0 is not a symbolic link\n",
            "\n",
            "/sbin/ldconfig.real: /usr/local/lib/libumf.so.0 is not a symbolic link\n",
            "\n",
            "/sbin/ldconfig.real: /usr/local/lib/libtbbbind.so.3 is not a symbolic link\n",
            "\n",
            "/sbin/ldconfig.real: /usr/local/lib/libtbbbind_2_0.so.3 is not a symbolic link\n",
            "\n",
            "/sbin/ldconfig.real: /usr/local/lib/libtbbbind_2_5.so.3 is not a symbolic link\n",
            "\n",
            "/sbin/ldconfig.real: /usr/local/lib/libtbb.so.12 is not a symbolic link\n",
            "\n",
            "Processing triggers for man-db (2.10.2-1) ...\n",
            "Processing triggers for shared-mime-info (2.1-2) ...\n",
            "Processing triggers for fontconfig (2.13.1-4.2ubuntu5) ...\n",
            "Reading package lists... Done\n",
            "Building dependency tree... Done\n",
            "Reading state information... Done\n",
            "E: Unable to locate package music21\n",
            "Reading package lists... Done\n",
            "Building dependency tree... Done\n",
            "Reading state information... Done\n",
            "The following additional packages will be installed:\n",
            "  fluid-soundfont-gm libfluidsynth3 libinstpatch-1.0-2 qsynth\n",
            "Suggested packages:\n",
            "  fluid-soundfont-gs jackd\n",
            "The following NEW packages will be installed:\n",
            "  fluid-soundfont-gm fluidsynth libfluidsynth3 libinstpatch-1.0-2 qsynth\n",
            "0 upgraded, 5 newly installed, 0 to remove and 49 not upgraded.\n",
            "Need to get 130 MB of archives.\n",
            "After this operation, 151 MB of additional disk space will be used.\n",
            "Get:1 http://archive.ubuntu.com/ubuntu jammy/universe amd64 fluid-soundfont-gm all 3.1-5.3 [130 MB]\n",
            "Get:2 http://archive.ubuntu.com/ubuntu jammy/universe amd64 libinstpatch-1.0-2 amd64 1.1.6-1 [240 kB]\n",
            "Get:3 http://archive.ubuntu.com/ubuntu jammy/universe amd64 libfluidsynth3 amd64 2.2.5-1 [246 kB]\n",
            "Get:4 http://archive.ubuntu.com/ubuntu jammy/universe amd64 fluidsynth amd64 2.2.5-1 [27.4 kB]\n",
            "Get:5 http://archive.ubuntu.com/ubuntu jammy/universe amd64 qsynth amd64 0.9.6-1 [305 kB]\n",
            "Fetched 130 MB in 6s (22.2 MB/s)\n",
            "Selecting previously unselected package fluid-soundfont-gm.\n",
            "(Reading database ... 125643 files and directories currently installed.)\n",
            "Preparing to unpack .../fluid-soundfont-gm_3.1-5.3_all.deb ...\n",
            "Unpacking fluid-soundfont-gm (3.1-5.3) ...\n",
            "Selecting previously unselected package libinstpatch-1.0-2:amd64.\n",
            "Preparing to unpack .../libinstpatch-1.0-2_1.1.6-1_amd64.deb ...\n",
            "Unpacking libinstpatch-1.0-2:amd64 (1.1.6-1) ...\n",
            "Selecting previously unselected package libfluidsynth3:amd64.\n",
            "Preparing to unpack .../libfluidsynth3_2.2.5-1_amd64.deb ...\n",
            "Unpacking libfluidsynth3:amd64 (2.2.5-1) ...\n",
            "Selecting previously unselected package fluidsynth.\n",
            "Preparing to unpack .../fluidsynth_2.2.5-1_amd64.deb ...\n",
            "Unpacking fluidsynth (2.2.5-1) ...\n",
            "Selecting previously unselected package qsynth.\n",
            "Preparing to unpack .../qsynth_0.9.6-1_amd64.deb ...\n",
            "Unpacking qsynth (0.9.6-1) ...\n",
            "Setting up fluid-soundfont-gm (3.1-5.3) ...\n",
            "update-alternatives: using /usr/share/sounds/sf2/FluidR3_GM.sf2 to provide /usr/share/sounds/sf2/default-GM.sf2 (default-GM.sf2) in auto mode\n",
            "Setting up libinstpatch-1.0-2:amd64 (1.1.6-1) ...\n",
            "Setting up libfluidsynth3:amd64 (2.2.5-1) ...\n",
            "Setting up qsynth (0.9.6-1) ...\n",
            "Setting up fluidsynth (2.2.5-1) ...\n",
            "Created symlink /etc/systemd/user/default.target.wants/fluidsynth.service → /usr/lib/systemd/user/fluidsynth.service.\n",
            "Processing triggers for hicolor-icon-theme (0.17-2) ...\n",
            "Processing triggers for libc-bin (2.35-0ubuntu3.4) ...\n",
            "/sbin/ldconfig.real: /usr/local/lib/libtcm.so.1 is not a symbolic link\n",
            "\n",
            "/sbin/ldconfig.real: /usr/local/lib/libtbbmalloc_proxy.so.2 is not a symbolic link\n",
            "\n",
            "/sbin/ldconfig.real: /usr/local/lib/libhwloc.so.15 is not a symbolic link\n",
            "\n",
            "/sbin/ldconfig.real: /usr/local/lib/libur_loader.so.0 is not a symbolic link\n",
            "\n",
            "/sbin/ldconfig.real: /usr/local/lib/libtbbmalloc.so.2 is not a symbolic link\n",
            "\n",
            "/sbin/ldconfig.real: /usr/local/lib/libtcm_debug.so.1 is not a symbolic link\n",
            "\n",
            "/sbin/ldconfig.real: /usr/local/lib/libur_adapter_level_zero.so.0 is not a symbolic link\n",
            "\n",
            "/sbin/ldconfig.real: /usr/local/lib/libur_adapter_opencl.so.0 is not a symbolic link\n",
            "\n",
            "/sbin/ldconfig.real: /usr/local/lib/libumf.so.0 is not a symbolic link\n",
            "\n",
            "/sbin/ldconfig.real: /usr/local/lib/libtbbbind.so.3 is not a symbolic link\n",
            "\n",
            "/sbin/ldconfig.real: /usr/local/lib/libtbbbind_2_0.so.3 is not a symbolic link\n",
            "\n",
            "/sbin/ldconfig.real: /usr/local/lib/libtbbbind_2_5.so.3 is not a symbolic link\n",
            "\n",
            "/sbin/ldconfig.real: /usr/local/lib/libtbb.so.12 is not a symbolic link\n",
            "\n",
            "Processing triggers for man-db (2.10.2-1) ...\n",
            "Processing triggers for desktop-file-utils (0.26-1ubuntu3) ...\n"
          ]
        }
      ]
    },
    {
      "cell_type": "code",
      "execution_count": 3,
      "id": "84acc7be-6764-4668-b2bb-178f63deeed3",
      "metadata": {
        "id": "84acc7be-6764-4668-b2bb-178f63deeed3",
        "colab": {
          "base_uri": "https://localhost:8080/",
          "height": 35
        },
        "outputId": "049a75c6-f26e-4eed-abb0-a636f915f7f5"
      },
      "outputs": [
        {
          "output_type": "execute_result",
          "data": {
            "text/plain": [
              "'\\nfrom transformer_utils import (\\n    parse_midi_files,\\n    load_parsed_files,\\n    get_midi_note,\\n    SinePositionEncoding,\\n)'"
            ],
            "application/vnd.google.colaboratory.intrinsic+json": {
              "type": "string"
            }
          },
          "metadata": {},
          "execution_count": 3
        }
      ],
      "source": [
        "import os\n",
        "import glob\n",
        "import numpy as np\n",
        "import time\n",
        "import matplotlib.pyplot as plt\n",
        "\n",
        "import tensorflow as tf\n",
        "from tensorflow.keras import layers, models, losses, callbacks\n",
        "\n",
        "import music21\n",
        "'''\n",
        "from transformer_utils import (\n",
        "    parse_midi_files,\n",
        "    load_parsed_files,\n",
        "    get_midi_note,\n",
        "    SinePositionEncoding,\n",
        ")'''"
      ]
    },
    {
      "cell_type": "code",
      "source": [
        "from google.colab import drive\n",
        "import zipfile\n",
        "import os\n",
        "\n",
        "# First, mount Google Drive to access the file\n",
        "drive.mount('/content/drive')\n",
        "\n",
        "# Paths\n",
        "zip_file_path = '/content/drive/MyDrive/Colab Notebooks/GenAI/bach_cello_suites.zip'\n",
        "extract_to = '/content/'\n",
        "\n",
        "# Extract the file\n",
        "with zipfile.ZipFile(zip_file_path, 'r') as zip_ref:\n",
        "    zip_ref.extractall(extract_to)\n",
        "\n",
        "# Verify the extracted contents\n",
        "os.listdir(extract_to)\n",
        "\n",
        "# List the contents of the 'content' directory\n",
        "os.listdir('/content')"
      ],
      "metadata": {
        "colab": {
          "base_uri": "https://localhost:8080/"
        },
        "id": "AdN1F40BYWsU",
        "outputId": "571d2134-83f9-4388-cbd4-a508ca833486"
      },
      "id": "AdN1F40BYWsU",
      "execution_count": 4,
      "outputs": [
        {
          "output_type": "stream",
          "name": "stdout",
          "text": [
            "Mounted at /content/drive\n"
          ]
        },
        {
          "output_type": "execute_result",
          "data": {
            "text/plain": [
              "['.config', 'data', 'drive', 'sample_data']"
            ]
          },
          "metadata": {},
          "execution_count": 4
        }
      ]
    },
    {
      "cell_type": "code",
      "execution_count": 5,
      "id": "1b2ee6ce-129f-4833-b0c5-fa567381c4e0",
      "metadata": {
        "id": "1b2ee6ce-129f-4833-b0c5-fa567381c4e0"
      },
      "outputs": [],
      "source": [
        "PARSE_MIDI_FILES = True\n",
        "PARSED_DATA_PATH = \"/content/data/\"\n",
        "DATASET_REPETITIONS = 1\n",
        "\n",
        "SEQ_LEN = 50\n",
        "EMBEDDING_DIM = 256\n",
        "KEY_DIM = 256\n",
        "N_HEADS = 5\n",
        "DROPOUT_RATE = 0.3\n",
        "FEED_FORWARD_DIM = 256\n",
        "LOAD_MODEL = False\n",
        "\n",
        "# optimization\n",
        "EPOCHS = 5000\n",
        "BATCH_SIZE = 256\n",
        "\n",
        "GENERATE_LEN = 50"
      ]
    },
    {
      "cell_type": "markdown",
      "id": "7d4f5e63-e36a-4dc8-9f03-cb29c1fa5290",
      "metadata": {
        "id": "7d4f5e63-e36a-4dc8-9f03-cb29c1fa5290"
      },
      "source": [
        "## 1. Prepare the Data"
      ]
    },
    {
      "cell_type": "code",
      "execution_count": 6,
      "id": "73de38bd-0b92-4441-9601-ed4a3b45f924",
      "metadata": {
        "colab": {
          "base_uri": "https://localhost:8080/"
        },
        "id": "73de38bd-0b92-4441-9601-ed4a3b45f924",
        "outputId": "f28117f9-3583-4dff-ba77-390733e48a8b"
      },
      "outputs": [
        {
          "output_type": "stream",
          "name": "stdout",
          "text": [
            "Found 36 midi files\n"
          ]
        }
      ],
      "source": [
        "# Load the data\n",
        "file_list = glob.glob(\"/content/data/*.mid\")\n",
        "print(f\"Found {len(file_list)} midi files\")"
      ]
    },
    {
      "cell_type": "code",
      "execution_count": 7,
      "id": "b1ff575d-1632-43bf-844b-e5f2cea61454",
      "metadata": {
        "id": "b1ff575d-1632-43bf-844b-e5f2cea61454"
      },
      "outputs": [],
      "source": [
        "parser = music21.converter"
      ]
    },
    {
      "cell_type": "code",
      "execution_count": 8,
      "id": "b563da4f-0b08-4005-aa35-ca58a60a7def",
      "metadata": {
        "tags": [],
        "id": "b563da4f-0b08-4005-aa35-ca58a60a7def"
      },
      "outputs": [],
      "source": [
        "example_score = (\n",
        "    music21.converter.parse(file_list[1]).splitAtQuarterLength(12)[0].chordify()\n",
        ")"
      ]
    },
    {
      "cell_type": "code",
      "execution_count": 9,
      "id": "debce40c-2d56-4140-b65b-459c6464c1a7",
      "metadata": {
        "colab": {
          "base_uri": "https://localhost:8080/"
        },
        "id": "debce40c-2d56-4140-b65b-459c6464c1a7",
        "outputId": "6141c240-08e9-4896-a1b6-f45559eb9f50"
      },
      "outputs": [
        {
          "output_type": "stream",
          "name": "stdout",
          "text": [
            "{0.0} <music21.metadata.Metadata object at 0x7e7ec44556c0>\n",
            "{0.0} <music21.stream.Measure 1 offset=0.0>\n",
            "    {0.0} <music21.instrument.Violoncello 'Solo Cello: Solo Cello'>\n",
            "    {0.0} <music21.instrument.Violoncello 'Violoncello'>\n",
            "    {0.0} <music21.clef.BassClef>\n",
            "    {0.0} <music21.tempo.MetronomeMark Quarter=250>\n",
            "    {0.0} <music21.key.Key of G major>\n",
            "    {0.0} <music21.meter.TimeSignature 3/4>\n",
            "    {0.0} <music21.note.Rest 2.5ql>\n",
            "    {2.5} <music21.tempo.MetronomeMark Quarter=105>\n",
            "    {2.5} <music21.chord.Chord G3>\n",
            "{3.0} <music21.stream.Measure 2 offset=3.0>\n",
            "    {0.0} <music21.chord.Chord G3>\n",
            "    {0.5} <music21.chord.Chord D3>\n",
            "    {1.0} <music21.chord.Chord G2>\n",
            "    {1.5} <music21.chord.Chord B3>\n",
            "    {1.75} <music21.chord.Chord C4>\n",
            "    {2.0} <music21.chord.Chord D4>\n",
            "    {2.25} <music21.chord.Chord C4>\n",
            "    {2.5} <music21.chord.Chord B3>\n",
            "    {2.75} <music21.chord.Chord A3>\n",
            "{6.0} <music21.stream.Measure 3 offset=6.0>\n",
            "    {0.0} <music21.chord.Chord B3>\n",
            "    {0.5} <music21.chord.Chord D3>\n",
            "    {1.0} <music21.chord.Chord G2>\n",
            "    {1.5} <music21.chord.Chord G3>\n",
            "    {1.75} <music21.chord.Chord A3>\n",
            "    {2.0} <music21.chord.Chord B3>\n",
            "    {2.5} <music21.chord.Chord G3>\n",
            "{9.0} <music21.stream.Measure 4 offset=9.0>\n",
            "    {0.0} <music21.chord.Chord E3>\n",
            "    {0.5} <music21.chord.Chord C3>\n",
            "    {1.0} <music21.chord.Chord C2>\n",
            "    {1.5} <music21.chord.Chord A3>\n",
            "    {1.75} <music21.chord.Chord B3>\n",
            "    {2.0} <music21.chord.Chord C4>\n",
            "    {2.25} <music21.chord.Chord B3>\n",
            "    {2.5} <music21.chord.Chord A3>\n",
            "    {2.75} <music21.chord.Chord G3>\n"
          ]
        }
      ],
      "source": [
        "example_score.show(\"text\")"
      ]
    },
    {
      "cell_type": "code",
      "execution_count": 10,
      "id": "77459313-2417-4c18-b938-3a9859ec9bd9",
      "metadata": {
        "tags": [],
        "colab": {
          "base_uri": "https://localhost:8080/"
        },
        "id": "77459313-2417-4c18-b938-3a9859ec9bd9",
        "outputId": "fb88fdb3-9127-4a40-c404-2f014c10002f"
      },
      "outputs": [
        {
          "output_type": "stream",
          "name": "stdout",
          "text": [
            "1 Parsing /content/data/cs2-6gig.mid\n"
          ]
        },
        {
          "output_type": "stream",
          "name": "stderr",
          "text": [
            "<ipython-input-10-04172d0f16ff>:2: Music21DeprecationWarning: .flat is deprecated.  Call .flatten() instead\n",
            "  notes, durations = parse_midi_files(\n"
          ]
        },
        {
          "output_type": "stream",
          "name": "stdout",
          "text": [
            "735 notes parsed\n",
            "2 Parsing /content/data/cs1-3cou.mid\n",
            "1555 notes parsed\n",
            "3 Parsing /content/data/cs6-5gav.mid\n",
            "2361 notes parsed\n",
            "4 Parsing /content/data/cs3-2all.mid\n",
            "3098 notes parsed\n",
            "5 Parsing /content/data/cs3-6gig.mid\n",
            "4059 notes parsed\n",
            "6 Parsing /content/data/cs4-1pre.mid\n",
            "4876 notes parsed\n",
            "7 Parsing /content/data/cs5-3cou.mid\n",
            "5306 notes parsed\n",
            "8 Parsing /content/data/cs2-1pre.mid\n",
            "5944 notes parsed\n",
            "9 Parsing /content/data/cs6-6gig.mid\n",
            "7116 notes parsed\n",
            "10 Parsing /content/data/cs2-2all.mid\n",
            "7809 notes parsed\n",
            "11 Parsing /content/data/cs4-6gig.mid\n",
            "8780 notes parsed\n",
            "12 Parsing /content/data/cs4-3cou.mid\n",
            "9702 notes parsed\n",
            "13 Parsing /content/data/cs4-5bou.mid\n",
            "11026 notes parsed\n",
            "14 Parsing /content/data/cs3-1pre.mid\n",
            "12007 notes parsed\n",
            "15 Parsing /content/data/cs4-2all.mid\n",
            "13062 notes parsed\n",
            "16 Parsing /content/data/cs3-5bou.mid\n",
            "13943 notes parsed\n",
            "17 Parsing /content/data/cs5-6gig.mid\n",
            "14392 notes parsed\n",
            "18 Parsing /content/data/cs6-4sar.mid\n",
            "14727 notes parsed\n",
            "19 Parsing /content/data/cs6-2all.mid\n",
            "15412 notes parsed\n",
            "20 Parsing /content/data/cs1-1pre.mid\n",
            "16070 notes parsed\n",
            "21 Parsing /content/data/cs1-5men.mid\n",
            "16717 notes parsed\n",
            "22 Parsing /content/data/cs5-5gav.mid\n",
            "17919 notes parsed\n",
            "23 Parsing /content/data/cs6-3cou.mid\n",
            "19205 notes parsed\n",
            "24 Parsing /content/data/cs2-5men.mid\n",
            "19732 notes parsed\n",
            "25 Parsing /content/data/cs5-1pre.mid\n",
            "21041 notes parsed\n",
            "26 Parsing /content/data/cs1-2all.mid\n",
            "21962 notes parsed\n",
            "27 Parsing /content/data/cs1-4sar.mid\n",
            "22225 notes parsed\n",
            "28 Parsing /content/data/cs6-1pre.mid\n",
            "23567 notes parsed\n",
            "29 Parsing /content/data/cs3-4sar.mid\n",
            "23908 notes parsed\n",
            "30 Parsing /content/data/cs2-4sar.mid\n",
            "24245 notes parsed\n",
            "31 Parsing /content/data/cs5-2all.mid\n",
            "24937 notes parsed\n",
            "32 Parsing /content/data/cs3-3cou.mid\n",
            "25926 notes parsed\n",
            "33 Parsing /content/data/cs2-3cou.mid\n",
            "26667 notes parsed\n",
            "34 Parsing /content/data/cs4-4sar.mid\n",
            "26987 notes parsed\n",
            "35 Parsing /content/data/cs1-6gig.mid\n",
            "27413 notes parsed\n",
            "36 Parsing /content/data/cs5-4sar.mid\n",
            "27632 notes parsed\n",
            "Building sequences of length 51\n"
          ]
        }
      ],
      "source": [
        "if PARSE_MIDI_FILES:\n",
        "    notes, durations = parse_midi_files(\n",
        "        file_list, parser, SEQ_LEN + 1, PARSED_DATA_PATH\n",
        "    )\n",
        "else:\n",
        "    notes, durations = load_parsed_files()"
      ]
    },
    {
      "cell_type": "code",
      "execution_count": 11,
      "id": "99f17b33-193e-4d83-8e0a-54dc8e7b249d",
      "metadata": {
        "colab": {
          "base_uri": "https://localhost:8080/"
        },
        "id": "99f17b33-193e-4d83-8e0a-54dc8e7b249d",
        "outputId": "92d77eac-d9fb-48d3-82ff-48dbd76bdf92"
      },
      "outputs": [
        {
          "output_type": "stream",
          "name": "stdout",
          "text": [
            "\n",
            "Notes string\n",
            " G3 E3 D3 E3 F3 D3 G3 E3 D3 E3 F3 D3 G3 E3 C#3 B-3 A3 G3 F3 E3 F2 A3 G3 F3 E3 C#3 D3 B-2 A2 G2 A2 F2 D2 A2 D3 E3 F3 D3 E-3 F3 G3 E-3 F3 D3 G3 A3 B-3 G3 A3 F3 E-3 ...\n",
            "\n",
            "Duration string\n",
            " 0.25 0.25 0.25 0.25 0.25 0.25 0.25 0.25 0.25 0.25 0.25 0.25 0.25 0.25 0.25 0.25 0.25 0.25 0.25 0.25 0.25 0.25 0.25 0.25 0.25 0.25 0.25 0.25 0.25 0.25 0.25 0.25 0.25 0.25 0.25 0.25 0.25 0.25 0.25 0.25 0.25 0.25 0.25 0.25 0.25 0.25 0.25 0.25 0.25 0.25 0.25 ...\n"
          ]
        }
      ],
      "source": [
        "example_notes = notes[658]\n",
        "example_durations = durations[658]\n",
        "print(\"\\nNotes string\\n\", example_notes, \"...\")\n",
        "print(\"\\nDuration string\\n\", example_durations, \"...\")"
      ]
    },
    {
      "cell_type": "markdown",
      "id": "aba2f39c-882f-423a-88eb-334502413639",
      "metadata": {
        "id": "aba2f39c-882f-423a-88eb-334502413639"
      },
      "source": [
        "## 2. Tokenize the data <a name=\"tokenize\"></a>"
      ]
    },
    {
      "cell_type": "code",
      "execution_count": 12,
      "id": "244e093e-b977-4b1f-8f46-6503a55ea0fe",
      "metadata": {
        "id": "244e093e-b977-4b1f-8f46-6503a55ea0fe"
      },
      "outputs": [],
      "source": [
        "def create_dataset(elements):\n",
        "    ds = (\n",
        "        tf.data.Dataset.from_tensor_slices(elements)\n",
        "        .batch(BATCH_SIZE, drop_remainder=True)\n",
        "        .shuffle(1000)\n",
        "    )\n",
        "    vectorize_layer = layers.TextVectorization(\n",
        "        standardize=None, output_mode=\"int\"\n",
        "    )\n",
        "    vectorize_layer.adapt(ds)\n",
        "    vocab = vectorize_layer.get_vocabulary()\n",
        "    return ds, vectorize_layer, vocab\n",
        "\n",
        "\n",
        "notes_seq_ds, notes_vectorize_layer, notes_vocab = create_dataset(notes)\n",
        "durations_seq_ds, durations_vectorize_layer, durations_vocab = create_dataset(\n",
        "    durations\n",
        ")\n",
        "seq_ds = tf.data.Dataset.zip((notes_seq_ds, durations_seq_ds))"
      ]
    },
    {
      "cell_type": "code",
      "execution_count": 13,
      "id": "9ec4d36c-a4ad-4c32-89a2-749c21786441",
      "metadata": {
        "colab": {
          "base_uri": "https://localhost:8080/"
        },
        "id": "9ec4d36c-a4ad-4c32-89a2-749c21786441",
        "outputId": "6c4754a7-dc07-40c8-99ca-63a3d0841e19"
      },
      "outputs": [
        {
          "output_type": "stream",
          "name": "stdout",
          "text": [
            "note token duration token\n",
            "         2         2\n",
            "         8         2\n",
            "         4         2\n",
            "         8         2\n",
            "         5         2\n",
            "         4         2\n",
            "         2         2\n",
            "         8         2\n",
            "         4         2\n",
            "         8         2\n",
            "         5         2\n"
          ]
        }
      ],
      "source": [
        "# Display the same example notes and durations converted to ints\n",
        "example_tokenised_notes = notes_vectorize_layer(example_notes)\n",
        "example_tokenised_durations = durations_vectorize_layer(example_durations)\n",
        "print(\"{:10} {:10}\".format(\"note token\", \"duration token\"))\n",
        "for i, (note_int, duration_int) in enumerate(\n",
        "    zip(\n",
        "        example_tokenised_notes.numpy()[:11],\n",
        "        example_tokenised_durations.numpy()[:11],\n",
        "    )\n",
        "):\n",
        "    print(f\"{note_int:10}{duration_int:10}\")"
      ]
    },
    {
      "cell_type": "code",
      "execution_count": 14,
      "id": "8dc29b17-1591-4b02-98e1-7f25960350be",
      "metadata": {
        "colab": {
          "base_uri": "https://localhost:8080/"
        },
        "id": "8dc29b17-1591-4b02-98e1-7f25960350be",
        "outputId": "68547053-63d6-42b0-ddb9-f9a293354652"
      },
      "outputs": [
        {
          "output_type": "stream",
          "name": "stdout",
          "text": [
            "\n",
            "NOTES_VOCAB: length = 59\n",
            "0: \n",
            "1: [UNK]\n",
            "2: G3\n",
            "3: A3\n",
            "4: D3\n",
            "5: F3\n",
            "6: C4\n",
            "7: D4\n",
            "8: E3\n",
            "9: B3\n",
            "\n",
            "DURATIONS_VOCAB: length = 24\n",
            "0: \n",
            "1: [UNK]\n",
            "2: 0.25\n",
            "3: 0.5\n",
            "4: 1.0\n",
            "5: 1/3\n",
            "6: 0.75\n",
            "7: 1/12\n",
            "8: 1.5\n",
            "9: 1/6\n"
          ]
        }
      ],
      "source": [
        "notes_vocab_size = len(notes_vocab)\n",
        "durations_vocab_size = len(durations_vocab)\n",
        "\n",
        "# Display some token:note mappings\n",
        "print(f\"\\nNOTES_VOCAB: length = {len(notes_vocab)}\")\n",
        "for i, note in enumerate(notes_vocab[:10]):\n",
        "    print(f\"{i}: {note}\")\n",
        "\n",
        "print(f\"\\nDURATIONS_VOCAB: length = {len(durations_vocab)}\")\n",
        "# Display some token:duration mappings\n",
        "for i, note in enumerate(durations_vocab[:10]):\n",
        "    print(f\"{i}: {note}\")"
      ]
    },
    {
      "cell_type": "markdown",
      "id": "823fb0c1-ebf8-453b-be94-9a33b466cae4",
      "metadata": {
        "id": "823fb0c1-ebf8-453b-be94-9a33b466cae4"
      },
      "source": [
        "## 3. Create the Training Set <a name=\"create\"></a>"
      ]
    },
    {
      "cell_type": "code",
      "execution_count": 15,
      "id": "8f0f2a52-b157-478d-8de7-11ed6c383461",
      "metadata": {
        "tags": [],
        "id": "8f0f2a52-b157-478d-8de7-11ed6c383461"
      },
      "outputs": [],
      "source": [
        "# Create the training set of sequences and the same sequences shifted by one note\n",
        "def prepare_inputs(notes, durations):\n",
        "    notes = tf.expand_dims(notes, -1)\n",
        "    durations = tf.expand_dims(durations, -1)\n",
        "    tokenized_notes = notes_vectorize_layer(notes)\n",
        "    tokenized_durations = durations_vectorize_layer(durations)\n",
        "    x = (tokenized_notes[:, :-1], tokenized_durations[:, :-1])\n",
        "    y = (tokenized_notes[:, 1:], tokenized_durations[:, 1:])\n",
        "    return x, y\n",
        "\n",
        "\n",
        "ds = seq_ds.map(prepare_inputs).repeat(DATASET_REPETITIONS)"
      ]
    },
    {
      "cell_type": "code",
      "execution_count": 16,
      "id": "78248965-1716-4077-8db4-191e98c7a6a5",
      "metadata": {
        "colab": {
          "base_uri": "https://localhost:8080/"
        },
        "id": "78248965-1716-4077-8db4-191e98c7a6a5",
        "outputId": "82fc5bab-938f-4d0d-c674-b7afb02d79a2"
      },
      "outputs": [
        {
          "output_type": "stream",
          "name": "stdout",
          "text": [
            "((<tf.Tensor: shape=(256, 50), dtype=int64, numpy=\n",
            "array([[18, 16,  5, ...,  2,  5,  8],\n",
            "       [16,  5,  4, ...,  5,  8,  2],\n",
            "       [ 5,  4,  5, ...,  8,  2,  5],\n",
            "       ...,\n",
            "       [ 3,  9,  7, ...,  5,  9,  7],\n",
            "       [ 9,  7,  9, ...,  9,  7,  6],\n",
            "       [ 7,  9,  2, ...,  7,  6,  9]])>, <tf.Tensor: shape=(256, 50), dtype=int64, numpy=\n",
            "array([[2, 2, 2, ..., 2, 2, 2],\n",
            "       [2, 2, 2, ..., 2, 2, 2],\n",
            "       [2, 2, 2, ..., 2, 2, 2],\n",
            "       ...,\n",
            "       [2, 2, 2, ..., 2, 2, 3],\n",
            "       [2, 2, 2, ..., 2, 3, 3],\n",
            "       [2, 2, 2, ..., 3, 3, 8]])>), (<tf.Tensor: shape=(256, 50), dtype=int64, numpy=\n",
            "array([[16,  5,  4, ...,  5,  8,  2],\n",
            "       [ 5,  4,  5, ...,  8,  2,  5],\n",
            "       [ 4,  5, 18, ...,  2,  5,  4],\n",
            "       ...,\n",
            "       [ 9,  7,  9, ...,  9,  7,  6],\n",
            "       [ 7,  9,  2, ...,  7,  6,  9],\n",
            "       [ 9,  2,  4, ...,  6,  9,  3]])>, <tf.Tensor: shape=(256, 50), dtype=int64, numpy=\n",
            "array([[ 2,  2,  2, ...,  2,  2,  2],\n",
            "       [ 2,  2,  2, ...,  2,  2,  2],\n",
            "       [ 2,  2,  2, ...,  2,  2,  2],\n",
            "       ...,\n",
            "       [ 2,  2,  2, ...,  2,  3,  3],\n",
            "       [ 2,  2,  2, ...,  3,  3,  8],\n",
            "       [ 2,  2,  2, ...,  3,  8, 10]])>))\n"
          ]
        }
      ],
      "source": [
        "example_input_output = ds.take(1).get_single_element()\n",
        "print(example_input_output)"
      ]
    },
    {
      "cell_type": "markdown",
      "id": "5bb6376b-c4f9-4946-a736-94f1739c3149",
      "metadata": {
        "id": "5bb6376b-c4f9-4946-a736-94f1739c3149"
      },
      "source": [
        "## 4. Create the causal attention mask function <a name=\"causal\"></a>"
      ]
    },
    {
      "cell_type": "code",
      "execution_count": 17,
      "id": "afb6fa02-3b59-48eb-bcef-d51c9d32ec18",
      "metadata": {
        "colab": {
          "base_uri": "https://localhost:8080/"
        },
        "id": "afb6fa02-3b59-48eb-bcef-d51c9d32ec18",
        "outputId": "8249114d-7600-45ad-dd7c-72ed066c9736"
      },
      "outputs": [
        {
          "output_type": "execute_result",
          "data": {
            "text/plain": [
              "array([[1, 1, 1, 1, 1, 1, 1, 1, 1, 1],\n",
              "       [0, 1, 1, 1, 1, 1, 1, 1, 1, 1],\n",
              "       [0, 0, 1, 1, 1, 1, 1, 1, 1, 1],\n",
              "       [0, 0, 0, 1, 1, 1, 1, 1, 1, 1],\n",
              "       [0, 0, 0, 0, 1, 1, 1, 1, 1, 1],\n",
              "       [0, 0, 0, 0, 0, 1, 1, 1, 1, 1],\n",
              "       [0, 0, 0, 0, 0, 0, 1, 1, 1, 1],\n",
              "       [0, 0, 0, 0, 0, 0, 0, 1, 1, 1],\n",
              "       [0, 0, 0, 0, 0, 0, 0, 0, 1, 1],\n",
              "       [0, 0, 0, 0, 0, 0, 0, 0, 0, 1]], dtype=int32)"
            ]
          },
          "metadata": {},
          "execution_count": 17
        }
      ],
      "source": [
        "def causal_attention_mask(batch_size, n_dest, n_src, dtype):\n",
        "    i = tf.range(n_dest)[:, None]\n",
        "    j = tf.range(n_src)\n",
        "    m = i >= j - n_src + n_dest\n",
        "    mask = tf.cast(m, dtype)\n",
        "    mask = tf.reshape(mask, [1, n_dest, n_src])\n",
        "    mult = tf.concat(\n",
        "        [tf.expand_dims(batch_size, -1), tf.constant([1, 1], dtype=tf.int32)], 0\n",
        "    )\n",
        "    return tf.tile(mask, mult)\n",
        "\n",
        "\n",
        "np.transpose(causal_attention_mask(1, 10, 10, dtype=tf.int32)[0])"
      ]
    },
    {
      "cell_type": "markdown",
      "id": "52210a38-c8b4-4da7-90ce-eaa89c8fcafa",
      "metadata": {
        "id": "52210a38-c8b4-4da7-90ce-eaa89c8fcafa"
      },
      "source": [
        "## 5. Create a Transformer Block layer <a name=\"transformer\"></a>"
      ]
    },
    {
      "cell_type": "code",
      "execution_count": 18,
      "id": "bc3f25e8-4e3f-4849-9b92-676ea46e3ed2",
      "metadata": {
        "id": "bc3f25e8-4e3f-4849-9b92-676ea46e3ed2"
      },
      "outputs": [],
      "source": [
        "class TransformerBlock(layers.Layer):\n",
        "    def __init__(\n",
        "        self,\n",
        "        num_heads,\n",
        "        key_dim,\n",
        "        embed_dim,\n",
        "        ff_dim,\n",
        "        name,\n",
        "        dropout_rate=DROPOUT_RATE,\n",
        "    ):\n",
        "        super(TransformerBlock, self).__init__(name=name)\n",
        "        self.num_heads = num_heads\n",
        "        self.key_dim = key_dim\n",
        "        self.embed_dim = embed_dim\n",
        "        self.ff_dim = ff_dim\n",
        "        self.dropout_rate = dropout_rate\n",
        "        self.attn = layers.MultiHeadAttention(\n",
        "            num_heads, key_dim, output_shape=embed_dim\n",
        "        )\n",
        "        self.dropout_1 = layers.Dropout(self.dropout_rate)\n",
        "        self.ln_1 = layers.LayerNormalization(epsilon=1e-6)\n",
        "        self.ffn_1 = layers.Dense(self.ff_dim, activation=\"relu\")\n",
        "        self.ffn_2 = layers.Dense(self.embed_dim)\n",
        "        self.dropout_2 = layers.Dropout(self.dropout_rate)\n",
        "        self.ln_2 = layers.LayerNormalization(epsilon=1e-6)\n",
        "\n",
        "    def call(self, inputs):\n",
        "        input_shape = tf.shape(inputs)\n",
        "        batch_size = input_shape[0]\n",
        "        seq_len = input_shape[1]\n",
        "        causal_mask = causal_attention_mask(\n",
        "            batch_size, seq_len, seq_len, tf.bool\n",
        "        )\n",
        "        attention_output, attention_scores = self.attn(\n",
        "            inputs,\n",
        "            inputs,\n",
        "            attention_mask=causal_mask,\n",
        "            return_attention_scores=True,\n",
        "        )\n",
        "        attention_output = self.dropout_1(attention_output)\n",
        "        out1 = self.ln_1(inputs + attention_output)\n",
        "        ffn_1 = self.ffn_1(out1)\n",
        "        ffn_2 = self.ffn_2(ffn_1)\n",
        "        ffn_output = self.dropout_2(ffn_2)\n",
        "        return (self.ln_2(out1 + ffn_output), attention_scores)\n",
        "\n",
        "    def get_config(self):\n",
        "        config = super().get_config()\n",
        "        config.update(\n",
        "            {\n",
        "                \"key_dim\": self.key_dim,\n",
        "                \"embed_dim\": self.embed_dim,\n",
        "                \"num_heads\": self.num_heads,\n",
        "                \"ff_dim\": self.ff_dim,\n",
        "                \"dropout_rate\": self.dropout_rate,\n",
        "            }\n",
        "        )\n",
        "        return config"
      ]
    },
    {
      "cell_type": "markdown",
      "id": "37ee1198-3bfc-415a-b247-02b8166133fe",
      "metadata": {
        "id": "37ee1198-3bfc-415a-b247-02b8166133fe"
      },
      "source": [
        "## 6. Create the Token and Position Embedding <a name=\"embedder\"></a>"
      ]
    },
    {
      "cell_type": "code",
      "execution_count": 19,
      "id": "d7e30225-7fea-4a3c-afbc-b0017d5da661",
      "metadata": {
        "id": "d7e30225-7fea-4a3c-afbc-b0017d5da661"
      },
      "outputs": [],
      "source": [
        "class TokenAndPositionEmbedding(layers.Layer):\n",
        "    def __init__(self, vocab_size, embed_dim):\n",
        "        super(TokenAndPositionEmbedding, self).__init__()\n",
        "        self.vocab_size = vocab_size\n",
        "        self.embed_dim = embed_dim\n",
        "        self.token_emb = layers.Embedding(\n",
        "            input_dim=vocab_size,\n",
        "            output_dim=embed_dim,\n",
        "            embeddings_initializer=\"he_uniform\",\n",
        "        )\n",
        "        self.pos_emb = SinePositionEncoding()\n",
        "\n",
        "    def call(self, x):\n",
        "        embedding = self.token_emb(x)\n",
        "        positions = self.pos_emb(embedding)\n",
        "        return embedding + positions\n",
        "\n",
        "    def get_config(self):\n",
        "        config = super().get_config()\n",
        "        config.update(\n",
        "            {\n",
        "                \"vocab_size\": self.vocab_size,\n",
        "                \"embed_dim\": self.embed_dim,\n",
        "            }\n",
        "        )\n",
        "        return config"
      ]
    },
    {
      "cell_type": "code",
      "execution_count": 20,
      "id": "96ec1c62-c375-4831-99f3-d313f98f39b6",
      "metadata": {
        "colab": {
          "base_uri": "https://localhost:8080/",
          "height": 1000
        },
        "id": "96ec1c62-c375-4831-99f3-d313f98f39b6",
        "outputId": "8b5fa319-8fee-4c73-ffb6-7ed73a1d2db6"
      },
      "outputs": [
        {
          "output_type": "display_data",
          "data": {
            "text/plain": [
              "<Figure size 640x480 with 1 Axes>"
            ],
            "image/png": "[encoded data removed]"
          },
          "metadata": {
            "image/png": {
              "width": 547,
              "height": 354
            }
          }
        },
        {
          "output_type": "display_data",
          "data": {
            "text/plain": [
              "<Figure size 640x480 with 1 Axes>"
            ],
            "image/png": "[encoded data removed]"
          },
          "metadata": {
            "image/png": {
              "width": 547,
              "height": 354
            }
          }
        },
        {
          "output_type": "display_data",
          "data": {
            "text/plain": [
              "<Figure size 640x480 with 1 Axes>"
            ],
            "image/png": "[encoded data removed]"
          },
          "metadata": {
            "image/png": {
              "width": 547,
              "height": 354
            }
          }
        }
      ],
      "source": [
        "tpe = TokenAndPositionEmbedding(notes_vocab_size, 32)\n",
        "token_embedding = tpe.token_emb(example_tokenised_notes)\n",
        "position_embedding = tpe.pos_emb(token_embedding)\n",
        "embedding = tpe(example_tokenised_notes)\n",
        "plt.imshow(\n",
        "    np.transpose(token_embedding),\n",
        "    cmap=\"coolwarm\",\n",
        "    interpolation=\"nearest\",\n",
        "    origin=\"lower\",\n",
        ")\n",
        "plt.show()\n",
        "plt.imshow(\n",
        "    np.transpose(position_embedding),\n",
        "    cmap=\"coolwarm\",\n",
        "    interpolation=\"nearest\",\n",
        "    origin=\"lower\",\n",
        ")\n",
        "plt.show()\n",
        "plt.imshow(\n",
        "    np.transpose(embedding),\n",
        "    cmap=\"coolwarm\",\n",
        "    interpolation=\"nearest\",\n",
        "    origin=\"lower\",\n",
        ")\n",
        "plt.show()"
      ]
    },
    {
      "cell_type": "markdown",
      "id": "fee70157-5cb1-466c-bb9d-ba4720a93173",
      "metadata": {
        "id": "fee70157-5cb1-466c-bb9d-ba4720a93173"
      },
      "source": [
        "## 7. Build the Transformer model <a name=\"transformer_decoder\"></a>"
      ]
    },
    {
      "cell_type": "code",
      "execution_count": 21,
      "id": "df56f070-228b-4364-94ae-5b6a12349960",
      "metadata": {
        "id": "df56f070-228b-4364-94ae-5b6a12349960"
      },
      "outputs": [],
      "source": [
        "note_inputs = layers.Input(shape=(None,), dtype=tf.int32)\n",
        "durations_inputs = layers.Input(shape=(None,), dtype=tf.int32)\n",
        "note_embeddings = TokenAndPositionEmbedding(\n",
        "    notes_vocab_size, EMBEDDING_DIM // 2\n",
        ")(note_inputs)\n",
        "duration_embeddings = TokenAndPositionEmbedding(\n",
        "    durations_vocab_size, EMBEDDING_DIM // 2\n",
        ")(durations_inputs)\n",
        "embeddings = layers.Concatenate()([note_embeddings, duration_embeddings])\n",
        "x, attention_scores = TransformerBlock(\n",
        "    N_HEADS, KEY_DIM, EMBEDDING_DIM, FEED_FORWARD_DIM, name=\"attention\"\n",
        ")(embeddings)\n",
        "note_outputs = layers.Dense(\n",
        "    notes_vocab_size, activation=\"softmax\", name=\"note_outputs\"\n",
        ")(x)\n",
        "duration_outputs = layers.Dense(\n",
        "    durations_vocab_size, activation=\"softmax\", name=\"duration_outputs\"\n",
        ")(x)\n",
        "model = models.Model(\n",
        "    inputs=[note_inputs, durations_inputs],\n",
        "    outputs=[note_outputs, duration_outputs],  # attention_scores\n",
        ")\n",
        "model.compile(\n",
        "    \"adam\",\n",
        "    loss=[\n",
        "        losses.SparseCategoricalCrossentropy(),\n",
        "        losses.SparseCategoricalCrossentropy(),\n",
        "    ],\n",
        ")\n",
        "att_model = models.Model(\n",
        "    inputs=[note_inputs, durations_inputs], outputs=attention_scores\n",
        ")"
      ]
    },
    {
      "cell_type": "code",
      "execution_count": 22,
      "id": "eddbcc80-d0e9-41f0-bd70-032d489369b4",
      "metadata": {
        "colab": {
          "base_uri": "https://localhost:8080/",
          "height": 465
        },
        "id": "eddbcc80-d0e9-41f0-bd70-032d489369b4",
        "outputId": "e655199b-fbe7-4483-db92-c30dc50416ac"
      },
      "outputs": [
        {
          "output_type": "display_data",
          "data": {
            "text/plain": [
              "\u001b[1mModel: \"functional\"\u001b[0m\n"
            ],
            "text/html": [
              "<pre style=\"white-space:pre;overflow-x:auto;line-height:normal;font-family:Menlo,'DejaVu Sans Mono',consolas,'Courier New',monospace\"><span style=\"font-weight: bold\">Model: \"functional\"</span>\n",
              "</pre>\n"
            ]
          },
          "metadata": {}
        },
        {
          "output_type": "display_data",
          "data": {
            "text/plain": [
              "┏━━━━━━━━━━━━━━━━━━━━━━━━━━━┳━━━━━━━━━━━━━━━━━━━━━━━━┳━━━━━━━━━━━━━━━━┳━━━━━━━━━━━━━━━━━━━━━━━━┓\n",
              "┃\u001b[1m \u001b[0m\u001b[1mLayer (type)             \u001b[0m\u001b[1m \u001b[0m┃\u001b[1m \u001b[0m\u001b[1mOutput Shape          \u001b[0m\u001b[1m \u001b[0m┃\u001b[1m \u001b[0m\u001b[1m       Param #\u001b[0m\u001b[1m \u001b[0m┃\u001b[1m \u001b[0m\u001b[1mConnected to          \u001b[0m\u001b[1m \u001b[0m┃\n",
              "┡━━━━━━━━━━━━━━━━━━━━━━━━━━━╇━━━━━━━━━━━━━━━━━━━━━━━━╇━━━━━━━━━━━━━━━━╇━━━━━━━━━━━━━━━━━━━━━━━━┩\n",
              "│ input_layer (\u001b[38;5;33mInputLayer\u001b[0m)  │ (\u001b[38;5;45mNone\u001b[0m, \u001b[38;5;45mNone\u001b[0m)           │              \u001b[38;5;34m0\u001b[0m │ -                      │\n",
              "├───────────────────────────┼────────────────────────┼────────────────┼────────────────────────┤\n",
              "│ input_layer_1             │ (\u001b[38;5;45mNone\u001b[0m, \u001b[38;5;45mNone\u001b[0m)           │              \u001b[38;5;34m0\u001b[0m │ -                      │\n",
              "│ (\u001b[38;5;33mInputLayer\u001b[0m)              │                        │                │                        │\n",
              "├───────────────────────────┼────────────────────────┼────────────────┼────────────────────────┤\n",
              "│ token_and_position_embed… │ (\u001b[38;5;45mNone\u001b[0m, \u001b[38;5;45mNone\u001b[0m, \u001b[38;5;34m128\u001b[0m)      │          \u001b[38;5;34m7,552\u001b[0m │ input_layer[\u001b[38;5;34m0\u001b[0m][\u001b[38;5;34m0\u001b[0m]      │\n",
              "│ (\u001b[38;5;33mTokenAndPositionEmbeddi…\u001b[0m │                        │                │                        │\n",
              "├───────────────────────────┼────────────────────────┼────────────────┼────────────────────────┤\n",
              "│ token_and_position_embed… │ (\u001b[38;5;45mNone\u001b[0m, \u001b[38;5;45mNone\u001b[0m, \u001b[38;5;34m128\u001b[0m)      │          \u001b[38;5;34m3,072\u001b[0m │ input_layer_1[\u001b[38;5;34m0\u001b[0m][\u001b[38;5;34m0\u001b[0m]    │\n",
              "│ (\u001b[38;5;33mTokenAndPositionEmbeddi…\u001b[0m │                        │                │                        │\n",
              "├───────────────────────────┼────────────────────────┼────────────────┼────────────────────────┤\n",
              "│ concatenate (\u001b[38;5;33mConcatenate\u001b[0m) │ (\u001b[38;5;45mNone\u001b[0m, \u001b[38;5;45mNone\u001b[0m, \u001b[38;5;34m256\u001b[0m)      │              \u001b[38;5;34m0\u001b[0m │ token_and_position_em… │\n",
              "│                           │                        │                │ token_and_position_em… │\n",
              "├───────────────────────────┼────────────────────────┼────────────────┼────────────────────────┤\n",
              "│ attention                 │ [(\u001b[38;5;45mNone\u001b[0m, \u001b[38;5;45mNone\u001b[0m, \u001b[38;5;34m256\u001b[0m),    │      \u001b[38;5;34m1,447,424\u001b[0m │ concatenate[\u001b[38;5;34m0\u001b[0m][\u001b[38;5;34m0\u001b[0m]      │\n",
              "│ (\u001b[38;5;33mTransformerBlock\u001b[0m)        │ (\u001b[38;5;45mNone\u001b[0m, \u001b[38;5;34m5\u001b[0m, \u001b[38;5;45mNone\u001b[0m, \u001b[38;5;45mNone\u001b[0m)] │                │                        │\n",
              "├───────────────────────────┼────────────────────────┼────────────────┼────────────────────────┤\n",
              "│ note_outputs (\u001b[38;5;33mDense\u001b[0m)      │ (\u001b[38;5;45mNone\u001b[0m, \u001b[38;5;45mNone\u001b[0m, \u001b[38;5;34m59\u001b[0m)       │         \u001b[38;5;34m15,163\u001b[0m │ attention[\u001b[38;5;34m0\u001b[0m][\u001b[38;5;34m0\u001b[0m]        │\n",
              "├───────────────────────────┼────────────────────────┼────────────────┼────────────────────────┤\n",
              "│ duration_outputs (\u001b[38;5;33mDense\u001b[0m)  │ (\u001b[38;5;45mNone\u001b[0m, \u001b[38;5;45mNone\u001b[0m, \u001b[38;5;34m24\u001b[0m)       │          \u001b[38;5;34m6,168\u001b[0m │ attention[\u001b[38;5;34m0\u001b[0m][\u001b[38;5;34m0\u001b[0m]        │\n",
              "└───────────────────────────┴────────────────────────┴────────────────┴────────────────────────┘\n"
            ],
            "text/html": [
              "<pre style=\"white-space:pre;overflow-x:auto;line-height:normal;font-family:Menlo,'DejaVu Sans Mono',consolas,'Courier New',monospace\">┏━━━━━━━━━━━━━━━━━━━━━━━━━━━┳━━━━━━━━━━━━━━━━━━━━━━━━┳━━━━━━━━━━━━━━━━┳━━━━━━━━━━━━━━━━━━━━━━━━┓\n",
              "┃<span style=\"font-weight: bold\"> Layer (type)              </span>┃<span style=\"font-weight: bold\"> Output Shape           </span>┃<span style=\"font-weight: bold\">        Param # </span>┃<span style=\"font-weight: bold\"> Connected to           </span>┃\n",
              "┡━━━━━━━━━━━━━━━━━━━━━━━━━━━╇━━━━━━━━━━━━━━━━━━━━━━━━╇━━━━━━━━━━━━━━━━╇━━━━━━━━━━━━━━━━━━━━━━━━┩\n",
              "│ input_layer (<span style=\"color: #0087ff; text-decoration-color: #0087ff\">InputLayer</span>)  │ (<span style=\"color: #00d7ff; text-decoration-color: #00d7ff\">None</span>, <span style=\"color: #00d7ff; text-decoration-color: #00d7ff\">None</span>)           │              <span style=\"color: #00af00; text-decoration-color: #00af00\">0</span> │ -                      │\n",
              "├───────────────────────────┼────────────────────────┼────────────────┼────────────────────────┤\n",
              "│ input_layer_1             │ (<span style=\"color: #00d7ff; text-decoration-color: #00d7ff\">None</span>, <span style=\"color: #00d7ff; text-decoration-color: #00d7ff\">None</span>)           │              <span style=\"color: #00af00; text-decoration-color: #00af00\">0</span> │ -                      │\n",
              "│ (<span style=\"color: #0087ff; text-decoration-color: #0087ff\">InputLayer</span>)              │                        │                │                        │\n",
              "├───────────────────────────┼────────────────────────┼────────────────┼────────────────────────┤\n",
              "│ token_and_position_embed… │ (<span style=\"color: #00d7ff; text-decoration-color: #00d7ff\">None</span>, <span style=\"color: #00d7ff; text-decoration-color: #00d7ff\">None</span>, <span style=\"color: #00af00; text-decoration-color: #00af00\">128</span>)      │          <span style=\"color: #00af00; text-decoration-color: #00af00\">7,552</span> │ input_layer[<span style=\"color: #00af00; text-decoration-color: #00af00\">0</span>][<span style=\"color: #00af00; text-decoration-color: #00af00\">0</span>]      │\n",
              "│ (<span style=\"color: #0087ff; text-decoration-color: #0087ff\">TokenAndPositionEmbeddi…</span> │                        │                │                        │\n",
              "├───────────────────────────┼────────────────────────┼────────────────┼────────────────────────┤\n",
              "│ token_and_position_embed… │ (<span style=\"color: #00d7ff; text-decoration-color: #00d7ff\">None</span>, <span style=\"color: #00d7ff; text-decoration-color: #00d7ff\">None</span>, <span style=\"color: #00af00; text-decoration-color: #00af00\">128</span>)      │          <span style=\"color: #00af00; text-decoration-color: #00af00\">3,072</span> │ input_layer_1[<span style=\"color: #00af00; text-decoration-color: #00af00\">0</span>][<span style=\"color: #00af00; text-decoration-color: #00af00\">0</span>]    │\n",
              "│ (<span style=\"color: #0087ff; text-decoration-color: #0087ff\">TokenAndPositionEmbeddi…</span> │                        │                │                        │\n",
              "├───────────────────────────┼────────────────────────┼────────────────┼────────────────────────┤\n",
              "│ concatenate (<span style=\"color: #0087ff; text-decoration-color: #0087ff\">Concatenate</span>) │ (<span style=\"color: #00d7ff; text-decoration-color: #00d7ff\">None</span>, <span style=\"color: #00d7ff; text-decoration-color: #00d7ff\">None</span>, <span style=\"color: #00af00; text-decoration-color: #00af00\">256</span>)      │              <span style=\"color: #00af00; text-decoration-color: #00af00\">0</span> │ token_and_position_em… │\n",
              "│                           │                        │                │ token_and_position_em… │\n",
              "├───────────────────────────┼────────────────────────┼────────────────┼────────────────────────┤\n",
              "│ attention                 │ [(<span style=\"color: #00d7ff; text-decoration-color: #00d7ff\">None</span>, <span style=\"color: #00d7ff; text-decoration-color: #00d7ff\">None</span>, <span style=\"color: #00af00; text-decoration-color: #00af00\">256</span>),    │      <span style=\"color: #00af00; text-decoration-color: #00af00\">1,447,424</span> │ concatenate[<span style=\"color: #00af00; text-decoration-color: #00af00\">0</span>][<span style=\"color: #00af00; text-decoration-color: #00af00\">0</span>]      │\n",
              "│ (<span style=\"color: #0087ff; text-decoration-color: #0087ff\">TransformerBlock</span>)        │ (<span style=\"color: #00d7ff; text-decoration-color: #00d7ff\">None</span>, <span style=\"color: #00af00; text-decoration-color: #00af00\">5</span>, <span style=\"color: #00d7ff; text-decoration-color: #00d7ff\">None</span>, <span style=\"color: #00d7ff; text-decoration-color: #00d7ff\">None</span>)] │                │                        │\n",
              "├───────────────────────────┼────────────────────────┼────────────────┼────────────────────────┤\n",
              "│ note_outputs (<span style=\"color: #0087ff; text-decoration-color: #0087ff\">Dense</span>)      │ (<span style=\"color: #00d7ff; text-decoration-color: #00d7ff\">None</span>, <span style=\"color: #00d7ff; text-decoration-color: #00d7ff\">None</span>, <span style=\"color: #00af00; text-decoration-color: #00af00\">59</span>)       │         <span style=\"color: #00af00; text-decoration-color: #00af00\">15,163</span> │ attention[<span style=\"color: #00af00; text-decoration-color: #00af00\">0</span>][<span style=\"color: #00af00; text-decoration-color: #00af00\">0</span>]        │\n",
              "├───────────────────────────┼────────────────────────┼────────────────┼────────────────────────┤\n",
              "│ duration_outputs (<span style=\"color: #0087ff; text-decoration-color: #0087ff\">Dense</span>)  │ (<span style=\"color: #00d7ff; text-decoration-color: #00d7ff\">None</span>, <span style=\"color: #00d7ff; text-decoration-color: #00d7ff\">None</span>, <span style=\"color: #00af00; text-decoration-color: #00af00\">24</span>)       │          <span style=\"color: #00af00; text-decoration-color: #00af00\">6,168</span> │ attention[<span style=\"color: #00af00; text-decoration-color: #00af00\">0</span>][<span style=\"color: #00af00; text-decoration-color: #00af00\">0</span>]        │\n",
              "└───────────────────────────┴────────────────────────┴────────────────┴────────────────────────┘\n",
              "</pre>\n"
            ]
          },
          "metadata": {}
        },
        {
          "output_type": "display_data",
          "data": {
            "text/plain": [
              "\u001b[1m Total params: \u001b[0m\u001b[38;5;34m1,479,379\u001b[0m (5.64 MB)\n"
            ],
            "text/html": [
              "<pre style=\"white-space:pre;overflow-x:auto;line-height:normal;font-family:Menlo,'DejaVu Sans Mono',consolas,'Courier New',monospace\"><span style=\"font-weight: bold\"> Total params: </span><span style=\"color: #00af00; text-decoration-color: #00af00\">1,479,379</span> (5.64 MB)\n",
              "</pre>\n"
            ]
          },
          "metadata": {}
        },
        {
          "output_type": "display_data",
          "data": {
            "text/plain": [
              "\u001b[1m Trainable params: \u001b[0m\u001b[38;5;34m1,479,379\u001b[0m (5.64 MB)\n"
            ],
            "text/html": [
              "<pre style=\"white-space:pre;overflow-x:auto;line-height:normal;font-family:Menlo,'DejaVu Sans Mono',consolas,'Courier New',monospace\"><span style=\"font-weight: bold\"> Trainable params: </span><span style=\"color: #00af00; text-decoration-color: #00af00\">1,479,379</span> (5.64 MB)\n",
              "</pre>\n"
            ]
          },
          "metadata": {}
        },
        {
          "output_type": "display_data",
          "data": {
            "text/plain": [
              "\u001b[1m Non-trainable params: \u001b[0m\u001b[38;5;34m0\u001b[0m (0.00 B)\n"
            ],
            "text/html": [
              "<pre style=\"white-space:pre;overflow-x:auto;line-height:normal;font-family:Menlo,'DejaVu Sans Mono',consolas,'Courier New',monospace\"><span style=\"font-weight: bold\"> Non-trainable params: </span><span style=\"color: #00af00; text-decoration-color: #00af00\">0</span> (0.00 B)\n",
              "</pre>\n"
            ]
          },
          "metadata": {}
        }
      ],
      "source": [
        "model.summary()"
      ]
    },
    {
      "cell_type": "markdown",
      "id": "afeab12c-b871-47c0-884c-752238b9f719",
      "metadata": {
        "id": "afeab12c-b871-47c0-884c-752238b9f719"
      },
      "source": [
        "## 8. Train the Transformer <a name=\"train\"></a>"
      ]
    },
    {
      "cell_type": "code",
      "execution_count": 23,
      "id": "a2003f19-610a-4acb-a225-0f6c1a3d3a1f",
      "metadata": {
        "id": "a2003f19-610a-4acb-a225-0f6c1a3d3a1f",
        "colab": {
          "base_uri": "https://localhost:8080/",
          "height": 87
        },
        "outputId": "d1efb567-a0ab-4ae1-c956-8ab63980221b"
      },
      "outputs": [
        {
          "output_type": "execute_result",
          "data": {
            "text/plain": [
              "'\\n    def on_epoch_end(self, epoch, logs=None):\\n        info = self.generate(\\n            [\"START\"], [\"0.0\"], max_tokens=GENERATE_LEN, temperature=0.5\\n        )\\n        midi_stream = info[-1][\"midi\"].chordify()\\n        print(info[-1][\"prompt\"])\\n        #midi_stream.show()\\n        midi_stream.write(\\n            \"midi\",\\n            fp=os.path.join(\\n                \"/content/output\",\\n                \"output-\" + str(epoch).zfill(4) + \".mid\",\\n            ),\\n        )'"
            ],
            "application/vnd.google.colaboratory.intrinsic+json": {
              "type": "string"
            }
          },
          "metadata": {},
          "execution_count": 23
        }
      ],
      "source": [
        "# Create a MusicGenerator checkpoint\n",
        "class MusicGenerator(callbacks.Callback):\n",
        "    def __init__(self, index_to_note, index_to_duration, top_k=10):\n",
        "        self.index_to_note = index_to_note\n",
        "        self.note_to_index = {\n",
        "            note: index for index, note in enumerate(index_to_note)\n",
        "        }\n",
        "        self.index_to_duration = index_to_duration\n",
        "        self.duration_to_index = {\n",
        "            duration: index for index, duration in enumerate(index_to_duration)\n",
        "        }\n",
        "\n",
        "    def sample_from(self, probs, temperature):\n",
        "        probs = probs ** (1 / temperature)\n",
        "        probs = probs / np.sum(probs)\n",
        "        return np.random.choice(len(probs), p=probs), probs\n",
        "\n",
        "    def get_note(self, notes, durations, temperature):\n",
        "        sample_note_idx = 1\n",
        "        while sample_note_idx == 1:\n",
        "            sample_note_idx, note_probs = self.sample_from(\n",
        "                notes[0][-1], temperature\n",
        "            )\n",
        "            sample_note = self.index_to_note[sample_note_idx]\n",
        "\n",
        "        sample_duration_idx = 1\n",
        "        while sample_duration_idx == 1:\n",
        "            sample_duration_idx, duration_probs = self.sample_from(\n",
        "                durations[0][-1], temperature\n",
        "            )\n",
        "            sample_duration = self.index_to_duration[sample_duration_idx]\n",
        "\n",
        "        new_note = get_midi_note(sample_note, sample_duration)\n",
        "\n",
        "        return (\n",
        "            new_note,\n",
        "            sample_note_idx,\n",
        "            sample_note,\n",
        "            note_probs,\n",
        "            sample_duration_idx,\n",
        "            sample_duration,\n",
        "            duration_probs,\n",
        "        )\n",
        "\n",
        "    def generate(self, start_notes, start_durations, max_tokens, temperature):\n",
        "        attention_model = models.Model(\n",
        "            inputs=self.model.input,\n",
        "            outputs=self.model.get_layer(\"attention\").output,\n",
        "        )\n",
        "\n",
        "        start_note_tokens = [self.note_to_index.get(x, 1) for x in start_notes]\n",
        "        start_duration_tokens = [\n",
        "            self.duration_to_index.get(x, 1) for x in start_durations\n",
        "        ]\n",
        "        sample_note = None\n",
        "        sample_duration = None\n",
        "        info = []\n",
        "        midi_stream = music21.stream.Stream()\n",
        "\n",
        "        midi_stream.append(music21.clef.BassClef())\n",
        "\n",
        "        for sample_note, sample_duration in zip(start_notes, start_durations):\n",
        "            new_note = get_midi_note(sample_note, sample_duration)\n",
        "            if new_note is not None:\n",
        "                midi_stream.append(new_note)\n",
        "\n",
        "        while len(start_note_tokens) < max_tokens:\n",
        "            x1 = np.array([start_note_tokens])\n",
        "            x2 = np.array([start_duration_tokens])\n",
        "            notes, durations = self.model.predict([x1, x2], verbose=0)\n",
        "\n",
        "            repeat = True\n",
        "\n",
        "            while repeat:\n",
        "                (\n",
        "                    new_note,\n",
        "                    sample_note_idx,\n",
        "                    sample_note,\n",
        "                    note_probs,\n",
        "                    sample_duration_idx,\n",
        "                    sample_duration,\n",
        "                    duration_probs,\n",
        "                ) = self.get_note(notes, durations, temperature)\n",
        "\n",
        "                if (\n",
        "                    isinstance(new_note, music21.chord.Chord)\n",
        "                    or isinstance(new_note, music21.note.Note)\n",
        "                    or isinstance(new_note, music21.note.Rest)\n",
        "                ) and sample_duration == \"0.0\":\n",
        "                    repeat = True\n",
        "                else:\n",
        "                    repeat = False\n",
        "\n",
        "            if new_note is not None:\n",
        "                midi_stream.append(new_note)\n",
        "\n",
        "            _, att = attention_model.predict([x1, x2], verbose=0)\n",
        "\n",
        "            info.append(\n",
        "                {\n",
        "                    \"prompt\": [start_notes.copy(), start_durations.copy()],\n",
        "                    \"midi\": midi_stream,\n",
        "                    \"chosen_note\": (sample_note, sample_duration),\n",
        "                    \"note_probs\": note_probs,\n",
        "                    \"duration_probs\": duration_probs,\n",
        "                    \"atts\": att[0, :, -1, :],\n",
        "                }\n",
        "            )\n",
        "            start_note_tokens.append(sample_note_idx)\n",
        "            start_duration_tokens.append(sample_duration_idx)\n",
        "            start_notes.append(sample_note)\n",
        "            start_durations.append(sample_duration)\n",
        "\n",
        "            if sample_note == \"START\":\n",
        "                break\n",
        "\n",
        "        return info\n",
        "'''\n",
        "    def on_epoch_end(self, epoch, logs=None):\n",
        "        info = self.generate(\n",
        "            [\"START\"], [\"0.0\"], max_tokens=GENERATE_LEN, temperature=0.5\n",
        "        )\n",
        "        midi_stream = info[-1][\"midi\"].chordify()\n",
        "        print(info[-1][\"prompt\"])\n",
        "        #midi_stream.show()\n",
        "        midi_stream.write(\n",
        "            \"midi\",\n",
        "            fp=os.path.join(\n",
        "                \"/content/output\",\n",
        "                \"output-\" + str(epoch).zfill(4) + \".mid\",\n",
        "            ),\n",
        "        )'''"
      ]
    },
    {
      "cell_type": "code",
      "execution_count": 24,
      "id": "48a82971-e609-4ced-9fd1-60eb9694c08a",
      "metadata": {
        "id": "48a82971-e609-4ced-9fd1-60eb9694c08a"
      },
      "outputs": [],
      "source": [
        "# Tokenize starting prompt\n",
        "music_generator = MusicGenerator(notes_vocab, durations_vocab)"
      ]
    },
    {
      "cell_type": "code",
      "execution_count": 25,
      "id": "69f0c057-01c8-4a6a-9d82-8e83e66aa075",
      "metadata": {
        "tags": [],
        "colab": {
          "base_uri": "https://localhost:8080/"
        },
        "id": "69f0c057-01c8-4a6a-9d82-8e83e66aa075",
        "outputId": "47d9cab0-f3c8-491a-d603-bfc90383c245"
      },
      "outputs": [
        {
          "output_type": "stream",
          "name": "stdout",
          "text": [
            "Epoch 1/300\n",
            "\u001b[1m107/107\u001b[0m \u001b[32m━━━━━━━━━━━━━━━━━━━━\u001b[0m\u001b[37m\u001b[0m \u001b[1m15s\u001b[0m 52ms/step - duration_outputs_loss: 1.2661 - loss: 4.8741 - note_outputs_loss: 3.6080\n",
            "Epoch 2/300\n",
            "\u001b[1m107/107\u001b[0m \u001b[32m━━━━━━━━━━━━━━━━━━━━\u001b[0m\u001b[37m\u001b[0m \u001b[1m15s\u001b[0m 53ms/step - duration_outputs_loss: 0.7440 - loss: 3.5142 - note_outputs_loss: 2.7702\n",
            "Epoch 3/300\n",
            "\u001b[1m107/107\u001b[0m \u001b[32m━━━━━━━━━━━━━━━━━━━━\u001b[0m\u001b[37m\u001b[0m \u001b[1m6s\u001b[0m 51ms/step - duration_outputs_loss: 0.6166 - loss: 3.2151 - note_outputs_loss: 2.5985\n",
            "Epoch 4/300\n",
            "\u001b[1m107/107\u001b[0m \u001b[32m━━━━━━━━━━━━━━━━━━━━\u001b[0m\u001b[37m\u001b[0m \u001b[1m6s\u001b[0m 52ms/step - duration_outputs_loss: 0.6059 - loss: 3.0777 - note_outputs_loss: 2.4717\n",
            "Epoch 5/300\n",
            "\u001b[1m107/107\u001b[0m \u001b[32m━━━━━━━━━━━━━━━━━━━━\u001b[0m\u001b[37m\u001b[0m \u001b[1m6s\u001b[0m 53ms/step - duration_outputs_loss: 0.5482 - loss: 2.9016 - note_outputs_loss: 2.3534\n",
            "Epoch 6/300\n",
            "\u001b[1m107/107\u001b[0m \u001b[32m━━━━━━━━━━━━━━━━━━━━\u001b[0m\u001b[37m\u001b[0m \u001b[1m6s\u001b[0m 52ms/step - duration_outputs_loss: 0.5022 - loss: 2.8729 - note_outputs_loss: 2.3706\n",
            "Epoch 7/300\n",
            "\u001b[1m107/107\u001b[0m \u001b[32m━━━━━━━━━━━━━━━━━━━━\u001b[0m\u001b[37m\u001b[0m \u001b[1m6s\u001b[0m 54ms/step - duration_outputs_loss: 0.5910 - loss: 2.9262 - note_outputs_loss: 2.3352\n",
            "Epoch 8/300\n",
            "\u001b[1m107/107\u001b[0m \u001b[32m━━━━━━━━━━━━━━━━━━━━\u001b[0m\u001b[37m\u001b[0m \u001b[1m6s\u001b[0m 53ms/step - duration_outputs_loss: 0.5394 - loss: 2.8182 - note_outputs_loss: 2.2788\n",
            "Epoch 9/300\n",
            "\u001b[1m107/107\u001b[0m \u001b[32m━━━━━━━━━━━━━━━━━━━━\u001b[0m\u001b[37m\u001b[0m \u001b[1m6s\u001b[0m 54ms/step - duration_outputs_loss: 0.5628 - loss: 2.7914 - note_outputs_loss: 2.2285\n",
            "Epoch 10/300\n",
            "\u001b[1m107/107\u001b[0m \u001b[32m━━━━━━━━━━━━━━━━━━━━\u001b[0m\u001b[37m\u001b[0m \u001b[1m10s\u001b[0m 54ms/step - duration_outputs_loss: 0.5810 - loss: 2.8328 - note_outputs_loss: 2.2518\n",
            "Epoch 11/300\n",
            "\u001b[1m107/107\u001b[0m \u001b[32m━━━━━━━━━━━━━━━━━━━━\u001b[0m\u001b[37m\u001b[0m \u001b[1m6s\u001b[0m 54ms/step - duration_outputs_loss: 0.5788 - loss: 2.7506 - note_outputs_loss: 2.1718\n",
            "Epoch 12/300\n",
            "\u001b[1m107/107\u001b[0m \u001b[32m━━━━━━━━━━━━━━━━━━━━\u001b[0m\u001b[37m\u001b[0m \u001b[1m10s\u001b[0m 55ms/step - duration_outputs_loss: 0.5674 - loss: 2.7120 - note_outputs_loss: 2.1445\n",
            "Epoch 13/300\n",
            "\u001b[1m107/107\u001b[0m \u001b[32m━━━━━━━━━━━━━━━━━━━━\u001b[0m\u001b[37m\u001b[0m \u001b[1m6s\u001b[0m 55ms/step - duration_outputs_loss: 0.5352 - loss: 2.6551 - note_outputs_loss: 2.1199\n",
            "Epoch 14/300\n",
            "\u001b[1m107/107\u001b[0m \u001b[32m━━━━━━━━━━━━━━━━━━━━\u001b[0m\u001b[37m\u001b[0m \u001b[1m6s\u001b[0m 54ms/step - duration_outputs_loss: 0.5327 - loss: 2.6166 - note_outputs_loss: 2.0838\n",
            "Epoch 15/300\n",
            "\u001b[1m107/107\u001b[0m \u001b[32m━━━━━━━━━━━━━━━━━━━━\u001b[0m\u001b[37m\u001b[0m \u001b[1m6s\u001b[0m 56ms/step - duration_outputs_loss: 0.5669 - loss: 2.6065 - note_outputs_loss: 2.0396\n",
            "Epoch 16/300\n",
            "\u001b[1m107/107\u001b[0m \u001b[32m━━━━━━━━━━━━━━━━━━━━\u001b[0m\u001b[37m\u001b[0m \u001b[1m6s\u001b[0m 55ms/step - duration_outputs_loss: 0.5575 - loss: 2.5843 - note_outputs_loss: 2.0268\n",
            "Epoch 17/300\n",
            "\u001b[1m107/107\u001b[0m \u001b[32m━━━━━━━━━━━━━━━━━━━━\u001b[0m\u001b[37m\u001b[0m \u001b[1m6s\u001b[0m 57ms/step - duration_outputs_loss: 0.5808 - loss: 2.5665 - note_outputs_loss: 1.9856\n",
            "Epoch 18/300\n",
            "\u001b[1m107/107\u001b[0m \u001b[32m━━━━━━━━━━━━━━━━━━━━\u001b[0m\u001b[37m\u001b[0m \u001b[1m10s\u001b[0m 56ms/step - duration_outputs_loss: 0.5665 - loss: 2.5463 - note_outputs_loss: 1.9799\n",
            "Epoch 19/300\n",
            "\u001b[1m107/107\u001b[0m \u001b[32m━━━━━━━━━━━━━━━━━━━━\u001b[0m\u001b[37m\u001b[0m \u001b[1m6s\u001b[0m 57ms/step - duration_outputs_loss: 0.5656 - loss: 2.5546 - note_outputs_loss: 1.9890\n",
            "Epoch 20/300\n",
            "\u001b[1m107/107\u001b[0m \u001b[32m━━━━━━━━━━━━━━━━━━━━\u001b[0m\u001b[37m\u001b[0m \u001b[1m6s\u001b[0m 57ms/step - duration_outputs_loss: 0.5679 - loss: 2.4933 - note_outputs_loss: 1.9255\n",
            "Epoch 21/300\n",
            "\u001b[1m107/107\u001b[0m \u001b[32m━━━━━━━━━━━━━━━━━━━━\u001b[0m\u001b[37m\u001b[0m \u001b[1m6s\u001b[0m 58ms/step - duration_outputs_loss: 0.4953 - loss: 2.4269 - note_outputs_loss: 1.9316\n",
            "Epoch 22/300\n",
            "\u001b[1m107/107\u001b[0m \u001b[32m━━━━━━━━━━━━━━━━━━━━\u001b[0m\u001b[37m\u001b[0m \u001b[1m6s\u001b[0m 58ms/step - duration_outputs_loss: 0.5521 - loss: 2.4449 - note_outputs_loss: 1.8928\n",
            "Epoch 23/300\n",
            "\u001b[1m107/107\u001b[0m \u001b[32m━━━━━━━━━━━━━━━━━━━━\u001b[0m\u001b[37m\u001b[0m \u001b[1m6s\u001b[0m 59ms/step - duration_outputs_loss: 0.5141 - loss: 2.3670 - note_outputs_loss: 1.8529\n",
            "Epoch 24/300\n",
            "\u001b[1m107/107\u001b[0m \u001b[32m━━━━━━━━━━━━━━━━━━━━\u001b[0m\u001b[37m\u001b[0m \u001b[1m7s\u001b[0m 60ms/step - duration_outputs_loss: 0.5137 - loss: 2.3916 - note_outputs_loss: 1.8780\n",
            "Epoch 25/300\n",
            "\u001b[1m107/107\u001b[0m \u001b[32m━━━━━━━━━━━━━━━━━━━━\u001b[0m\u001b[37m\u001b[0m \u001b[1m6s\u001b[0m 60ms/step - duration_outputs_loss: 0.5314 - loss: 2.3762 - note_outputs_loss: 1.8448\n",
            "Epoch 26/300\n",
            "\u001b[1m107/107\u001b[0m \u001b[32m━━━━━━━━━━━━━━━━━━━━\u001b[0m\u001b[37m\u001b[0m \u001b[1m6s\u001b[0m 59ms/step - duration_outputs_loss: 0.5223 - loss: 2.3278 - note_outputs_loss: 1.8054\n",
            "Epoch 27/300\n",
            "\u001b[1m107/107\u001b[0m \u001b[32m━━━━━━━━━━━━━━━━━━━━\u001b[0m\u001b[37m\u001b[0m \u001b[1m6s\u001b[0m 58ms/step - duration_outputs_loss: 0.5257 - loss: 2.3137 - note_outputs_loss: 1.7880\n",
            "Epoch 28/300\n",
            "\u001b[1m107/107\u001b[0m \u001b[32m━━━━━━━━━━━━━━━━━━━━\u001b[0m\u001b[37m\u001b[0m \u001b[1m6s\u001b[0m 58ms/step - duration_outputs_loss: 0.5125 - loss: 2.2054 - note_outputs_loss: 1.6929\n",
            "Epoch 29/300\n",
            "\u001b[1m107/107\u001b[0m \u001b[32m━━━━━━━━━━━━━━━━━━━━\u001b[0m\u001b[37m\u001b[0m \u001b[1m6s\u001b[0m 57ms/step - duration_outputs_loss: 0.5778 - loss: 2.3240 - note_outputs_loss: 1.7462\n",
            "Epoch 30/300\n",
            "\u001b[1m107/107\u001b[0m \u001b[32m━━━━━━━━━━━━━━━━━━━━\u001b[0m\u001b[37m\u001b[0m \u001b[1m6s\u001b[0m 58ms/step - duration_outputs_loss: 0.5125 - loss: 2.1984 - note_outputs_loss: 1.6859\n",
            "Epoch 31/300\n",
            "\u001b[1m107/107\u001b[0m \u001b[32m━━━━━━━━━━━━━━━━━━━━\u001b[0m\u001b[37m\u001b[0m \u001b[1m6s\u001b[0m 57ms/step - duration_outputs_loss: 0.5518 - loss: 2.2478 - note_outputs_loss: 1.6960\n",
            "Epoch 32/300\n",
            "\u001b[1m107/107\u001b[0m \u001b[32m━━━━━━━━━━━━━━━━━━━━\u001b[0m\u001b[37m\u001b[0m \u001b[1m6s\u001b[0m 59ms/step - duration_outputs_loss: 0.5344 - loss: 2.1845 - note_outputs_loss: 1.6501\n",
            "Epoch 33/300\n",
            "\u001b[1m107/107\u001b[0m \u001b[32m━━━━━━━━━━━━━━━━━━━━\u001b[0m\u001b[37m\u001b[0m \u001b[1m6s\u001b[0m 57ms/step - duration_outputs_loss: 0.5261 - loss: 2.1481 - note_outputs_loss: 1.6220\n",
            "Epoch 34/300\n",
            "\u001b[1m107/107\u001b[0m \u001b[32m━━━━━━━━━━━━━━━━━━━━\u001b[0m\u001b[37m\u001b[0m \u001b[1m6s\u001b[0m 58ms/step - duration_outputs_loss: 0.5294 - loss: 2.0898 - note_outputs_loss: 1.5604\n",
            "Epoch 35/300\n",
            "\u001b[1m107/107\u001b[0m \u001b[32m━━━━━━━━━━━━━━━━━━━━\u001b[0m\u001b[37m\u001b[0m \u001b[1m6s\u001b[0m 58ms/step - duration_outputs_loss: 0.5709 - loss: 2.1249 - note_outputs_loss: 1.5539\n",
            "Epoch 36/300\n",
            "\u001b[1m107/107\u001b[0m \u001b[32m━━━━━━━━━━━━━━━━━━━━\u001b[0m\u001b[37m\u001b[0m \u001b[1m6s\u001b[0m 58ms/step - duration_outputs_loss: 0.4982 - loss: 2.0557 - note_outputs_loss: 1.5575\n",
            "Epoch 37/300\n",
            "\u001b[1m107/107\u001b[0m \u001b[32m━━━━━━━━━━━━━━━━━━━━\u001b[0m\u001b[37m\u001b[0m \u001b[1m6s\u001b[0m 59ms/step - duration_outputs_loss: 0.5368 - loss: 2.1003 - note_outputs_loss: 1.5635\n",
            "Epoch 38/300\n",
            "\u001b[1m107/107\u001b[0m \u001b[32m━━━━━━━━━━━━━━━━━━━━\u001b[0m\u001b[37m\u001b[0m \u001b[1m6s\u001b[0m 58ms/step - duration_outputs_loss: 0.5535 - loss: 2.1197 - note_outputs_loss: 1.5663\n",
            "Epoch 39/300\n",
            "\u001b[1m107/107\u001b[0m \u001b[32m━━━━━━━━━━━━━━━━━━━━\u001b[0m\u001b[37m\u001b[0m \u001b[1m6s\u001b[0m 60ms/step - duration_outputs_loss: 0.5125 - loss: 2.0566 - note_outputs_loss: 1.5441\n",
            "Epoch 40/300\n",
            "\u001b[1m107/107\u001b[0m \u001b[32m━━━━━━━━━━━━━━━━━━━━\u001b[0m\u001b[37m\u001b[0m \u001b[1m6s\u001b[0m 58ms/step - duration_outputs_loss: 0.5169 - loss: 1.9705 - note_outputs_loss: 1.4536\n",
            "Epoch 41/300\n",
            "\u001b[1m107/107\u001b[0m \u001b[32m━━━━━━━━━━━━━━━━━━━━\u001b[0m\u001b[37m\u001b[0m \u001b[1m6s\u001b[0m 59ms/step - duration_outputs_loss: 0.4583 - loss: 1.9444 - note_outputs_loss: 1.4861\n",
            "Epoch 42/300\n",
            "\u001b[1m107/107\u001b[0m \u001b[32m━━━━━━━━━━━━━━━━━━━━\u001b[0m\u001b[37m\u001b[0m \u001b[1m6s\u001b[0m 58ms/step - duration_outputs_loss: 0.5694 - loss: 2.0372 - note_outputs_loss: 1.4678\n",
            "Epoch 43/300\n",
            "\u001b[1m107/107\u001b[0m \u001b[32m━━━━━━━━━━━━━━━━━━━━\u001b[0m\u001b[37m\u001b[0m \u001b[1m6s\u001b[0m 59ms/step - duration_outputs_loss: 0.5280 - loss: 1.9750 - note_outputs_loss: 1.4470\n",
            "Epoch 44/300\n",
            "\u001b[1m107/107\u001b[0m \u001b[32m━━━━━━━━━━━━━━━━━━━━\u001b[0m\u001b[37m\u001b[0m \u001b[1m6s\u001b[0m 58ms/step - duration_outputs_loss: 0.5785 - loss: 2.0707 - note_outputs_loss: 1.4922\n",
            "Epoch 45/300\n",
            "\u001b[1m107/107\u001b[0m \u001b[32m━━━━━━━━━━━━━━━━━━━━\u001b[0m\u001b[37m\u001b[0m \u001b[1m6s\u001b[0m 58ms/step - duration_outputs_loss: 0.5081 - loss: 1.9231 - note_outputs_loss: 1.4150\n",
            "Epoch 46/300\n",
            "\u001b[1m107/107\u001b[0m \u001b[32m━━━━━━━━━━━━━━━━━━━━\u001b[0m\u001b[37m\u001b[0m \u001b[1m10s\u001b[0m 57ms/step - duration_outputs_loss: 0.5590 - loss: 1.9395 - note_outputs_loss: 1.3805\n",
            "Epoch 47/300\n",
            "\u001b[1m107/107\u001b[0m \u001b[32m━━━━━━━━━━━━━━━━━━━━\u001b[0m\u001b[37m\u001b[0m \u001b[1m6s\u001b[0m 59ms/step - duration_outputs_loss: 0.4868 - loss: 1.8626 - note_outputs_loss: 1.3758\n",
            "Epoch 48/300\n",
            "\u001b[1m107/107\u001b[0m \u001b[32m━━━━━━━━━━━━━━━━━━━━\u001b[0m\u001b[37m\u001b[0m \u001b[1m6s\u001b[0m 58ms/step - duration_outputs_loss: 0.4978 - loss: 1.8636 - note_outputs_loss: 1.3657\n",
            "Epoch 49/300\n",
            "\u001b[1m107/107\u001b[0m \u001b[32m━━━━━━━━━━━━━━━━━━━━\u001b[0m\u001b[37m\u001b[0m \u001b[1m6s\u001b[0m 60ms/step - duration_outputs_loss: 0.5338 - loss: 1.8855 - note_outputs_loss: 1.3517\n",
            "Epoch 50/300\n",
            "\u001b[1m107/107\u001b[0m \u001b[32m━━━━━━━━━━━━━━━━━━━━\u001b[0m\u001b[37m\u001b[0m \u001b[1m10s\u001b[0m 59ms/step - duration_outputs_loss: 0.5853 - loss: 1.9317 - note_outputs_loss: 1.3464\n",
            "Epoch 51/300\n",
            "\u001b[1m107/107\u001b[0m \u001b[32m━━━━━━━━━━━━━━━━━━━━\u001b[0m\u001b[37m\u001b[0m \u001b[1m10s\u001b[0m 58ms/step - duration_outputs_loss: 0.5482 - loss: 1.8685 - note_outputs_loss: 1.3203\n",
            "Epoch 52/300\n",
            "\u001b[1m107/107\u001b[0m \u001b[32m━━━━━━━━━━━━━━━━━━━━\u001b[0m\u001b[37m\u001b[0m \u001b[1m10s\u001b[0m 58ms/step - duration_outputs_loss: 0.5028 - loss: 1.8438 - note_outputs_loss: 1.3410\n",
            "Epoch 53/300\n",
            "\u001b[1m107/107\u001b[0m \u001b[32m━━━━━━━━━━━━━━━━━━━━\u001b[0m\u001b[37m\u001b[0m \u001b[1m10s\u001b[0m 60ms/step - duration_outputs_loss: 0.5496 - loss: 1.8206 - note_outputs_loss: 1.2709\n",
            "Epoch 54/300\n",
            "\u001b[1m107/107\u001b[0m \u001b[32m━━━━━━━━━━━━━━━━━━━━\u001b[0m\u001b[37m\u001b[0m \u001b[1m6s\u001b[0m 59ms/step - duration_outputs_loss: 0.5751 - loss: 1.8888 - note_outputs_loss: 1.3137\n",
            "Epoch 55/300\n",
            "\u001b[1m107/107\u001b[0m \u001b[32m━━━━━━━━━━━━━━━━━━━━\u001b[0m\u001b[37m\u001b[0m \u001b[1m7s\u001b[0m 60ms/step - duration_outputs_loss: 0.5675 - loss: 1.8218 - note_outputs_loss: 1.2543\n",
            "Epoch 56/300\n",
            "\u001b[1m107/107\u001b[0m \u001b[32m━━━━━━━━━━━━━━━━━━━━\u001b[0m\u001b[37m\u001b[0m \u001b[1m10s\u001b[0m 59ms/step - duration_outputs_loss: 0.5407 - loss: 1.7790 - note_outputs_loss: 1.2382\n",
            "Epoch 57/300\n",
            "\u001b[1m107/107\u001b[0m \u001b[32m━━━━━━━━━━━━━━━━━━━━\u001b[0m\u001b[37m\u001b[0m \u001b[1m10s\u001b[0m 58ms/step - duration_outputs_loss: 0.5548 - loss: 1.8387 - note_outputs_loss: 1.2839\n",
            "Epoch 58/300\n",
            "\u001b[1m107/107\u001b[0m \u001b[32m━━━━━━━━━━━━━━━━━━━━\u001b[0m\u001b[37m\u001b[0m \u001b[1m6s\u001b[0m 59ms/step - duration_outputs_loss: 0.5245 - loss: 1.7645 - note_outputs_loss: 1.2400\n",
            "Epoch 59/300\n",
            "\u001b[1m107/107\u001b[0m \u001b[32m━━━━━━━━━━━━━━━━━━━━\u001b[0m\u001b[37m\u001b[0m \u001b[1m6s\u001b[0m 58ms/step - duration_outputs_loss: 0.5500 - loss: 1.7916 - note_outputs_loss: 1.2416\n",
            "Epoch 60/300\n",
            "\u001b[1m107/107\u001b[0m \u001b[32m━━━━━━━━━━━━━━━━━━━━\u001b[0m\u001b[37m\u001b[0m \u001b[1m6s\u001b[0m 59ms/step - duration_outputs_loss: 0.5220 - loss: 1.7438 - note_outputs_loss: 1.2218\n",
            "Epoch 61/300\n",
            "\u001b[1m107/107\u001b[0m \u001b[32m━━━━━━━━━━━━━━━━━━━━\u001b[0m\u001b[37m\u001b[0m \u001b[1m10s\u001b[0m 57ms/step - duration_outputs_loss: 0.5102 - loss: 1.7599 - note_outputs_loss: 1.2496\n",
            "Epoch 62/300\n",
            "\u001b[1m107/107\u001b[0m \u001b[32m━━━━━━━━━━━━━━━━━━━━\u001b[0m\u001b[37m\u001b[0m \u001b[1m6s\u001b[0m 59ms/step - duration_outputs_loss: 0.5353 - loss: 1.7344 - note_outputs_loss: 1.1992\n",
            "Epoch 63/300\n",
            "\u001b[1m107/107\u001b[0m \u001b[32m━━━━━━━━━━━━━━━━━━━━\u001b[0m\u001b[37m\u001b[0m \u001b[1m6s\u001b[0m 58ms/step - duration_outputs_loss: 0.5568 - loss: 1.7715 - note_outputs_loss: 1.2147\n",
            "Epoch 64/300\n",
            "\u001b[1m107/107\u001b[0m \u001b[32m━━━━━━━━━━━━━━━━━━━━\u001b[0m\u001b[37m\u001b[0m \u001b[1m6s\u001b[0m 59ms/step - duration_outputs_loss: 0.4964 - loss: 1.6840 - note_outputs_loss: 1.1876\n",
            "Epoch 65/300\n",
            "\u001b[1m107/107\u001b[0m \u001b[32m━━━━━━━━━━━━━━━━━━━━\u001b[0m\u001b[37m\u001b[0m \u001b[1m6s\u001b[0m 59ms/step - duration_outputs_loss: 0.5044 - loss: 1.7223 - note_outputs_loss: 1.2179\n",
            "Epoch 66/300\n",
            "\u001b[1m107/107\u001b[0m \u001b[32m━━━━━━━━━━━━━━━━━━━━\u001b[0m\u001b[37m\u001b[0m \u001b[1m10s\u001b[0m 59ms/step - duration_outputs_loss: 0.4982 - loss: 1.6730 - note_outputs_loss: 1.1748\n",
            "Epoch 67/300\n",
            "\u001b[1m107/107\u001b[0m \u001b[32m━━━━━━━━━━━━━━━━━━━━\u001b[0m\u001b[37m\u001b[0m \u001b[1m6s\u001b[0m 58ms/step - duration_outputs_loss: 0.5467 - loss: 1.6983 - note_outputs_loss: 1.1517\n",
            "Epoch 68/300\n",
            "\u001b[1m107/107\u001b[0m \u001b[32m━━━━━━━━━━━━━━━━━━━━\u001b[0m\u001b[37m\u001b[0m \u001b[1m10s\u001b[0m 58ms/step - duration_outputs_loss: 0.5491 - loss: 1.7452 - note_outputs_loss: 1.1961\n",
            "Epoch 69/300\n",
            "\u001b[1m107/107\u001b[0m \u001b[32m━━━━━━━━━━━━━━━━━━━━\u001b[0m\u001b[37m\u001b[0m \u001b[1m6s\u001b[0m 59ms/step - duration_outputs_loss: 0.5655 - loss: 1.7327 - note_outputs_loss: 1.1673\n",
            "Epoch 70/300\n",
            "\u001b[1m107/107\u001b[0m \u001b[32m━━━━━━━━━━━━━━━━━━━━\u001b[0m\u001b[37m\u001b[0m \u001b[1m6s\u001b[0m 59ms/step - duration_outputs_loss: 0.5700 - loss: 1.6980 - note_outputs_loss: 1.1280\n",
            "Epoch 71/300\n",
            "\u001b[1m107/107\u001b[0m \u001b[32m━━━━━━━━━━━━━━━━━━━━\u001b[0m\u001b[37m\u001b[0m \u001b[1m6s\u001b[0m 60ms/step - duration_outputs_loss: 0.5124 - loss: 1.6784 - note_outputs_loss: 1.1661\n",
            "Epoch 72/300\n",
            "\u001b[1m107/107\u001b[0m \u001b[32m━━━━━━━━━━━━━━━━━━━━\u001b[0m\u001b[37m\u001b[0m \u001b[1m10s\u001b[0m 58ms/step - duration_outputs_loss: 0.5848 - loss: 1.6937 - note_outputs_loss: 1.1089\n",
            "Epoch 73/300\n",
            "\u001b[1m107/107\u001b[0m \u001b[32m━━━━━━━━━━━━━━━━━━━━\u001b[0m\u001b[37m\u001b[0m \u001b[1m6s\u001b[0m 60ms/step - duration_outputs_loss: 0.4833 - loss: 1.6195 - note_outputs_loss: 1.1362\n",
            "Epoch 74/300\n",
            "\u001b[1m107/107\u001b[0m \u001b[32m━━━━━━━━━━━━━━━━━━━━\u001b[0m\u001b[37m\u001b[0m \u001b[1m6s\u001b[0m 59ms/step - duration_outputs_loss: 0.5522 - loss: 1.6719 - note_outputs_loss: 1.1197\n",
            "Epoch 75/300\n",
            "\u001b[1m107/107\u001b[0m \u001b[32m━━━━━━━━━━━━━━━━━━━━\u001b[0m\u001b[37m\u001b[0m \u001b[1m6s\u001b[0m 59ms/step - duration_outputs_loss: 0.5627 - loss: 1.6746 - note_outputs_loss: 1.1119\n",
            "Epoch 76/300\n",
            "\u001b[1m107/107\u001b[0m \u001b[32m━━━━━━━━━━━━━━━━━━━━\u001b[0m\u001b[37m\u001b[0m \u001b[1m6s\u001b[0m 58ms/step - duration_outputs_loss: 0.5440 - loss: 1.6874 - note_outputs_loss: 1.1434\n",
            "Epoch 77/300\n",
            "\u001b[1m107/107\u001b[0m \u001b[32m━━━━━━━━━━━━━━━━━━━━\u001b[0m\u001b[37m\u001b[0m \u001b[1m6s\u001b[0m 59ms/step - duration_outputs_loss: 0.5288 - loss: 1.6835 - note_outputs_loss: 1.1547\n",
            "Epoch 78/300\n",
            "\u001b[1m107/107\u001b[0m \u001b[32m━━━━━━━━━━━━━━━━━━━━\u001b[0m\u001b[37m\u001b[0m \u001b[1m10s\u001b[0m 58ms/step - duration_outputs_loss: 0.5693 - loss: 1.6317 - note_outputs_loss: 1.0624\n",
            "Epoch 79/300\n",
            "\u001b[1m107/107\u001b[0m \u001b[32m━━━━━━━━━━━━━━━━━━━━\u001b[0m\u001b[37m\u001b[0m \u001b[1m10s\u001b[0m 58ms/step - duration_outputs_loss: 0.4952 - loss: 1.5897 - note_outputs_loss: 1.0946\n",
            "Epoch 80/300\n",
            "\u001b[1m107/107\u001b[0m \u001b[32m━━━━━━━━━━━━━━━━━━━━\u001b[0m\u001b[37m\u001b[0m \u001b[1m6s\u001b[0m 59ms/step - duration_outputs_loss: 0.5371 - loss: 1.6280 - note_outputs_loss: 1.0909\n",
            "Epoch 81/300\n",
            "\u001b[1m107/107\u001b[0m \u001b[32m━━━━━━━━━━━━━━━━━━━━\u001b[0m\u001b[37m\u001b[0m \u001b[1m6s\u001b[0m 58ms/step - duration_outputs_loss: 0.5281 - loss: 1.6175 - note_outputs_loss: 1.0894\n",
            "Epoch 82/300\n",
            "\u001b[1m107/107\u001b[0m \u001b[32m━━━━━━━━━━━━━━━━━━━━\u001b[0m\u001b[37m\u001b[0m \u001b[1m6s\u001b[0m 60ms/step - duration_outputs_loss: 0.5226 - loss: 1.5884 - note_outputs_loss: 1.0657\n",
            "Epoch 83/300\n",
            "\u001b[1m107/107\u001b[0m \u001b[32m━━━━━━━━━━━━━━━━━━━━\u001b[0m\u001b[37m\u001b[0m \u001b[1m7s\u001b[0m 60ms/step - duration_outputs_loss: 0.5859 - loss: 1.6550 - note_outputs_loss: 1.0691\n",
            "Epoch 84/300\n",
            "\u001b[1m107/107\u001b[0m \u001b[32m━━━━━━━━━━━━━━━━━━━━\u001b[0m\u001b[37m\u001b[0m \u001b[1m6s\u001b[0m 59ms/step - duration_outputs_loss: 0.5426 - loss: 1.6109 - note_outputs_loss: 1.0682\n",
            "Epoch 85/300\n",
            "\u001b[1m107/107\u001b[0m \u001b[32m━━━━━━━━━━━━━━━━━━━━\u001b[0m\u001b[37m\u001b[0m \u001b[1m10s\u001b[0m 58ms/step - duration_outputs_loss: 0.5064 - loss: 1.5799 - note_outputs_loss: 1.0735\n",
            "Epoch 86/300\n",
            "\u001b[1m107/107\u001b[0m \u001b[32m━━━━━━━━━━━━━━━━━━━━\u001b[0m\u001b[37m\u001b[0m \u001b[1m6s\u001b[0m 59ms/step - duration_outputs_loss: 0.5556 - loss: 1.5797 - note_outputs_loss: 1.0242\n",
            "Epoch 87/300\n",
            "\u001b[1m107/107\u001b[0m \u001b[32m━━━━━━━━━━━━━━━━━━━━\u001b[0m\u001b[37m\u001b[0m \u001b[1m6s\u001b[0m 58ms/step - duration_outputs_loss: 0.5123 - loss: 1.5297 - note_outputs_loss: 1.0173\n",
            "Epoch 88/300\n",
            "\u001b[1m107/107\u001b[0m \u001b[32m━━━━━━━━━━━━━━━━━━━━\u001b[0m\u001b[37m\u001b[0m \u001b[1m6s\u001b[0m 59ms/step - duration_outputs_loss: 0.5070 - loss: 1.5703 - note_outputs_loss: 1.0633\n",
            "Epoch 89/300\n",
            "\u001b[1m107/107\u001b[0m \u001b[32m━━━━━━━━━━━━━━━━━━━━\u001b[0m\u001b[37m\u001b[0m \u001b[1m10s\u001b[0m 58ms/step - duration_outputs_loss: 0.5193 - loss: 1.6057 - note_outputs_loss: 1.0864\n",
            "Epoch 90/300\n",
            "\u001b[1m107/107\u001b[0m \u001b[32m━━━━━━━━━━━━━━━━━━━━\u001b[0m\u001b[37m\u001b[0m \u001b[1m7s\u001b[0m 60ms/step - duration_outputs_loss: 0.6023 - loss: 1.6617 - note_outputs_loss: 1.0593\n",
            "Epoch 91/300\n",
            "\u001b[1m107/107\u001b[0m \u001b[32m━━━━━━━━━━━━━━━━━━━━\u001b[0m\u001b[37m\u001b[0m \u001b[1m7s\u001b[0m 60ms/step - duration_outputs_loss: 0.5378 - loss: 1.5811 - note_outputs_loss: 1.0433\n",
            "Epoch 92/300\n",
            "\u001b[1m107/107\u001b[0m \u001b[32m━━━━━━━━━━━━━━━━━━━━\u001b[0m\u001b[37m\u001b[0m \u001b[1m10s\u001b[0m 61ms/step - duration_outputs_loss: 0.4941 - loss: 1.5394 - note_outputs_loss: 1.0453\n",
            "Epoch 93/300\n",
            "\u001b[1m107/107\u001b[0m \u001b[32m━━━━━━━━━━━━━━━━━━━━\u001b[0m\u001b[37m\u001b[0m \u001b[1m10s\u001b[0m 60ms/step - duration_outputs_loss: 0.5055 - loss: 1.5427 - note_outputs_loss: 1.0371\n",
            "Epoch 94/300\n",
            "\u001b[1m107/107\u001b[0m \u001b[32m━━━━━━━━━━━━━━━━━━━━\u001b[0m\u001b[37m\u001b[0m \u001b[1m10s\u001b[0m 60ms/step - duration_outputs_loss: 0.5213 - loss: 1.5208 - note_outputs_loss: 0.9995\n",
            "Epoch 95/300\n",
            "\u001b[1m107/107\u001b[0m \u001b[32m━━━━━━━━━━━━━━━━━━━━\u001b[0m\u001b[37m\u001b[0m \u001b[1m10s\u001b[0m 61ms/step - duration_outputs_loss: 0.5214 - loss: 1.5373 - note_outputs_loss: 1.0159\n",
            "Epoch 96/300\n",
            "\u001b[1m107/107\u001b[0m \u001b[32m━━━━━━━━━━━━━━━━━━━━\u001b[0m\u001b[37m\u001b[0m \u001b[1m7s\u001b[0m 61ms/step - duration_outputs_loss: 0.4816 - loss: 1.5119 - note_outputs_loss: 1.0303\n",
            "Epoch 97/300\n",
            "\u001b[1m107/107\u001b[0m \u001b[32m━━━━━━━━━━━━━━━━━━━━\u001b[0m\u001b[37m\u001b[0m \u001b[1m7s\u001b[0m 60ms/step - duration_outputs_loss: 0.5354 - loss: 1.5375 - note_outputs_loss: 1.0021\n",
            "Epoch 98/300\n",
            "\u001b[1m107/107\u001b[0m \u001b[32m━━━━━━━━━━━━━━━━━━━━\u001b[0m\u001b[37m\u001b[0m \u001b[1m7s\u001b[0m 60ms/step - duration_outputs_loss: 0.5646 - loss: 1.5768 - note_outputs_loss: 1.0122\n",
            "Epoch 99/300\n",
            "\u001b[1m107/107\u001b[0m \u001b[32m━━━━━━━━━━━━━━━━━━━━\u001b[0m\u001b[37m\u001b[0m \u001b[1m6s\u001b[0m 59ms/step - duration_outputs_loss: 0.5040 - loss: 1.5457 - note_outputs_loss: 1.0416\n",
            "Epoch 100/300\n",
            "\u001b[1m107/107\u001b[0m \u001b[32m━━━━━━━━━━━━━━━━━━━━\u001b[0m\u001b[37m\u001b[0m \u001b[1m6s\u001b[0m 59ms/step - duration_outputs_loss: 0.4900 - loss: 1.5036 - note_outputs_loss: 1.0136\n",
            "Epoch 101/300\n",
            "\u001b[1m107/107\u001b[0m \u001b[32m━━━━━━━━━━━━━━━━━━━━\u001b[0m\u001b[37m\u001b[0m \u001b[1m6s\u001b[0m 58ms/step - duration_outputs_loss: 0.5094 - loss: 1.4868 - note_outputs_loss: 0.9774\n",
            "Epoch 102/300\n",
            "\u001b[1m107/107\u001b[0m \u001b[32m━━━━━━━━━━━━━━━━━━━━\u001b[0m\u001b[37m\u001b[0m \u001b[1m6s\u001b[0m 58ms/step - duration_outputs_loss: 0.5241 - loss: 1.5187 - note_outputs_loss: 0.9946\n",
            "Epoch 103/300\n",
            "\u001b[1m107/107\u001b[0m \u001b[32m━━━━━━━━━━━━━━━━━━━━\u001b[0m\u001b[37m\u001b[0m \u001b[1m10s\u001b[0m 57ms/step - duration_outputs_loss: 0.4604 - loss: 1.4247 - note_outputs_loss: 0.9643\n",
            "Epoch 104/300\n",
            "\u001b[1m107/107\u001b[0m \u001b[32m━━━━━━━━━━━━━━━━━━━━\u001b[0m\u001b[37m\u001b[0m \u001b[1m6s\u001b[0m 58ms/step - duration_outputs_loss: 0.5450 - loss: 1.5347 - note_outputs_loss: 0.9897\n",
            "Epoch 105/300\n",
            "\u001b[1m107/107\u001b[0m \u001b[32m━━━━━━━━━━━━━━━━━━━━\u001b[0m\u001b[37m\u001b[0m \u001b[1m6s\u001b[0m 58ms/step - duration_outputs_loss: 0.5346 - loss: 1.5122 - note_outputs_loss: 0.9776\n",
            "Epoch 106/300\n",
            "\u001b[1m107/107\u001b[0m \u001b[32m━━━━━━━━━━━━━━━━━━━━\u001b[0m\u001b[37m\u001b[0m \u001b[1m6s\u001b[0m 59ms/step - duration_outputs_loss: 0.5011 - loss: 1.4860 - note_outputs_loss: 0.9849\n",
            "Epoch 107/300\n",
            "\u001b[1m107/107\u001b[0m \u001b[32m━━━━━━━━━━━━━━━━━━━━\u001b[0m\u001b[37m\u001b[0m \u001b[1m10s\u001b[0m 59ms/step - duration_outputs_loss: 0.4801 - loss: 1.4586 - note_outputs_loss: 0.9785\n",
            "Epoch 108/300\n",
            "\u001b[1m107/107\u001b[0m \u001b[32m━━━━━━━━━━━━━━━━━━━━\u001b[0m\u001b[37m\u001b[0m \u001b[1m10s\u001b[0m 59ms/step - duration_outputs_loss: 0.5318 - loss: 1.5015 - note_outputs_loss: 0.9697\n",
            "Epoch 109/300\n",
            "\u001b[1m107/107\u001b[0m \u001b[32m━━━━━━━━━━━━━━━━━━━━\u001b[0m\u001b[37m\u001b[0m \u001b[1m6s\u001b[0m 59ms/step - duration_outputs_loss: 0.4792 - loss: 1.4428 - note_outputs_loss: 0.9636\n",
            "Epoch 110/300\n",
            "\u001b[1m107/107\u001b[0m \u001b[32m━━━━━━━━━━━━━━━━━━━━\u001b[0m\u001b[37m\u001b[0m \u001b[1m6s\u001b[0m 60ms/step - duration_outputs_loss: 0.5102 - loss: 1.4884 - note_outputs_loss: 0.9782\n",
            "Epoch 111/300\n",
            "\u001b[1m107/107\u001b[0m \u001b[32m━━━━━━━━━━━━━━━━━━━━\u001b[0m\u001b[37m\u001b[0m \u001b[1m7s\u001b[0m 60ms/step - duration_outputs_loss: 0.5434 - loss: 1.4983 - note_outputs_loss: 0.9549\n",
            "Epoch 112/300\n",
            "\u001b[1m107/107\u001b[0m \u001b[32m━━━━━━━━━━━━━━━━━━━━\u001b[0m\u001b[37m\u001b[0m \u001b[1m6s\u001b[0m 59ms/step - duration_outputs_loss: 0.5446 - loss: 1.5051 - note_outputs_loss: 0.9605\n",
            "Epoch 113/300\n",
            "\u001b[1m107/107\u001b[0m \u001b[32m━━━━━━━━━━━━━━━━━━━━\u001b[0m\u001b[37m\u001b[0m \u001b[1m6s\u001b[0m 59ms/step - duration_outputs_loss: 0.5541 - loss: 1.4901 - note_outputs_loss: 0.9360\n",
            "Epoch 114/300\n",
            "\u001b[1m107/107\u001b[0m \u001b[32m━━━━━━━━━━━━━━━━━━━━\u001b[0m\u001b[37m\u001b[0m \u001b[1m10s\u001b[0m 58ms/step - duration_outputs_loss: 0.5490 - loss: 1.4892 - note_outputs_loss: 0.9402\n",
            "Epoch 115/300\n",
            "\u001b[1m107/107\u001b[0m \u001b[32m━━━━━━━━━━━━━━━━━━━━\u001b[0m\u001b[37m\u001b[0m \u001b[1m6s\u001b[0m 58ms/step - duration_outputs_loss: 0.5565 - loss: 1.4912 - note_outputs_loss: 0.9347\n",
            "Epoch 116/300\n",
            "\u001b[1m107/107\u001b[0m \u001b[32m━━━━━━━━━━━━━━━━━━━━\u001b[0m\u001b[37m\u001b[0m \u001b[1m6s\u001b[0m 58ms/step - duration_outputs_loss: 0.4986 - loss: 1.4724 - note_outputs_loss: 0.9739\n",
            "Epoch 117/300\n",
            "\u001b[1m107/107\u001b[0m \u001b[32m━━━━━━━━━━━━━━━━━━━━\u001b[0m\u001b[37m\u001b[0m \u001b[1m6s\u001b[0m 60ms/step - duration_outputs_loss: 0.4941 - loss: 1.4407 - note_outputs_loss: 0.9466\n",
            "Epoch 118/300\n",
            "\u001b[1m107/107\u001b[0m \u001b[32m━━━━━━━━━━━━━━━━━━━━\u001b[0m\u001b[37m\u001b[0m \u001b[1m6s\u001b[0m 59ms/step - duration_outputs_loss: 0.5124 - loss: 1.4277 - note_outputs_loss: 0.9153\n",
            "Epoch 119/300\n",
            "\u001b[1m107/107\u001b[0m \u001b[32m━━━━━━━━━━━━━━━━━━━━\u001b[0m\u001b[37m\u001b[0m \u001b[1m6s\u001b[0m 60ms/step - duration_outputs_loss: 0.4986 - loss: 1.4602 - note_outputs_loss: 0.9616\n",
            "Epoch 120/300\n",
            "\u001b[1m107/107\u001b[0m \u001b[32m━━━━━━━━━━━━━━━━━━━━\u001b[0m\u001b[37m\u001b[0m \u001b[1m6s\u001b[0m 59ms/step - duration_outputs_loss: 0.5307 - loss: 1.4867 - note_outputs_loss: 0.9560\n",
            "Epoch 121/300\n",
            "\u001b[1m107/107\u001b[0m \u001b[32m━━━━━━━━━━━━━━━━━━━━\u001b[0m\u001b[37m\u001b[0m \u001b[1m6s\u001b[0m 59ms/step - duration_outputs_loss: 0.5607 - loss: 1.4830 - note_outputs_loss: 0.9223\n",
            "Epoch 122/300\n",
            "\u001b[1m107/107\u001b[0m \u001b[32m━━━━━━━━━━━━━━━━━━━━\u001b[0m\u001b[37m\u001b[0m \u001b[1m6s\u001b[0m 59ms/step - duration_outputs_loss: 0.5239 - loss: 1.4651 - note_outputs_loss: 0.9411\n",
            "Epoch 123/300\n",
            "\u001b[1m107/107\u001b[0m \u001b[32m━━━━━━━━━━━━━━━━━━━━\u001b[0m\u001b[37m\u001b[0m \u001b[1m6s\u001b[0m 59ms/step - duration_outputs_loss: 0.5460 - loss: 1.4926 - note_outputs_loss: 0.9466\n",
            "Epoch 124/300\n",
            "\u001b[1m107/107\u001b[0m \u001b[32m━━━━━━━━━━━━━━━━━━━━\u001b[0m\u001b[37m\u001b[0m \u001b[1m6s\u001b[0m 59ms/step - duration_outputs_loss: 0.5029 - loss: 1.4178 - note_outputs_loss: 0.9149\n",
            "Epoch 125/300\n",
            "\u001b[1m107/107\u001b[0m \u001b[32m━━━━━━━━━━━━━━━━━━━━\u001b[0m\u001b[37m\u001b[0m \u001b[1m6s\u001b[0m 59ms/step - duration_outputs_loss: 0.5431 - loss: 1.4762 - note_outputs_loss: 0.9330\n",
            "Epoch 126/300\n",
            "\u001b[1m107/107\u001b[0m \u001b[32m━━━━━━━━━━━━━━━━━━━━\u001b[0m\u001b[37m\u001b[0m \u001b[1m6s\u001b[0m 59ms/step - duration_outputs_loss: 0.5709 - loss: 1.5226 - note_outputs_loss: 0.9517\n",
            "Epoch 127/300\n",
            "\u001b[1m107/107\u001b[0m \u001b[32m━━━━━━━━━━━━━━━━━━━━\u001b[0m\u001b[37m\u001b[0m \u001b[1m6s\u001b[0m 58ms/step - duration_outputs_loss: 0.5394 - loss: 1.4355 - note_outputs_loss: 0.8961\n",
            "Epoch 128/300\n",
            "\u001b[1m107/107\u001b[0m \u001b[32m━━━━━━━━━━━━━━━━━━━━\u001b[0m\u001b[37m\u001b[0m \u001b[1m6s\u001b[0m 59ms/step - duration_outputs_loss: 0.5296 - loss: 1.4354 - note_outputs_loss: 0.9059\n",
            "Epoch 129/300\n",
            "\u001b[1m107/107\u001b[0m \u001b[32m━━━━━━━━━━━━━━━━━━━━\u001b[0m\u001b[37m\u001b[0m \u001b[1m10s\u001b[0m 58ms/step - duration_outputs_loss: 0.5405 - loss: 1.4759 - note_outputs_loss: 0.9354\n",
            "Epoch 130/300\n",
            "\u001b[1m107/107\u001b[0m \u001b[32m━━━━━━━━━━━━━━━━━━━━\u001b[0m\u001b[37m\u001b[0m \u001b[1m6s\u001b[0m 59ms/step - duration_outputs_loss: 0.5153 - loss: 1.4743 - note_outputs_loss: 0.9591\n",
            "Epoch 131/300\n",
            "\u001b[1m107/107\u001b[0m \u001b[32m━━━━━━━━━━━━━━━━━━━━\u001b[0m\u001b[37m\u001b[0m \u001b[1m6s\u001b[0m 59ms/step - duration_outputs_loss: 0.5086 - loss: 1.4399 - note_outputs_loss: 0.9312\n",
            "Epoch 132/300\n",
            "\u001b[1m107/107\u001b[0m \u001b[32m━━━━━━━━━━━━━━━━━━━━\u001b[0m\u001b[37m\u001b[0m \u001b[1m6s\u001b[0m 60ms/step - duration_outputs_loss: 0.5287 - loss: 1.4099 - note_outputs_loss: 0.8812\n",
            "Epoch 133/300\n",
            "\u001b[1m107/107\u001b[0m \u001b[32m━━━━━━━━━━━━━━━━━━━━\u001b[0m\u001b[37m\u001b[0m \u001b[1m6s\u001b[0m 60ms/step - duration_outputs_loss: 0.5100 - loss: 1.4398 - note_outputs_loss: 0.9298\n",
            "Epoch 134/300\n",
            "\u001b[1m107/107\u001b[0m \u001b[32m━━━━━━━━━━━━━━━━━━━━\u001b[0m\u001b[37m\u001b[0m \u001b[1m6s\u001b[0m 60ms/step - duration_outputs_loss: 0.5089 - loss: 1.4266 - note_outputs_loss: 0.9177\n",
            "Epoch 135/300\n",
            "\u001b[1m107/107\u001b[0m \u001b[32m━━━━━━━━━━━━━━━━━━━━\u001b[0m\u001b[37m\u001b[0m \u001b[1m10s\u001b[0m 58ms/step - duration_outputs_loss: 0.5196 - loss: 1.4279 - note_outputs_loss: 0.9082\n",
            "Epoch 136/300\n",
            "\u001b[1m107/107\u001b[0m \u001b[32m━━━━━━━━━━━━━━━━━━━━\u001b[0m\u001b[37m\u001b[0m \u001b[1m6s\u001b[0m 59ms/step - duration_outputs_loss: 0.5224 - loss: 1.4369 - note_outputs_loss: 0.9145\n",
            "Epoch 137/300\n",
            "\u001b[1m107/107\u001b[0m \u001b[32m━━━━━━━━━━━━━━━━━━━━\u001b[0m\u001b[37m\u001b[0m \u001b[1m6s\u001b[0m 58ms/step - duration_outputs_loss: 0.5426 - loss: 1.4362 - note_outputs_loss: 0.8936\n",
            "Epoch 138/300\n",
            "\u001b[1m107/107\u001b[0m \u001b[32m━━━━━━━━━━━━━━━━━━━━\u001b[0m\u001b[37m\u001b[0m \u001b[1m7s\u001b[0m 60ms/step - duration_outputs_loss: 0.4842 - loss: 1.3699 - note_outputs_loss: 0.8857\n",
            "Epoch 139/300\n",
            "\u001b[1m107/107\u001b[0m \u001b[32m━━━━━━━━━━━━━━━━━━━━\u001b[0m\u001b[37m\u001b[0m \u001b[1m6s\u001b[0m 59ms/step - duration_outputs_loss: 0.5551 - loss: 1.4345 - note_outputs_loss: 0.8794\n",
            "Epoch 140/300\n",
            "\u001b[1m107/107\u001b[0m \u001b[32m━━━━━━━━━━━━━━━━━━━━\u001b[0m\u001b[37m\u001b[0m \u001b[1m6s\u001b[0m 59ms/step - duration_outputs_loss: 0.5765 - loss: 1.4457 - note_outputs_loss: 0.8692\n",
            "Epoch 141/300\n",
            "\u001b[1m107/107\u001b[0m \u001b[32m━━━━━━━━━━━━━━━━━━━━\u001b[0m\u001b[37m\u001b[0m \u001b[1m6s\u001b[0m 59ms/step - duration_outputs_loss: 0.5284 - loss: 1.4411 - note_outputs_loss: 0.9126\n",
            "Epoch 142/300\n",
            "\u001b[1m107/107\u001b[0m \u001b[32m━━━━━━━━━━━━━━━━━━━━\u001b[0m\u001b[37m\u001b[0m \u001b[1m6s\u001b[0m 59ms/step - duration_outputs_loss: 0.4990 - loss: 1.4048 - note_outputs_loss: 0.9058\n",
            "Epoch 143/300\n",
            "\u001b[1m107/107\u001b[0m \u001b[32m━━━━━━━━━━━━━━━━━━━━\u001b[0m\u001b[37m\u001b[0m \u001b[1m6s\u001b[0m 59ms/step - duration_outputs_loss: 0.5827 - loss: 1.4631 - note_outputs_loss: 0.8804\n",
            "Epoch 144/300\n",
            "\u001b[1m107/107\u001b[0m \u001b[32m━━━━━━━━━━━━━━━━━━━━\u001b[0m\u001b[37m\u001b[0m \u001b[1m6s\u001b[0m 58ms/step - duration_outputs_loss: 0.5362 - loss: 1.4099 - note_outputs_loss: 0.8737\n",
            "Epoch 145/300\n",
            "\u001b[1m107/107\u001b[0m \u001b[32m━━━━━━━━━━━━━━━━━━━━\u001b[0m\u001b[37m\u001b[0m \u001b[1m10s\u001b[0m 58ms/step - duration_outputs_loss: 0.5820 - loss: 1.4957 - note_outputs_loss: 0.9137\n",
            "Epoch 146/300\n",
            "\u001b[1m107/107\u001b[0m \u001b[32m━━━━━━━━━━━━━━━━━━━━\u001b[0m\u001b[37m\u001b[0m \u001b[1m6s\u001b[0m 59ms/step - duration_outputs_loss: 0.5163 - loss: 1.4017 - note_outputs_loss: 0.8854\n",
            "Epoch 147/300\n",
            "\u001b[1m107/107\u001b[0m \u001b[32m━━━━━━━━━━━━━━━━━━━━\u001b[0m\u001b[37m\u001b[0m \u001b[1m6s\u001b[0m 59ms/step - duration_outputs_loss: 0.5268 - loss: 1.4198 - note_outputs_loss: 0.8931\n",
            "Epoch 148/300\n",
            "\u001b[1m107/107\u001b[0m \u001b[32m━━━━━━━━━━━━━━━━━━━━\u001b[0m\u001b[37m\u001b[0m \u001b[1m7s\u001b[0m 61ms/step - duration_outputs_loss: 0.5342 - loss: 1.4349 - note_outputs_loss: 0.9007\n",
            "Epoch 149/300\n",
            "\u001b[1m107/107\u001b[0m \u001b[32m━━━━━━━━━━━━━━━━━━━━\u001b[0m\u001b[37m\u001b[0m \u001b[1m10s\u001b[0m 59ms/step - duration_outputs_loss: 0.5297 - loss: 1.3795 - note_outputs_loss: 0.8499\n",
            "Epoch 150/300\n",
            "\u001b[1m107/107\u001b[0m \u001b[32m━━━━━━━━━━━━━━━━━━━━\u001b[0m\u001b[37m\u001b[0m \u001b[1m6s\u001b[0m 60ms/step - duration_outputs_loss: 0.5537 - loss: 1.4230 - note_outputs_loss: 0.8694\n",
            "Epoch 151/300\n",
            "\u001b[1m107/107\u001b[0m \u001b[32m━━━━━━━━━━━━━━━━━━━━\u001b[0m\u001b[37m\u001b[0m \u001b[1m6s\u001b[0m 59ms/step - duration_outputs_loss: 0.5835 - loss: 1.4689 - note_outputs_loss: 0.8853\n",
            "Epoch 152/300\n",
            "\u001b[1m107/107\u001b[0m \u001b[32m━━━━━━━━━━━━━━━━━━━━\u001b[0m\u001b[37m\u001b[0m \u001b[1m6s\u001b[0m 60ms/step - duration_outputs_loss: 0.5796 - loss: 1.4372 - note_outputs_loss: 0.8576\n",
            "Epoch 153/300\n",
            "\u001b[1m107/107\u001b[0m \u001b[32m━━━━━━━━━━━━━━━━━━━━\u001b[0m\u001b[37m\u001b[0m \u001b[1m6s\u001b[0m 59ms/step - duration_outputs_loss: 0.5110 - loss: 1.4032 - note_outputs_loss: 0.8922\n",
            "Epoch 154/300\n",
            "\u001b[1m107/107\u001b[0m \u001b[32m━━━━━━━━━━━━━━━━━━━━\u001b[0m\u001b[37m\u001b[0m \u001b[1m6s\u001b[0m 60ms/step - duration_outputs_loss: 0.4870 - loss: 1.3650 - note_outputs_loss: 0.8779\n",
            "Epoch 155/300\n",
            "\u001b[1m107/107\u001b[0m \u001b[32m━━━━━━━━━━━━━━━━━━━━\u001b[0m\u001b[37m\u001b[0m \u001b[1m10s\u001b[0m 59ms/step - duration_outputs_loss: 0.5994 - loss: 1.4607 - note_outputs_loss: 0.8613\n",
            "Epoch 156/300\n",
            "\u001b[1m107/107\u001b[0m \u001b[32m━━━━━━━━━━━━━━━━━━━━\u001b[0m\u001b[37m\u001b[0m \u001b[1m6s\u001b[0m 59ms/step - duration_outputs_loss: 0.5479 - loss: 1.3908 - note_outputs_loss: 0.8430\n",
            "Epoch 157/300\n",
            "\u001b[1m107/107\u001b[0m \u001b[32m━━━━━━━━━━━━━━━━━━━━\u001b[0m\u001b[37m\u001b[0m \u001b[1m6s\u001b[0m 59ms/step - duration_outputs_loss: 0.4831 - loss: 1.3329 - note_outputs_loss: 0.8498\n",
            "Epoch 158/300\n",
            "\u001b[1m107/107\u001b[0m \u001b[32m━━━━━━━━━━━━━━━━━━━━\u001b[0m\u001b[37m\u001b[0m \u001b[1m6s\u001b[0m 59ms/step - duration_outputs_loss: 0.5390 - loss: 1.3893 - note_outputs_loss: 0.8504\n",
            "Epoch 159/300\n",
            "\u001b[1m107/107\u001b[0m \u001b[32m━━━━━━━━━━━━━━━━━━━━\u001b[0m\u001b[37m\u001b[0m \u001b[1m6s\u001b[0m 59ms/step - duration_outputs_loss: 0.5121 - loss: 1.3626 - note_outputs_loss: 0.8505\n",
            "Epoch 160/300\n",
            "\u001b[1m107/107\u001b[0m \u001b[32m━━━━━━━━━━━━━━━━━━━━\u001b[0m\u001b[37m\u001b[0m \u001b[1m6s\u001b[0m 59ms/step - duration_outputs_loss: 0.5400 - loss: 1.3940 - note_outputs_loss: 0.8540\n",
            "Epoch 161/300\n",
            "\u001b[1m107/107\u001b[0m \u001b[32m━━━━━━━━━━━━━━━━━━━━\u001b[0m\u001b[37m\u001b[0m \u001b[1m10s\u001b[0m 58ms/step - duration_outputs_loss: 0.5410 - loss: 1.4021 - note_outputs_loss: 0.8611\n",
            "Epoch 162/300\n",
            "\u001b[1m107/107\u001b[0m \u001b[32m━━━━━━━━━━━━━━━━━━━━\u001b[0m\u001b[37m\u001b[0m \u001b[1m6s\u001b[0m 59ms/step - duration_outputs_loss: 0.5421 - loss: 1.4049 - note_outputs_loss: 0.8628\n",
            "Epoch 163/300\n",
            "\u001b[1m107/107\u001b[0m \u001b[32m━━━━━━━━━━━━━━━━━━━━\u001b[0m\u001b[37m\u001b[0m \u001b[1m6s\u001b[0m 59ms/step - duration_outputs_loss: 0.4992 - loss: 1.3780 - note_outputs_loss: 0.8789\n",
            "Epoch 164/300\n",
            "\u001b[1m107/107\u001b[0m \u001b[32m━━━━━━━━━━━━━━━━━━━━\u001b[0m\u001b[37m\u001b[0m \u001b[1m7s\u001b[0m 60ms/step - duration_outputs_loss: 0.5671 - loss: 1.4072 - note_outputs_loss: 0.8400\n",
            "Epoch 165/300\n",
            "\u001b[1m107/107\u001b[0m \u001b[32m━━━━━━━━━━━━━━━━━━━━\u001b[0m\u001b[37m\u001b[0m \u001b[1m6s\u001b[0m 60ms/step - duration_outputs_loss: 0.5381 - loss: 1.4042 - note_outputs_loss: 0.8662\n",
            "Epoch 166/300\n",
            "\u001b[1m107/107\u001b[0m \u001b[32m━━━━━━━━━━━━━━━━━━━━\u001b[0m\u001b[37m\u001b[0m \u001b[1m6s\u001b[0m 60ms/step - duration_outputs_loss: 0.5170 - loss: 1.3138 - note_outputs_loss: 0.7968\n",
            "Epoch 167/300\n",
            "\u001b[1m107/107\u001b[0m \u001b[32m━━━━━━━━━━━━━━━━━━━━\u001b[0m\u001b[37m\u001b[0m \u001b[1m10s\u001b[0m 59ms/step - duration_outputs_loss: 0.5093 - loss: 1.3463 - note_outputs_loss: 0.8369\n",
            "Epoch 168/300\n",
            "\u001b[1m107/107\u001b[0m \u001b[32m━━━━━━━━━━━━━━━━━━━━\u001b[0m\u001b[37m\u001b[0m \u001b[1m6s\u001b[0m 59ms/step - duration_outputs_loss: 0.5187 - loss: 1.3571 - note_outputs_loss: 0.8384\n",
            "Epoch 169/300\n",
            "\u001b[1m107/107\u001b[0m \u001b[32m━━━━━━━━━━━━━━━━━━━━\u001b[0m\u001b[37m\u001b[0m \u001b[1m6s\u001b[0m 59ms/step - duration_outputs_loss: 0.5418 - loss: 1.3906 - note_outputs_loss: 0.8488\n",
            "Epoch 170/300\n",
            "\u001b[1m107/107\u001b[0m \u001b[32m━━━━━━━━━━━━━━━━━━━━\u001b[0m\u001b[37m\u001b[0m \u001b[1m6s\u001b[0m 60ms/step - duration_outputs_loss: 0.5183 - loss: 1.4179 - note_outputs_loss: 0.8996\n",
            "Epoch 171/300\n",
            "\u001b[1m107/107\u001b[0m \u001b[32m━━━━━━━━━━━━━━━━━━━━\u001b[0m\u001b[37m\u001b[0m \u001b[1m6s\u001b[0m 59ms/step - duration_outputs_loss: 0.5534 - loss: 1.3896 - note_outputs_loss: 0.8362\n",
            "Epoch 172/300\n",
            "\u001b[1m107/107\u001b[0m \u001b[32m━━━━━━━━━━━━━━━━━━━━\u001b[0m\u001b[37m\u001b[0m \u001b[1m6s\u001b[0m 59ms/step - duration_outputs_loss: 0.5370 - loss: 1.3912 - note_outputs_loss: 0.8542\n",
            "Epoch 173/300\n",
            "\u001b[1m107/107\u001b[0m \u001b[32m━━━━━━━━━━━━━━━━━━━━\u001b[0m\u001b[37m\u001b[0m \u001b[1m6s\u001b[0m 59ms/step - duration_outputs_loss: 0.5050 - loss: 1.3457 - note_outputs_loss: 0.8407\n",
            "Epoch 174/300\n",
            "\u001b[1m107/107\u001b[0m \u001b[32m━━━━━━━━━━━━━━━━━━━━\u001b[0m\u001b[37m\u001b[0m \u001b[1m6s\u001b[0m 59ms/step - duration_outputs_loss: 0.5537 - loss: 1.3840 - note_outputs_loss: 0.8303\n",
            "Epoch 175/300\n",
            "\u001b[1m107/107\u001b[0m \u001b[32m━━━━━━━━━━━━━━━━━━━━\u001b[0m\u001b[37m\u001b[0m \u001b[1m10s\u001b[0m 59ms/step - duration_outputs_loss: 0.5456 - loss: 1.3864 - note_outputs_loss: 0.8408\n",
            "Epoch 176/300\n",
            "\u001b[1m107/107\u001b[0m \u001b[32m━━━━━━━━━━━━━━━━━━━━\u001b[0m\u001b[37m\u001b[0m \u001b[1m6s\u001b[0m 60ms/step - duration_outputs_loss: 0.5003 - loss: 1.3250 - note_outputs_loss: 0.8248\n",
            "Epoch 177/300\n",
            "\u001b[1m107/107\u001b[0m \u001b[32m━━━━━━━━━━━━━━━━━━━━\u001b[0m\u001b[37m\u001b[0m \u001b[1m6s\u001b[0m 59ms/step - duration_outputs_loss: 0.4866 - loss: 1.3664 - note_outputs_loss: 0.8797\n",
            "Epoch 178/300\n",
            "\u001b[1m107/107\u001b[0m \u001b[32m━━━━━━━━━━━━━━━━━━━━\u001b[0m\u001b[37m\u001b[0m \u001b[1m6s\u001b[0m 59ms/step - duration_outputs_loss: 0.5351 - loss: 1.3743 - note_outputs_loss: 0.8392\n",
            "Epoch 179/300\n",
            "\u001b[1m107/107\u001b[0m \u001b[32m━━━━━━━━━━━━━━━━━━━━\u001b[0m\u001b[37m\u001b[0m \u001b[1m6s\u001b[0m 59ms/step - duration_outputs_loss: 0.5081 - loss: 1.3552 - note_outputs_loss: 0.8471\n",
            "Epoch 180/300\n",
            "\u001b[1m107/107\u001b[0m \u001b[32m━━━━━━━━━━━━━━━━━━━━\u001b[0m\u001b[37m\u001b[0m \u001b[1m6s\u001b[0m 59ms/step - duration_outputs_loss: 0.5178 - loss: 1.3364 - note_outputs_loss: 0.8186\n",
            "Epoch 181/300\n",
            "\u001b[1m107/107\u001b[0m \u001b[32m━━━━━━━━━━━━━━━━━━━━\u001b[0m\u001b[37m\u001b[0m \u001b[1m6s\u001b[0m 59ms/step - duration_outputs_loss: 0.5540 - loss: 1.3852 - note_outputs_loss: 0.8311\n",
            "Epoch 182/300\n",
            "\u001b[1m107/107\u001b[0m \u001b[32m━━━━━━━━━━━━━━━━━━━━\u001b[0m\u001b[37m\u001b[0m \u001b[1m6s\u001b[0m 59ms/step - duration_outputs_loss: 0.5039 - loss: 1.2968 - note_outputs_loss: 0.7929\n",
            "Epoch 183/300\n",
            "\u001b[1m107/107\u001b[0m \u001b[32m━━━━━━━━━━━━━━━━━━━━\u001b[0m\u001b[37m\u001b[0m \u001b[1m10s\u001b[0m 58ms/step - duration_outputs_loss: 0.4745 - loss: 1.3032 - note_outputs_loss: 0.8287\n",
            "Epoch 184/300\n",
            "\u001b[1m107/107\u001b[0m \u001b[32m━━━━━━━━━━━━━━━━━━━━\u001b[0m\u001b[37m\u001b[0m \u001b[1m6s\u001b[0m 59ms/step - duration_outputs_loss: 0.5567 - loss: 1.3674 - note_outputs_loss: 0.8107\n",
            "Epoch 185/300\n",
            "\u001b[1m107/107\u001b[0m \u001b[32m━━━━━━━━━━━━━━━━━━━━\u001b[0m\u001b[37m\u001b[0m \u001b[1m6s\u001b[0m 59ms/step - duration_outputs_loss: 0.4944 - loss: 1.3236 - note_outputs_loss: 0.8292\n",
            "Epoch 186/300\n",
            "\u001b[1m107/107\u001b[0m \u001b[32m━━━━━━━━━━━━━━━━━━━━\u001b[0m\u001b[37m\u001b[0m \u001b[1m6s\u001b[0m 60ms/step - duration_outputs_loss: 0.5121 - loss: 1.3313 - note_outputs_loss: 0.8192\n",
            "Epoch 187/300\n",
            "\u001b[1m107/107\u001b[0m \u001b[32m━━━━━━━━━━━━━━━━━━━━\u001b[0m\u001b[37m\u001b[0m \u001b[1m6s\u001b[0m 60ms/step - duration_outputs_loss: 0.4941 - loss: 1.3251 - note_outputs_loss: 0.8310\n",
            "Epoch 188/300\n",
            "\u001b[1m107/107\u001b[0m \u001b[32m━━━━━━━━━━━━━━━━━━━━\u001b[0m\u001b[37m\u001b[0m \u001b[1m6s\u001b[0m 60ms/step - duration_outputs_loss: 0.5520 - loss: 1.3822 - note_outputs_loss: 0.8303\n",
            "Epoch 189/300\n",
            "\u001b[1m107/107\u001b[0m \u001b[32m━━━━━━━━━━━━━━━━━━━━\u001b[0m\u001b[37m\u001b[0m \u001b[1m10s\u001b[0m 59ms/step - duration_outputs_loss: 0.5200 - loss: 1.3430 - note_outputs_loss: 0.8230\n",
            "Epoch 190/300\n",
            "\u001b[1m107/107\u001b[0m \u001b[32m━━━━━━━━━━━━━━━━━━━━\u001b[0m\u001b[37m\u001b[0m \u001b[1m10s\u001b[0m 58ms/step - duration_outputs_loss: 0.5056 - loss: 1.3415 - note_outputs_loss: 0.8358\n",
            "Epoch 191/300\n",
            "\u001b[1m107/107\u001b[0m \u001b[32m━━━━━━━━━━━━━━━━━━━━\u001b[0m\u001b[37m\u001b[0m \u001b[1m6s\u001b[0m 59ms/step - duration_outputs_loss: 0.5655 - loss: 1.3881 - note_outputs_loss: 0.8226\n",
            "Epoch 192/300\n",
            "\u001b[1m107/107\u001b[0m \u001b[32m━━━━━━━━━━━━━━━━━━━━\u001b[0m\u001b[37m\u001b[0m \u001b[1m6s\u001b[0m 60ms/step - duration_outputs_loss: 0.5600 - loss: 1.3427 - note_outputs_loss: 0.7827\n",
            "Epoch 193/300\n",
            "\u001b[1m107/107\u001b[0m \u001b[32m━━━━━━━━━━━━━━━━━━━━\u001b[0m\u001b[37m\u001b[0m \u001b[1m7s\u001b[0m 60ms/step - duration_outputs_loss: 0.4625 - loss: 1.2631 - note_outputs_loss: 0.8007\n",
            "Epoch 194/300\n",
            "\u001b[1m107/107\u001b[0m \u001b[32m━━━━━━━━━━━━━━━━━━━━\u001b[0m\u001b[37m\u001b[0m \u001b[1m7s\u001b[0m 61ms/step - duration_outputs_loss: 0.5244 - loss: 1.3051 - note_outputs_loss: 0.7807\n",
            "Epoch 195/300\n",
            "\u001b[1m107/107\u001b[0m \u001b[32m━━━━━━━━━━━━━━━━━━━━\u001b[0m\u001b[37m\u001b[0m \u001b[1m6s\u001b[0m 60ms/step - duration_outputs_loss: 0.5284 - loss: 1.3830 - note_outputs_loss: 0.8546\n",
            "Epoch 196/300\n",
            "\u001b[1m107/107\u001b[0m \u001b[32m━━━━━━━━━━━━━━━━━━━━\u001b[0m\u001b[37m\u001b[0m \u001b[1m7s\u001b[0m 60ms/step - duration_outputs_loss: 0.5804 - loss: 1.3761 - note_outputs_loss: 0.7957\n",
            "Epoch 197/300\n",
            "\u001b[1m107/107\u001b[0m \u001b[32m━━━━━━━━━━━━━━━━━━━━\u001b[0m\u001b[37m\u001b[0m \u001b[1m6s\u001b[0m 59ms/step - duration_outputs_loss: 0.5515 - loss: 1.3913 - note_outputs_loss: 0.8398\n",
            "Epoch 198/300\n",
            "\u001b[1m107/107\u001b[0m \u001b[32m━━━━━━━━━━━━━━━━━━━━\u001b[0m\u001b[37m\u001b[0m \u001b[1m10s\u001b[0m 58ms/step - duration_outputs_loss: 0.5634 - loss: 1.3688 - note_outputs_loss: 0.8054\n",
            "Epoch 199/300\n",
            "\u001b[1m107/107\u001b[0m \u001b[32m━━━━━━━━━━━━━━━━━━━━\u001b[0m\u001b[37m\u001b[0m \u001b[1m6s\u001b[0m 60ms/step - duration_outputs_loss: 0.4786 - loss: 1.3019 - note_outputs_loss: 0.8233\n",
            "Epoch 200/300\n",
            "\u001b[1m107/107\u001b[0m \u001b[32m━━━━━━━━━━━━━━━━━━━━\u001b[0m\u001b[37m\u001b[0m \u001b[1m6s\u001b[0m 58ms/step - duration_outputs_loss: 0.4969 - loss: 1.3322 - note_outputs_loss: 0.8352\n",
            "Epoch 201/300\n",
            "\u001b[1m107/107\u001b[0m \u001b[32m━━━━━━━━━━━━━━━━━━━━\u001b[0m\u001b[37m\u001b[0m \u001b[1m6s\u001b[0m 60ms/step - duration_outputs_loss: 0.5348 - loss: 1.3601 - note_outputs_loss: 0.8253\n",
            "Epoch 202/300\n",
            "\u001b[1m107/107\u001b[0m \u001b[32m━━━━━━━━━━━━━━━━━━━━\u001b[0m\u001b[37m\u001b[0m \u001b[1m10s\u001b[0m 59ms/step - duration_outputs_loss: 0.5521 - loss: 1.3502 - note_outputs_loss: 0.7981\n",
            "Epoch 203/300\n",
            "\u001b[1m107/107\u001b[0m \u001b[32m━━━━━━━━━━━━━━━━━━━━\u001b[0m\u001b[37m\u001b[0m \u001b[1m6s\u001b[0m 59ms/step - duration_outputs_loss: 0.4915 - loss: 1.2860 - note_outputs_loss: 0.7946\n",
            "Epoch 204/300\n",
            "\u001b[1m107/107\u001b[0m \u001b[32m━━━━━━━━━━━━━━━━━━━━\u001b[0m\u001b[37m\u001b[0m \u001b[1m6s\u001b[0m 59ms/step - duration_outputs_loss: 0.5141 - loss: 1.3113 - note_outputs_loss: 0.7972\n",
            "Epoch 205/300\n",
            "\u001b[1m107/107\u001b[0m \u001b[32m━━━━━━━━━━━━━━━━━━━━\u001b[0m\u001b[37m\u001b[0m \u001b[1m7s\u001b[0m 60ms/step - duration_outputs_loss: 0.5156 - loss: 1.3584 - note_outputs_loss: 0.8429\n",
            "Epoch 206/300\n",
            "\u001b[1m107/107\u001b[0m \u001b[32m━━━━━━━━━━━━━━━━━━━━\u001b[0m\u001b[37m\u001b[0m \u001b[1m6s\u001b[0m 60ms/step - duration_outputs_loss: 0.5263 - loss: 1.3326 - note_outputs_loss: 0.8063\n",
            "Epoch 207/300\n",
            "\u001b[1m107/107\u001b[0m \u001b[32m━━━━━━━━━━━━━━━━━━━━\u001b[0m\u001b[37m\u001b[0m \u001b[1m6s\u001b[0m 60ms/step - duration_outputs_loss: 0.4999 - loss: 1.3142 - note_outputs_loss: 0.8144\n",
            "Epoch 208/300\n",
            "\u001b[1m107/107\u001b[0m \u001b[32m━━━━━━━━━━━━━━━━━━━━\u001b[0m\u001b[37m\u001b[0m \u001b[1m7s\u001b[0m 60ms/step - duration_outputs_loss: 0.5462 - loss: 1.3631 - note_outputs_loss: 0.8168\n",
            "Epoch 209/300\n",
            "\u001b[1m107/107\u001b[0m \u001b[32m━━━━━━━━━━━━━━━━━━━━\u001b[0m\u001b[37m\u001b[0m \u001b[1m6s\u001b[0m 59ms/step - duration_outputs_loss: 0.5362 - loss: 1.3446 - note_outputs_loss: 0.8085\n",
            "Epoch 210/300\n",
            "\u001b[1m107/107\u001b[0m \u001b[32m━━━━━━━━━━━━━━━━━━━━\u001b[0m\u001b[37m\u001b[0m \u001b[1m6s\u001b[0m 59ms/step - duration_outputs_loss: 0.5755 - loss: 1.3884 - note_outputs_loss: 0.8129\n",
            "Epoch 211/300\n",
            "\u001b[1m107/107\u001b[0m \u001b[32m━━━━━━━━━━━━━━━━━━━━\u001b[0m\u001b[37m\u001b[0m \u001b[1m6s\u001b[0m 59ms/step - duration_outputs_loss: 0.5587 - loss: 1.4003 - note_outputs_loss: 0.8416\n",
            "Epoch 212/300\n",
            "\u001b[1m107/107\u001b[0m \u001b[32m━━━━━━━━━━━━━━━━━━━━\u001b[0m\u001b[37m\u001b[0m \u001b[1m10s\u001b[0m 59ms/step - duration_outputs_loss: 0.5068 - loss: 1.3054 - note_outputs_loss: 0.7986\n",
            "Epoch 213/300\n",
            "\u001b[1m107/107\u001b[0m \u001b[32m━━━━━━━━━━━━━━━━━━━━\u001b[0m\u001b[37m\u001b[0m \u001b[1m6s\u001b[0m 59ms/step - duration_outputs_loss: 0.5036 - loss: 1.3215 - note_outputs_loss: 0.8178\n",
            "Epoch 214/300\n",
            "\u001b[1m107/107\u001b[0m \u001b[32m━━━━━━━━━━━━━━━━━━━━\u001b[0m\u001b[37m\u001b[0m \u001b[1m6s\u001b[0m 59ms/step - duration_outputs_loss: 0.5267 - loss: 1.3210 - note_outputs_loss: 0.7942\n",
            "Epoch 215/300\n",
            "\u001b[1m107/107\u001b[0m \u001b[32m━━━━━━━━━━━━━━━━━━━━\u001b[0m\u001b[37m\u001b[0m \u001b[1m7s\u001b[0m 61ms/step - duration_outputs_loss: 0.5234 - loss: 1.2796 - note_outputs_loss: 0.7561\n",
            "Epoch 216/300\n",
            "\u001b[1m107/107\u001b[0m \u001b[32m━━━━━━━━━━━━━━━━━━━━\u001b[0m\u001b[37m\u001b[0m \u001b[1m7s\u001b[0m 61ms/step - duration_outputs_loss: 0.5180 - loss: 1.2941 - note_outputs_loss: 0.7762\n",
            "Epoch 217/300\n",
            "\u001b[1m107/107\u001b[0m \u001b[32m━━━━━━━━━━━━━━━━━━━━\u001b[0m\u001b[37m\u001b[0m \u001b[1m7s\u001b[0m 60ms/step - duration_outputs_loss: 0.4927 - loss: 1.3082 - note_outputs_loss: 0.8155\n",
            "Epoch 218/300\n",
            "\u001b[1m107/107\u001b[0m \u001b[32m━━━━━━━━━━━━━━━━━━━━\u001b[0m\u001b[37m\u001b[0m \u001b[1m7s\u001b[0m 60ms/step - duration_outputs_loss: 0.5040 - loss: 1.2991 - note_outputs_loss: 0.7952\n",
            "Epoch 219/300\n",
            "\u001b[1m107/107\u001b[0m \u001b[32m━━━━━━━━━━━━━━━━━━━━\u001b[0m\u001b[37m\u001b[0m \u001b[1m10s\u001b[0m 59ms/step - duration_outputs_loss: 0.5264 - loss: 1.3190 - note_outputs_loss: 0.7926\n",
            "Epoch 220/300\n",
            "\u001b[1m107/107\u001b[0m \u001b[32m━━━━━━━━━━━━━━━━━━━━\u001b[0m\u001b[37m\u001b[0m \u001b[1m6s\u001b[0m 59ms/step - duration_outputs_loss: 0.4971 - loss: 1.2899 - note_outputs_loss: 0.7929\n",
            "Epoch 221/300\n",
            "\u001b[1m107/107\u001b[0m \u001b[32m━━━━━━━━━━━━━━━━━━━━\u001b[0m\u001b[37m\u001b[0m \u001b[1m6s\u001b[0m 59ms/step - duration_outputs_loss: 0.5195 - loss: 1.2999 - note_outputs_loss: 0.7804\n",
            "Epoch 222/300\n",
            "\u001b[1m107/107\u001b[0m \u001b[32m━━━━━━━━━━━━━━━━━━━━\u001b[0m\u001b[37m\u001b[0m \u001b[1m7s\u001b[0m 60ms/step - duration_outputs_loss: 0.5460 - loss: 1.3573 - note_outputs_loss: 0.8114\n",
            "Epoch 223/300\n",
            "\u001b[1m107/107\u001b[0m \u001b[32m━━━━━━━━━━━━━━━━━━━━\u001b[0m\u001b[37m\u001b[0m \u001b[1m6s\u001b[0m 60ms/step - duration_outputs_loss: 0.5069 - loss: 1.3025 - note_outputs_loss: 0.7956\n",
            "Epoch 224/300\n",
            "\u001b[1m107/107\u001b[0m \u001b[32m━━━━━━━━━━━━━━━━━━━━\u001b[0m\u001b[37m\u001b[0m \u001b[1m7s\u001b[0m 60ms/step - duration_outputs_loss: 0.5188 - loss: 1.3160 - note_outputs_loss: 0.7972\n",
            "Epoch 225/300\n",
            "\u001b[1m107/107\u001b[0m \u001b[32m━━━━━━━━━━━━━━━━━━━━\u001b[0m\u001b[37m\u001b[0m \u001b[1m6s\u001b[0m 59ms/step - duration_outputs_loss: 0.5453 - loss: 1.3349 - note_outputs_loss: 0.7896\n",
            "Epoch 226/300\n",
            "\u001b[1m107/107\u001b[0m \u001b[32m━━━━━━━━━━━━━━━━━━━━\u001b[0m\u001b[37m\u001b[0m \u001b[1m10s\u001b[0m 59ms/step - duration_outputs_loss: 0.5164 - loss: 1.3374 - note_outputs_loss: 0.8210\n",
            "Epoch 227/300\n",
            "\u001b[1m107/107\u001b[0m \u001b[32m━━━━━━━━━━━━━━━━━━━━\u001b[0m\u001b[37m\u001b[0m \u001b[1m7s\u001b[0m 60ms/step - duration_outputs_loss: 0.5350 - loss: 1.3055 - note_outputs_loss: 0.7705\n",
            "Epoch 228/300\n",
            "\u001b[1m107/107\u001b[0m \u001b[32m━━━━━━━━━━━━━━━━━━━━\u001b[0m\u001b[37m\u001b[0m \u001b[1m6s\u001b[0m 59ms/step - duration_outputs_loss: 0.4552 - loss: 1.2734 - note_outputs_loss: 0.8181\n",
            "Epoch 229/300\n",
            "\u001b[1m107/107\u001b[0m \u001b[32m━━━━━━━━━━━━━━━━━━━━\u001b[0m\u001b[37m\u001b[0m \u001b[1m7s\u001b[0m 60ms/step - duration_outputs_loss: 0.5435 - loss: 1.3292 - note_outputs_loss: 0.7857\n",
            "Epoch 230/300\n",
            "\u001b[1m107/107\u001b[0m \u001b[32m━━━━━━━━━━━━━━━━━━━━\u001b[0m\u001b[37m\u001b[0m \u001b[1m10s\u001b[0m 59ms/step - duration_outputs_loss: 0.5338 - loss: 1.3395 - note_outputs_loss: 0.8057\n",
            "Epoch 231/300\n",
            "\u001b[1m107/107\u001b[0m \u001b[32m━━━━━━━━━━━━━━━━━━━━\u001b[0m\u001b[37m\u001b[0m \u001b[1m6s\u001b[0m 60ms/step - duration_outputs_loss: 0.5671 - loss: 1.3465 - note_outputs_loss: 0.7794\n",
            "Epoch 232/300\n",
            "\u001b[1m107/107\u001b[0m \u001b[32m━━━━━━━━━━━━━━━━━━━━\u001b[0m\u001b[37m\u001b[0m \u001b[1m6s\u001b[0m 59ms/step - duration_outputs_loss: 0.5016 - loss: 1.3086 - note_outputs_loss: 0.8070\n",
            "Epoch 233/300\n",
            "\u001b[1m107/107\u001b[0m \u001b[32m━━━━━━━━━━━━━━━━━━━━\u001b[0m\u001b[37m\u001b[0m \u001b[1m7s\u001b[0m 60ms/step - duration_outputs_loss: 0.5345 - loss: 1.3290 - note_outputs_loss: 0.7946\n",
            "Epoch 234/300\n",
            "\u001b[1m107/107\u001b[0m \u001b[32m━━━━━━━━━━━━━━━━━━━━\u001b[0m\u001b[37m\u001b[0m \u001b[1m6s\u001b[0m 60ms/step - duration_outputs_loss: 0.5393 - loss: 1.3072 - note_outputs_loss: 0.7680\n",
            "Epoch 235/300\n",
            "\u001b[1m107/107\u001b[0m \u001b[32m━━━━━━━━━━━━━━━━━━━━\u001b[0m\u001b[37m\u001b[0m \u001b[1m6s\u001b[0m 59ms/step - duration_outputs_loss: 0.5559 - loss: 1.3167 - note_outputs_loss: 0.7608\n",
            "Epoch 236/300\n",
            "\u001b[1m107/107\u001b[0m \u001b[32m━━━━━━━━━━━━━━━━━━━━\u001b[0m\u001b[37m\u001b[0m \u001b[1m10s\u001b[0m 59ms/step - duration_outputs_loss: 0.5870 - loss: 1.4030 - note_outputs_loss: 0.8160\n",
            "Epoch 237/300\n",
            "\u001b[1m107/107\u001b[0m \u001b[32m━━━━━━━━━━━━━━━━━━━━\u001b[0m\u001b[37m\u001b[0m \u001b[1m6s\u001b[0m 59ms/step - duration_outputs_loss: 0.5377 - loss: 1.3474 - note_outputs_loss: 0.8097\n",
            "Epoch 238/300\n",
            "\u001b[1m107/107\u001b[0m \u001b[32m━━━━━━━━━━━━━━━━━━━━\u001b[0m\u001b[37m\u001b[0m \u001b[1m6s\u001b[0m 59ms/step - duration_outputs_loss: 0.5290 - loss: 1.3040 - note_outputs_loss: 0.7750\n",
            "Epoch 239/300\n",
            "\u001b[1m107/107\u001b[0m \u001b[32m━━━━━━━━━━━━━━━━━━━━\u001b[0m\u001b[37m\u001b[0m \u001b[1m7s\u001b[0m 60ms/step - duration_outputs_loss: 0.5387 - loss: 1.3128 - note_outputs_loss: 0.7741\n",
            "Epoch 240/300\n",
            "\u001b[1m107/107\u001b[0m \u001b[32m━━━━━━━━━━━━━━━━━━━━\u001b[0m\u001b[37m\u001b[0m \u001b[1m6s\u001b[0m 59ms/step - duration_outputs_loss: 0.4867 - loss: 1.2756 - note_outputs_loss: 0.7889\n",
            "Epoch 241/300\n",
            "\u001b[1m107/107\u001b[0m \u001b[32m━━━━━━━━━━━━━━━━━━━━\u001b[0m\u001b[37m\u001b[0m \u001b[1m6s\u001b[0m 60ms/step - duration_outputs_loss: 0.5272 - loss: 1.3569 - note_outputs_loss: 0.8298\n",
            "Epoch 242/300\n",
            "\u001b[1m107/107\u001b[0m \u001b[32m━━━━━━━━━━━━━━━━━━━━\u001b[0m\u001b[37m\u001b[0m \u001b[1m6s\u001b[0m 60ms/step - duration_outputs_loss: 0.5398 - loss: 1.2954 - note_outputs_loss: 0.7556\n",
            "Epoch 243/300\n",
            "\u001b[1m107/107\u001b[0m \u001b[32m━━━━━━━━━━━━━━━━━━━━\u001b[0m\u001b[37m\u001b[0m \u001b[1m6s\u001b[0m 59ms/step - duration_outputs_loss: 0.4973 - loss: 1.2435 - note_outputs_loss: 0.7463\n",
            "Epoch 244/300\n",
            "\u001b[1m107/107\u001b[0m \u001b[32m━━━━━━━━━━━━━━━━━━━━\u001b[0m\u001b[37m\u001b[0m \u001b[1m6s\u001b[0m 60ms/step - duration_outputs_loss: 0.4885 - loss: 1.2904 - note_outputs_loss: 0.8019\n",
            "Epoch 245/300\n",
            "\u001b[1m107/107\u001b[0m \u001b[32m━━━━━━━━━━━━━━━━━━━━\u001b[0m\u001b[37m\u001b[0m \u001b[1m6s\u001b[0m 59ms/step - duration_outputs_loss: 0.4882 - loss: 1.2514 - note_outputs_loss: 0.7632\n",
            "Epoch 246/300\n",
            "\u001b[1m107/107\u001b[0m \u001b[32m━━━━━━━━━━━━━━━━━━━━\u001b[0m\u001b[37m\u001b[0m \u001b[1m6s\u001b[0m 59ms/step - duration_outputs_loss: 0.4905 - loss: 1.2443 - note_outputs_loss: 0.7538\n",
            "Epoch 247/300\n",
            "\u001b[1m107/107\u001b[0m \u001b[32m━━━━━━━━━━━━━━━━━━━━\u001b[0m\u001b[37m\u001b[0m \u001b[1m6s\u001b[0m 59ms/step - duration_outputs_loss: 0.5433 - loss: 1.2973 - note_outputs_loss: 0.7540\n",
            "Epoch 248/300\n",
            "\u001b[1m107/107\u001b[0m \u001b[32m━━━━━━━━━━━━━━━━━━━━\u001b[0m\u001b[37m\u001b[0m \u001b[1m6s\u001b[0m 59ms/step - duration_outputs_loss: 0.5100 - loss: 1.2587 - note_outputs_loss: 0.7487\n",
            "Epoch 249/300\n",
            "\u001b[1m107/107\u001b[0m \u001b[32m━━━━━━━━━━━━━━━━━━━━\u001b[0m\u001b[37m\u001b[0m \u001b[1m6s\u001b[0m 59ms/step - duration_outputs_loss: 0.5907 - loss: 1.3569 - note_outputs_loss: 0.7662\n",
            "Epoch 250/300\n",
            "\u001b[1m107/107\u001b[0m \u001b[32m━━━━━━━━━━━━━━━━━━━━\u001b[0m\u001b[37m\u001b[0m \u001b[1m6s\u001b[0m 60ms/step - duration_outputs_loss: 0.4838 - loss: 1.2440 - note_outputs_loss: 0.7603\n",
            "Epoch 251/300\n",
            "\u001b[1m107/107\u001b[0m \u001b[32m━━━━━━━━━━━━━━━━━━━━\u001b[0m\u001b[37m\u001b[0m \u001b[1m6s\u001b[0m 59ms/step - duration_outputs_loss: 0.4935 - loss: 1.2762 - note_outputs_loss: 0.7827\n",
            "Epoch 252/300\n",
            "\u001b[1m107/107\u001b[0m \u001b[32m━━━━━━━━━━━━━━━━━━━━\u001b[0m\u001b[37m\u001b[0m \u001b[1m10s\u001b[0m 59ms/step - duration_outputs_loss: 0.5537 - loss: 1.3192 - note_outputs_loss: 0.7655\n",
            "Epoch 253/300\n",
            "\u001b[1m107/107\u001b[0m \u001b[32m━━━━━━━━━━━━━━━━━━━━\u001b[0m\u001b[37m\u001b[0m \u001b[1m6s\u001b[0m 59ms/step - duration_outputs_loss: 0.5492 - loss: 1.3136 - note_outputs_loss: 0.7644\n",
            "Epoch 254/300\n",
            "\u001b[1m107/107\u001b[0m \u001b[32m━━━━━━━━━━━━━━━━━━━━\u001b[0m\u001b[37m\u001b[0m \u001b[1m6s\u001b[0m 60ms/step - duration_outputs_loss: 0.5384 - loss: 1.3026 - note_outputs_loss: 0.7642\n",
            "Epoch 255/300\n",
            "\u001b[1m107/107\u001b[0m \u001b[32m━━━━━━━━━━━━━━━━━━━━\u001b[0m\u001b[37m\u001b[0m \u001b[1m7s\u001b[0m 60ms/step - duration_outputs_loss: 0.5171 - loss: 1.2669 - note_outputs_loss: 0.7498\n",
            "Epoch 256/300\n",
            "\u001b[1m107/107\u001b[0m \u001b[32m━━━━━━━━━━━━━━━━━━━━\u001b[0m\u001b[37m\u001b[0m \u001b[1m10s\u001b[0m 60ms/step - duration_outputs_loss: 0.4992 - loss: 1.2624 - note_outputs_loss: 0.7632\n",
            "Epoch 257/300\n",
            "\u001b[1m107/107\u001b[0m \u001b[32m━━━━━━━━━━━━━━━━━━━━\u001b[0m\u001b[37m\u001b[0m \u001b[1m6s\u001b[0m 60ms/step - duration_outputs_loss: 0.5455 - loss: 1.3010 - note_outputs_loss: 0.7556\n",
            "Epoch 258/300\n",
            "\u001b[1m107/107\u001b[0m \u001b[32m━━━━━━━━━━━━━━━━━━━━\u001b[0m\u001b[37m\u001b[0m \u001b[1m7s\u001b[0m 60ms/step - duration_outputs_loss: 0.4982 - loss: 1.2312 - note_outputs_loss: 0.7329\n",
            "Epoch 259/300\n",
            "\u001b[1m107/107\u001b[0m \u001b[32m━━━━━━━━━━━━━━━━━━━━\u001b[0m\u001b[37m\u001b[0m \u001b[1m6s\u001b[0m 60ms/step - duration_outputs_loss: 0.5479 - loss: 1.3341 - note_outputs_loss: 0.7861\n",
            "Epoch 260/300\n",
            "\u001b[1m107/107\u001b[0m \u001b[32m━━━━━━━━━━━━━━━━━━━━\u001b[0m\u001b[37m\u001b[0m \u001b[1m6s\u001b[0m 60ms/step - duration_outputs_loss: 0.5048 - loss: 1.2611 - note_outputs_loss: 0.7563\n",
            "Epoch 261/300\n",
            "\u001b[1m107/107\u001b[0m \u001b[32m━━━━━━━━━━━━━━━━━━━━\u001b[0m\u001b[37m\u001b[0m \u001b[1m6s\u001b[0m 59ms/step - duration_outputs_loss: 0.5024 - loss: 1.2736 - note_outputs_loss: 0.7712\n",
            "Epoch 262/300\n",
            "\u001b[1m107/107\u001b[0m \u001b[32m━━━━━━━━━━━━━━━━━━━━\u001b[0m\u001b[37m\u001b[0m \u001b[1m10s\u001b[0m 58ms/step - duration_outputs_loss: 0.4929 - loss: 1.2552 - note_outputs_loss: 0.7623\n",
            "Epoch 263/300\n",
            "\u001b[1m107/107\u001b[0m \u001b[32m━━━━━━━━━━━━━━━━━━━━\u001b[0m\u001b[37m\u001b[0m \u001b[1m6s\u001b[0m 58ms/step - duration_outputs_loss: 0.5513 - loss: 1.3298 - note_outputs_loss: 0.7784\n",
            "Epoch 264/300\n",
            "\u001b[1m107/107\u001b[0m \u001b[32m━━━━━━━━━━━━━━━━━━━━\u001b[0m\u001b[37m\u001b[0m \u001b[1m6s\u001b[0m 59ms/step - duration_outputs_loss: 0.5453 - loss: 1.3181 - note_outputs_loss: 0.7728\n",
            "Epoch 265/300\n",
            "\u001b[1m107/107\u001b[0m \u001b[32m━━━━━━━━━━━━━━━━━━━━\u001b[0m\u001b[37m\u001b[0m \u001b[1m6s\u001b[0m 60ms/step - duration_outputs_loss: 0.4839 - loss: 1.2267 - note_outputs_loss: 0.7428\n",
            "Epoch 266/300\n",
            "\u001b[1m107/107\u001b[0m \u001b[32m━━━━━━━━━━━━━━━━━━━━\u001b[0m\u001b[37m\u001b[0m \u001b[1m7s\u001b[0m 61ms/step - duration_outputs_loss: 0.4833 - loss: 1.2541 - note_outputs_loss: 0.7707\n",
            "Epoch 267/300\n",
            "\u001b[1m107/107\u001b[0m \u001b[32m━━━━━━━━━━━━━━━━━━━━\u001b[0m\u001b[37m\u001b[0m \u001b[1m7s\u001b[0m 61ms/step - duration_outputs_loss: 0.4927 - loss: 1.2632 - note_outputs_loss: 0.7705\n",
            "Epoch 268/300\n",
            "\u001b[1m107/107\u001b[0m \u001b[32m━━━━━━━━━━━━━━━━━━━━\u001b[0m\u001b[37m\u001b[0m \u001b[1m6s\u001b[0m 60ms/step - duration_outputs_loss: 0.5222 - loss: 1.2853 - note_outputs_loss: 0.7631\n",
            "Epoch 269/300\n",
            "\u001b[1m107/107\u001b[0m \u001b[32m━━━━━━━━━━━━━━━━━━━━\u001b[0m\u001b[37m\u001b[0m \u001b[1m6s\u001b[0m 59ms/step - duration_outputs_loss: 0.5557 - loss: 1.2908 - note_outputs_loss: 0.7351\n",
            "Epoch 270/300\n",
            "\u001b[1m107/107\u001b[0m \u001b[32m━━━━━━━━━━━━━━━━━━━━\u001b[0m\u001b[37m\u001b[0m \u001b[1m6s\u001b[0m 60ms/step - duration_outputs_loss: 0.5402 - loss: 1.3295 - note_outputs_loss: 0.7893\n",
            "Epoch 271/300\n",
            "\u001b[1m107/107\u001b[0m \u001b[32m━━━━━━━━━━━━━━━━━━━━\u001b[0m\u001b[37m\u001b[0m \u001b[1m10s\u001b[0m 59ms/step - duration_outputs_loss: 0.5349 - loss: 1.3099 - note_outputs_loss: 0.7750\n",
            "Epoch 272/300\n",
            "\u001b[1m107/107\u001b[0m \u001b[32m━━━━━━━━━━━━━━━━━━━━\u001b[0m\u001b[37m\u001b[0m \u001b[1m6s\u001b[0m 59ms/step - duration_outputs_loss: 0.5244 - loss: 1.2654 - note_outputs_loss: 0.7410\n",
            "Epoch 273/300\n",
            "\u001b[1m107/107\u001b[0m \u001b[32m━━━━━━━━━━━━━━━━━━━━\u001b[0m\u001b[37m\u001b[0m \u001b[1m6s\u001b[0m 59ms/step - duration_outputs_loss: 0.4977 - loss: 1.2722 - note_outputs_loss: 0.7744\n",
            "Epoch 274/300\n",
            "\u001b[1m107/107\u001b[0m \u001b[32m━━━━━━━━━━━━━━━━━━━━\u001b[0m\u001b[37m\u001b[0m \u001b[1m7s\u001b[0m 60ms/step - duration_outputs_loss: 0.5120 - loss: 1.2813 - note_outputs_loss: 0.7693\n",
            "Epoch 275/300\n",
            "\u001b[1m107/107\u001b[0m \u001b[32m━━━━━━━━━━━━━━━━━━━━\u001b[0m\u001b[37m\u001b[0m \u001b[1m6s\u001b[0m 60ms/step - duration_outputs_loss: 0.5560 - loss: 1.3395 - note_outputs_loss: 0.7835\n",
            "Epoch 276/300\n",
            "\u001b[1m107/107\u001b[0m \u001b[32m━━━━━━━━━━━━━━━━━━━━\u001b[0m\u001b[37m\u001b[0m \u001b[1m7s\u001b[0m 60ms/step - duration_outputs_loss: 0.5313 - loss: 1.2925 - note_outputs_loss: 0.7612\n",
            "Epoch 277/300\n",
            "\u001b[1m107/107\u001b[0m \u001b[32m━━━━━━━━━━━━━━━━━━━━\u001b[0m\u001b[37m\u001b[0m \u001b[1m6s\u001b[0m 60ms/step - duration_outputs_loss: 0.5431 - loss: 1.2868 - note_outputs_loss: 0.7437\n",
            "Epoch 278/300\n",
            "\u001b[1m107/107\u001b[0m \u001b[32m━━━━━━━━━━━━━━━━━━━━\u001b[0m\u001b[37m\u001b[0m \u001b[1m6s\u001b[0m 59ms/step - duration_outputs_loss: 0.5254 - loss: 1.2759 - note_outputs_loss: 0.7505\n",
            "Epoch 279/300\n",
            "\u001b[1m107/107\u001b[0m \u001b[32m━━━━━━━━━━━━━━━━━━━━\u001b[0m\u001b[37m\u001b[0m \u001b[1m6s\u001b[0m 59ms/step - duration_outputs_loss: 0.5865 - loss: 1.3233 - note_outputs_loss: 0.7369\n",
            "Epoch 280/300\n",
            "\u001b[1m107/107\u001b[0m \u001b[32m━━━━━━━━━━━━━━━━━━━━\u001b[0m\u001b[37m\u001b[0m \u001b[1m6s\u001b[0m 59ms/step - duration_outputs_loss: 0.5139 - loss: 1.2550 - note_outputs_loss: 0.7411\n",
            "Epoch 281/300\n",
            "\u001b[1m107/107\u001b[0m \u001b[32m━━━━━━━━━━━━━━━━━━━━\u001b[0m\u001b[37m\u001b[0m \u001b[1m10s\u001b[0m 59ms/step - duration_outputs_loss: 0.5157 - loss: 1.2613 - note_outputs_loss: 0.7456\n",
            "Epoch 282/300\n",
            "\u001b[1m107/107\u001b[0m \u001b[32m━━━━━━━━━━━━━━━━━━━━\u001b[0m\u001b[37m\u001b[0m \u001b[1m6s\u001b[0m 59ms/step - duration_outputs_loss: 0.5573 - loss: 1.2933 - note_outputs_loss: 0.7360\n",
            "Epoch 283/300\n",
            "\u001b[1m107/107\u001b[0m \u001b[32m━━━━━━━━━━━━━━━━━━━━\u001b[0m\u001b[37m\u001b[0m \u001b[1m6s\u001b[0m 59ms/step - duration_outputs_loss: 0.5197 - loss: 1.2705 - note_outputs_loss: 0.7508\n",
            "Epoch 284/300\n",
            "\u001b[1m107/107\u001b[0m \u001b[32m━━━━━━━━━━━━━━━━━━━━\u001b[0m\u001b[37m\u001b[0m \u001b[1m6s\u001b[0m 60ms/step - duration_outputs_loss: 0.5464 - loss: 1.3001 - note_outputs_loss: 0.7538\n",
            "Epoch 285/300\n",
            "\u001b[1m107/107\u001b[0m \u001b[32m━━━━━━━━━━━━━━━━━━━━\u001b[0m\u001b[37m\u001b[0m \u001b[1m10s\u001b[0m 60ms/step - duration_outputs_loss: 0.5549 - loss: 1.3169 - note_outputs_loss: 0.7620\n",
            "Epoch 286/300\n",
            "\u001b[1m107/107\u001b[0m \u001b[32m━━━━━━━━━━━━━━━━━━━━\u001b[0m\u001b[37m\u001b[0m \u001b[1m6s\u001b[0m 59ms/step - duration_outputs_loss: 0.5034 - loss: 1.2367 - note_outputs_loss: 0.7333\n",
            "Epoch 287/300\n",
            "\u001b[1m107/107\u001b[0m \u001b[32m━━━━━━━━━━━━━━━━━━━━\u001b[0m\u001b[37m\u001b[0m \u001b[1m6s\u001b[0m 60ms/step - duration_outputs_loss: 0.5013 - loss: 1.2366 - note_outputs_loss: 0.7353\n",
            "Epoch 288/300\n",
            "\u001b[1m107/107\u001b[0m \u001b[32m━━━━━━━━━━━━━━━━━━━━\u001b[0m\u001b[37m\u001b[0m \u001b[1m6s\u001b[0m 60ms/step - duration_outputs_loss: 0.5097 - loss: 1.2369 - note_outputs_loss: 0.7272\n",
            "Epoch 289/300\n",
            "\u001b[1m107/107\u001b[0m \u001b[32m━━━━━━━━━━━━━━━━━━━━\u001b[0m\u001b[37m\u001b[0m \u001b[1m6s\u001b[0m 60ms/step - duration_outputs_loss: 0.5241 - loss: 1.2537 - note_outputs_loss: 0.7296\n",
            "Epoch 290/300\n",
            "\u001b[1m107/107\u001b[0m \u001b[32m━━━━━━━━━━━━━━━━━━━━\u001b[0m\u001b[37m\u001b[0m \u001b[1m7s\u001b[0m 60ms/step - duration_outputs_loss: 0.4381 - loss: 1.1518 - note_outputs_loss: 0.7136\n",
            "Epoch 291/300\n",
            "\u001b[1m107/107\u001b[0m \u001b[32m━━━━━━━━━━━━━━━━━━━━\u001b[0m\u001b[37m\u001b[0m \u001b[1m10s\u001b[0m 59ms/step - duration_outputs_loss: 0.4982 - loss: 1.2305 - note_outputs_loss: 0.7323\n",
            "Epoch 292/300\n",
            "\u001b[1m107/107\u001b[0m \u001b[32m━━━━━━━━━━━━━━━━━━━━\u001b[0m\u001b[37m\u001b[0m \u001b[1m6s\u001b[0m 60ms/step - duration_outputs_loss: 0.5381 - loss: 1.2739 - note_outputs_loss: 0.7358\n",
            "Epoch 293/300\n",
            "\u001b[1m107/107\u001b[0m \u001b[32m━━━━━━━━━━━━━━━━━━━━\u001b[0m\u001b[37m\u001b[0m \u001b[1m6s\u001b[0m 59ms/step - duration_outputs_loss: 0.5710 - loss: 1.3024 - note_outputs_loss: 0.7314\n",
            "Epoch 294/300\n",
            "\u001b[1m107/107\u001b[0m \u001b[32m━━━━━━━━━━━━━━━━━━━━\u001b[0m\u001b[37m\u001b[0m \u001b[1m7s\u001b[0m 60ms/step - duration_outputs_loss: 0.5314 - loss: 1.2980 - note_outputs_loss: 0.7666\n",
            "Epoch 295/300\n",
            "\u001b[1m107/107\u001b[0m \u001b[32m━━━━━━━━━━━━━━━━━━━━\u001b[0m\u001b[37m\u001b[0m \u001b[1m6s\u001b[0m 59ms/step - duration_outputs_loss: 0.5093 - loss: 1.2612 - note_outputs_loss: 0.7519\n",
            "Epoch 296/300\n",
            "\u001b[1m107/107\u001b[0m \u001b[32m━━━━━━━━━━━━━━━━━━━━\u001b[0m\u001b[37m\u001b[0m \u001b[1m6s\u001b[0m 59ms/step - duration_outputs_loss: 0.5583 - loss: 1.3221 - note_outputs_loss: 0.7638\n",
            "Epoch 297/300\n",
            "\u001b[1m107/107\u001b[0m \u001b[32m━━━━━━━━━━━━━━━━━━━━\u001b[0m\u001b[37m\u001b[0m \u001b[1m10s\u001b[0m 59ms/step - duration_outputs_loss: 0.5652 - loss: 1.3037 - note_outputs_loss: 0.7385\n",
            "Epoch 298/300\n",
            "\u001b[1m107/107\u001b[0m \u001b[32m━━━━━━━━━━━━━━━━━━━━\u001b[0m\u001b[37m\u001b[0m \u001b[1m6s\u001b[0m 60ms/step - duration_outputs_loss: 0.4842 - loss: 1.2341 - note_outputs_loss: 0.7499\n",
            "Epoch 299/300\n",
            "\u001b[1m107/107\u001b[0m \u001b[32m━━━━━━━━━━━━━━━━━━━━\u001b[0m\u001b[37m\u001b[0m \u001b[1m6s\u001b[0m 60ms/step - duration_outputs_loss: 0.5115 - loss: 1.2231 - note_outputs_loss: 0.7117\n",
            "Epoch 300/300\n",
            "\u001b[1m107/107\u001b[0m \u001b[32m━━━━━━━━━━━━━━━━━━━━\u001b[0m\u001b[37m\u001b[0m \u001b[1m6s\u001b[0m 60ms/step - duration_outputs_loss: 0.5769 - loss: 1.3206 - note_outputs_loss: 0.7437\n"
          ]
        },
        {
          "output_type": "execute_result",
          "data": {
            "text/plain": [
              "<keras.src.callbacks.history.History at 0x7e7ec467ae00>"
            ]
          },
          "metadata": {},
          "execution_count": 25
        }
      ],
      "source": [
        "model.fit(\n",
        "    ds,\n",
        "    epochs=300,\n",
        "    callbacks=[\n",
        "        music_generator,\n",
        "    ],\n",
        ")"
      ]
    },
    {
      "cell_type": "code",
      "execution_count": 26,
      "id": "4de2131e-f13c-45af-ab8d-c361b0be8640",
      "metadata": {
        "id": "4de2131e-f13c-45af-ab8d-c361b0be8640"
      },
      "outputs": [],
      "source": [
        "# Save the final model\n",
        "model.save(\"/content/model.keras\")"
      ]
    },
    {
      "cell_type": "markdown",
      "id": "7f0445d3-5513-428b-995a-b337547d2a71",
      "metadata": {
        "id": "7f0445d3-5513-428b-995a-b337547d2a71"
      },
      "source": [
        "## 9. Generate music using the Transformer"
      ]
    },
    {
      "cell_type": "code",
      "execution_count": 27,
      "id": "a0776a68-d4c7-439b-a3fd-d9397b357662",
      "metadata": {
        "id": "a0776a68-d4c7-439b-a3fd-d9397b357662",
        "colab": {
          "base_uri": "https://localhost:8080/"
        },
        "outputId": "fee4d422-d258-4659-db70-b3b67116f33e"
      },
      "outputs": [
        {
          "output_type": "stream",
          "name": "stderr",
          "text": [
            "/usr/local/lib/python3.10/dist-packages/keras/src/ops/nn.py:545: UserWarning: You are using a softmax over axis 3 of a tensor of shape (1, 5, 1, 1). This axis has size 1. The softmax operation will always return the value 1, which is likely not what you intended. Did you mean to use a sigmoid instead?\n",
            "  warnings.warn(\n"
          ]
        }
      ],
      "source": [
        "info = music_generator.generate(\n",
        "    [\"START\"], [\"0.0\"], max_tokens=50, temperature=0.9\n",
        ")\n",
        "midi_stream = info[-1][\"midi\"].chordify()\n",
        "#midi_stream.show()"
      ]
    },
    {
      "cell_type": "markdown",
      "id": "8932e58a-5a9c-44a3-bff4-39c564fafdf4",
      "metadata": {
        "id": "8932e58a-5a9c-44a3-bff4-39c564fafdf4"
      },
      "source": [
        "## 10. Write music to MIDI file and output it in My Drive"
      ]
    },
    {
      "cell_type": "code",
      "execution_count": 28,
      "id": "2402314a-ca87-468e-a9d1-b79403fe7065",
      "metadata": {
        "id": "2402314a-ca87-468e-a9d1-b79403fe7065",
        "colab": {
          "base_uri": "https://localhost:8080/",
          "height": 35
        },
        "outputId": "4c05ca3d-51da-4f68-e004-48c1de178174"
      },
      "outputs": [
        {
          "output_type": "execute_result",
          "data": {
            "text/plain": [
              "'/content/drive/MyDrive/Colab Notebooks/GenAI/transformer_output/output-20241205-181549.mid'"
            ],
            "application/vnd.google.colaboratory.intrinsic+json": {
              "type": "string"
            }
          },
          "metadata": {},
          "execution_count": 28
        }
      ],
      "source": [
        "timestr = time.strftime(\"%Y%m%d-%H%M%S\")\n",
        "output_dir = \"/content/drive/MyDrive/Colab Notebooks/GenAI/transformer_output\"  # The directory to save the file\n",
        "\n",
        "# Create the output directory if it doesn't exist\n",
        "if not os.path.exists(output_dir):\n",
        "    os.makedirs(output_dir)\n",
        "\n",
        "midi_stream.write(\n",
        "    \"midi\",\n",
        "    fp=os.path.join(\n",
        "        output_dir,\n",
        "        \"output-\" + timestr + \".mid\",\n",
        "    ),\n",
        ")"
      ]
    },
    {
      "cell_type": "code",
      "source": [
        "from google.colab import drive\n",
        "drive.mount('/content/drive')"
      ],
      "metadata": {
        "id": "IHp-YcWiMXFd",
        "colab": {
          "base_uri": "https://localhost:8080/"
        },
        "outputId": "9eb6b185-d852-48b5-978b-68bc894be5ac"
      },
      "id": "IHp-YcWiMXFd",
      "execution_count": 29,
      "outputs": [
        {
          "output_type": "stream",
          "name": "stdout",
          "text": [
            "Drive already mounted at /content/drive; to attempt to forcibly remount, call drive.mount(\"/content/drive\", force_remount=True).\n"
          ]
        }
      ]
    },
    {
      "cell_type": "markdown",
      "id": "24eb14c3-9dab-42b9-8916-b9b3a4d38590",
      "metadata": {
        "id": "24eb14c3-9dab-42b9-8916-b9b3a4d38590"
      },
      "source": [
        "## 11. Note probabilities"
      ]
    },
    {
      "cell_type": "code",
      "execution_count": 30,
      "id": "c92ad9f2-74ed-4432-b633-f74fd17b6a49",
      "metadata": {
        "id": "c92ad9f2-74ed-4432-b633-f74fd17b6a49"
      },
      "outputs": [],
      "source": [
        "max_pitch = 70\n",
        "seq_len = len(info)\n",
        "grid = np.zeros((max_pitch, seq_len), dtype=np.float32)\n",
        "\n",
        "for j in range(seq_len):\n",
        "    for i, prob in enumerate(info[j][\"note_probs\"]):\n",
        "        try:\n",
        "            pitch = music21.note.Note(notes_vocab[i]).pitch.midi\n",
        "            grid[pitch, j] = prob\n",
        "        except:\n",
        "            pass  # Don't show key / time signatures"
      ]
    },
    {
      "cell_type": "code",
      "execution_count": 31,
      "id": "0d4ce565-a5d4-4cec-b321-1e02d814b65c",
      "metadata": {
        "id": "0d4ce565-a5d4-4cec-b321-1e02d814b65c",
        "colab": {
          "base_uri": "https://localhost:8080/",
          "height": 503
        },
        "outputId": "9f387b13-82ef-4b45-9a74-25bc254fd534"
      },
      "outputs": [
        {
          "output_type": "display_data",
          "data": {
            "text/plain": [
              "<Figure size 800x800 with 1 Axes>"
            ],
            "image/png": "[encoded data removed]"
          },
          "metadata": {
            "image/png": {
              "width": 667,
              "height": 486
            }
          }
        }
      ],
      "source": [
        "fig, ax = plt.subplots(figsize=(8, 8))\n",
        "ax.set_yticks([int(j) for j in range(35, 70)])\n",
        "plt.imshow(\n",
        "    grid[35:70, :],\n",
        "    origin=\"lower\",\n",
        "    cmap=\"coolwarm\",\n",
        "    vmin=-0.5,\n",
        "    vmax=0.5,\n",
        "    extent=[0, seq_len, 35, 70],\n",
        ")\n",
        "plt.show()"
      ]
    },
    {
      "cell_type": "markdown",
      "id": "bdae49db-6e0f-4071-a289-74310d684fab",
      "metadata": {
        "id": "bdae49db-6e0f-4071-a289-74310d684fab"
      },
      "source": [
        "## 12. Attention Plot"
      ]
    },
    {
      "cell_type": "code",
      "execution_count": 32,
      "id": "cf270a8f-da3f-4d21-b4f9-c19fcf7c4332",
      "metadata": {
        "id": "cf270a8f-da3f-4d21-b4f9-c19fcf7c4332"
      },
      "outputs": [],
      "source": [
        "plot_size = 20\n",
        "\n",
        "att_matrix = np.zeros((plot_size, plot_size))\n",
        "prediction_output = []\n",
        "last_prompt = []"
      ]
    },
    {
      "cell_type": "code",
      "execution_count": 33,
      "id": "6a3fcec1-f2fc-4dbc-b997-d00a958b6388",
      "metadata": {
        "tags": [],
        "id": "6a3fcec1-f2fc-4dbc-b997-d00a958b6388"
      },
      "outputs": [],
      "source": [
        "for j in range(plot_size):\n",
        "    atts = info[j][\"atts\"].max(axis=0)\n",
        "    att_matrix[: (j + 1), j] = atts\n",
        "    prediction_output.append(info[j][\"chosen_note\"][0])\n",
        "    last_prompt.append(info[j][\"prompt\"][0][-1])"
      ]
    },
    {
      "cell_type": "code",
      "execution_count": 34,
      "id": "6b2742cf-ad18-4c23-8181-5d868ca03c0f",
      "metadata": {
        "id": "6b2742cf-ad18-4c23-8181-5d868ca03c0f",
        "colab": {
          "base_uri": "https://localhost:8080/",
          "height": 717
        },
        "outputId": "206a4811-1921-48a9-f6df-fcf3bc455b98"
      },
      "outputs": [
        {
          "output_type": "display_data",
          "data": {
            "text/plain": [
              "<Figure size 800x800 with 1 Axes>"
            ],
            "image/png": "[encoded data removed]"
          },
          "metadata": {
            "image/png": {
              "width": 700,
              "height": 700
            }
          }
        }
      ],
      "source": [
        "# As you can see, this plot looks very similar to the causal masking.\n",
        "fig, ax = plt.subplots(figsize=(8, 8))\n",
        "im = ax.imshow(att_matrix, cmap=\"Greens\", interpolation=\"nearest\")\n",
        "\n",
        "ax.set_xticks(np.arange(-0.5, plot_size, 1), minor=True)\n",
        "ax.set_yticks(np.arange(-0.5, plot_size, 1), minor=True)\n",
        "ax.grid(which=\"minor\", color=\"black\", linestyle=\"-\", linewidth=1)\n",
        "ax.set_xticks(np.arange(plot_size))\n",
        "ax.set_yticks(np.arange(plot_size))\n",
        "ax.set_xticklabels(prediction_output[:plot_size])\n",
        "ax.set_yticklabels(last_prompt[:plot_size])\n",
        "ax.xaxis.tick_top()\n",
        "\n",
        "plt.setp(\n",
        "    ax.get_xticklabels(),\n",
        "    rotation=90,\n",
        "    ha=\"left\",\n",
        "    va=\"center\",\n",
        "    rotation_mode=\"anchor\",\n",
        ")\n",
        "plt.show()"
      ]
    },
    {
      "cell_type": "markdown",
      "source": [
        "## 13. Conclusion"
      ],
      "metadata": {
        "id": "gBO7O5d6By7F"
      },
      "id": "gBO7O5d6By7F"
    },
    {
      "cell_type": "markdown",
      "source": [
        "I was honestly impressed when I heard the music that I was able to generate. They obviously weren't the best songs I've ever heard, but they were able to flow and make sense, which was a great improvement from generating text. One thing I found interesting was that every piece except the 300 epochs piece switched clefs midway through. This could be because this transformer can't generate multiple lines of music that play at the same time. I'm no expert, but starting with 3 rests in a row as a solo instrument seems interesting. A big thing that separates my generated music versus Bach's is the fact that most of mine do not have any ties or slurs. They make Bach's music seem as one piece and everything goes smoother and more natural. There are some unnatural note patterns or jumps in the music I generated. The two most interesting generated pieces were the 100 epochs with temperature 0.5 and the 300 epochs with temperature 0.9. The former was the only one to generate music with any ties in it and the latter was the only one to not switch from bass to treble clef. If someone were to guess what artist this was based off of, they might say Bach because there are small hints of the famous Cello Suite 1 in the generations. In my subjective evalution, the generator did an OK job generating the music in the style of Bach. There would need to be many more epochs to generate music indistinguishable from Bach."
      ],
      "metadata": {
        "id": "5LgIbV5zB3Q_"
      },
      "id": "5LgIbV5zB3Q_"
    },
    {
      "cell_type": "markdown",
      "source": [
        "Quantitative Metrics? Are there any such metrics to evaluate a model’s training performance?\n",
        "* Yes. In this model specifically, we can take a look at the loss values as a quantitative evaluation during training. All of the loss values have decreased throughout, showing that the model has improved, but there are some portions in the middle where the loss values fluctuate."
      ],
      "metadata": {
        "id": "1DFD3VGZHMuF"
      },
      "id": "1DFD3VGZHMuF"
    },
    {
      "cell_type": "markdown",
      "source": [
        "Musical Quality? How can you determine if the generated music resembles Bach’s Cello Suites, both in structure and stylistic elements?\n",
        "* The first way to determine this is by expert evaluation. There are scholars who study music and actual composers who try to compose like famous artists.\n",
        "* The frequency and duration of each note can be analyzed to see if they match Bach. The way the music typically develops in a Bach piece is a more difficult way to analyze, but it can be done in something like the cello suites. Things like this can be done with the evaluation of a musicologist and by using tools, like a harmonic chart or a melody contour plot.\n",
        "* Using AI, you can use a GAN discriminator or some form of classifier to try to distinguish the pieces."
      ],
      "metadata": {
        "id": "__qXkdA1I47o"
      },
      "id": "__qXkdA1I47o"
    },
    {
      "cell_type": "markdown",
      "source": [
        "References:\n",
        "* https://github.com/bforoura/GenAI/blob/main/Module7/bach_transformer.ipynb\n",
        "* https://github.com/bforoura/GenAI/blob/main/Module7/bach_cello_suites.zip"
      ],
      "metadata": {
        "id": "yBC7luDtMqwn"
      },
      "id": "yBC7luDtMqwn"
    }
  ],
  "metadata": {
    "kernelspec": {
      "display_name": "Python 3",
      "name": "python3"
    },
    "language_info": {
      "codemirror_mode": {
        "name": "ipython",
        "version": 3
      },
      "file_extension": ".py",
      "mimetype": "text/x-python",
      "name": "python",
      "nbconvert_exporter": "python",
      "pygments_lexer": "ipython3",
      "version": "3.8.10"
    },
    "vscode": {
      "interpreter": {
        "hash": "aee8b7b246df8f9039afb4144a1f6fd8d2ca17a180786b69acc140d282b71a49"
      }
    },
    "colab": {
      "provenance": [],
      "gpuType": "T4",
      "include_colab_link": true
    },
    "accelerator": "GPU"
  },
  "nbformat": 4,
  "nbformat_minor": 5
}